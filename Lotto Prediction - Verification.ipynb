{
 "cells": [
  {
   "cell_type": "markdown",
   "id": "b71d4241",
   "metadata": {},
   "source": [
    "# California lotto number prediction project"
   ]
  },
  {
   "cell_type": "markdown",
   "id": "a6652049",
   "metadata": {},
   "source": [
    "### data load"
   ]
  },
  {
   "cell_type": "code",
   "execution_count": 1,
   "id": "812590bd",
   "metadata": {},
   "outputs": [],
   "source": [
    "import pandas as pd\n",
    "\n",
   # df = pd.read_csv(\"lotto.csv\", index_col=0) # No order\n",
    "df = pd.read_csv(\"lotto_ord.csv\", index_col=0) # with order"
   ]
  },
  {
   "cell_type": "markdown",
   "id": "10d6d42e",
   "metadata": {},
   "source": [
    "Use only the most recent n data"
   ]
  },
  {
   "cell_type": "code",
   "execution_count": 2,
   "id": "d5f5fe7c",
   "metadata": {},
   "outputs": [],
   "source": [
    "train = df[-200:]"
   ]
  },
  {
   "cell_type": "code",
   "execution_count": 3,
   "id": "8c269996",
   "metadata": {},
   "outputs": [],
   "source": [
    "valid = df[-300:-200]"
   ]
  },
  {
   "cell_type": "code",
   "execution_count": 4,
   "id": "1dbc1432",
   "metadata": {},
   "outputs": [
    {
     "data": {
      "text/html": [
       "<div>\n",
       "<style scoped>\n",
       "    .dataframe tbody tr th:only-of-type {\n",
       "        vertical-align: middle;\n",
       "    }\n",
       "\n",
       "    .dataframe tbody tr th {\n",
       "        vertical-align: top;\n",
       "    }\n",
       "\n",
       "    .dataframe thead th {\n",
       "        text-align: right;\n",
       "    }\n",
       "</style>\n",
       "<table border=\"1\" class=\"dataframe\">\n",
       "  <thead>\n",
       "    <tr style=\"text-align: right;\">\n",
       "      <th></th>\n",
       "      <th>1</th>\n",
       "      <th>2</th>\n",
       "      <th>3</th>\n",
       "      <th>4</th>\n",
       "      <th>5</th>\n",
       "      <th>6</th>\n",
       "      <th>B</th>\n",
       "    </tr>\n",
       "  </thead>\n",
       "  <tbody>\n",
       "    <tr>\n",
       "      <th>802</th>\n",
       "      <td>12</td>\n",
       "      <td>18</td>\n",
       "      <td>24</td>\n",
       "      <td>11</td>\n",
       "      <td>42</td>\n",
       "      <td>10</td>\n",
       "      <td>27</td>\n",
       "    </tr>\n",
       "    <tr>\n",
       "      <th>803</th>\n",
       "      <td>26</td>\n",
       "      <td>9</td>\n",
       "      <td>5</td>\n",
       "      <td>14</td>\n",
       "      <td>43</td>\n",
       "      <td>30</td>\n",
       "      <td>2</td>\n",
       "    </tr>\n",
       "    <tr>\n",
       "      <th>804</th>\n",
       "      <td>36</td>\n",
       "      <td>26</td>\n",
       "      <td>13</td>\n",
       "      <td>1</td>\n",
       "      <td>10</td>\n",
       "      <td>32</td>\n",
       "      <td>9</td>\n",
       "    </tr>\n",
       "    <tr>\n",
       "      <th>805</th>\n",
       "      <td>18</td>\n",
       "      <td>32</td>\n",
       "      <td>12</td>\n",
       "      <td>3</td>\n",
       "      <td>31</td>\n",
       "      <td>13</td>\n",
       "      <td>42</td>\n",
       "    </tr>\n",
       "    <tr>\n",
       "      <th>806</th>\n",
       "      <td>37</td>\n",
       "      <td>23</td>\n",
       "      <td>31</td>\n",
       "      <td>38</td>\n",
       "      <td>14</td>\n",
       "      <td>20</td>\n",
       "      <td>27</td>\n",
       "    </tr>\n",
       "    <tr>\n",
       "      <th>...</th>\n",
       "      <td>...</td>\n",
       "      <td>...</td>\n",
       "      <td>...</td>\n",
       "      <td>...</td>\n",
       "      <td>...</td>\n",
       "      <td>...</td>\n",
       "      <td>...</td>\n",
       "    </tr>\n",
       "    <tr>\n",
       "      <th>997</th>\n",
       "      <td>16</td>\n",
       "      <td>7</td>\n",
       "      <td>4</td>\n",
       "      <td>44</td>\n",
       "      <td>24</td>\n",
       "      <td>14</td>\n",
       "      <td>20</td>\n",
       "    </tr>\n",
       "    <tr>\n",
       "      <th>998</th>\n",
       "      <td>18</td>\n",
       "      <td>45</td>\n",
       "      <td>13</td>\n",
       "      <td>20</td>\n",
       "      <td>17</td>\n",
       "      <td>42</td>\n",
       "      <td>41</td>\n",
       "    </tr>\n",
       "    <tr>\n",
       "      <th>999</th>\n",
       "      <td>9</td>\n",
       "      <td>1</td>\n",
       "      <td>28</td>\n",
       "      <td>3</td>\n",
       "      <td>18</td>\n",
       "      <td>14</td>\n",
       "      <td>34</td>\n",
       "    </tr>\n",
       "    <tr>\n",
       "      <th>1000</th>\n",
       "      <td>19</td>\n",
       "      <td>2</td>\n",
       "      <td>8</td>\n",
       "      <td>22</td>\n",
       "      <td>42</td>\n",
       "      <td>32</td>\n",
       "      <td>39</td>\n",
       "    </tr>\n",
       "    <tr>\n",
       "      <th>1000</th>\n",
       "      <td>12</td>\n",
       "      <td>14</td>\n",
       "      <td>10</td>\n",
       "      <td>20</td>\n",
       "      <td>6</td>\n",
       "      <td>42</td>\n",
       "      <td>15</td>\n",
       "    </tr>\n",
       "  </tbody>\n",
       "</table>\n",
       "<p>200 rows × 7 columns</p>\n",
       "</div>"
      ],
      "text/plain": [
       "       1   2   3   4   5   6   B\n",
       "802   12  18  24  11  42  10  27\n",
       "803   26   9   5  14  43  30   2\n",
       "804   36  26  13   1  10  32   9\n",
       "805   18  32  12   3  31  13  42\n",
       "806   37  23  31  38  14  20  27\n",
       "...   ..  ..  ..  ..  ..  ..  ..\n",
       "997   16   7   4  44  24  14  20\n",
       "998   18  45  13  20  17  42  41\n",
       "999    9   1  28   3  18  14  34\n",
       "1000  19   2   8  22  42  32  39\n",
       "1000  12  14  10  20   6  42  15\n",
       "\n",
       "[200 rows x 7 columns]"
      ]
     },
     "execution_count": 4,
     "metadata": {},
     "output_type": "execute_result"
    }
   ],
   "source": [
    "train"
   ]
  },
  {
   "cell_type": "markdown",
   "id": "0395c17e",
   "metadata": {},
   "source": [
    "Process the winning number list to create sequences"
   ]
  },
  {
   "cell_type": "code",
   "execution_count": 5,
   "id": "7b8ffa7d",
   "metadata": {},
   "outputs": [
    {
     "name": "stdout",
     "output_type": "stream",
     "text": [
      "Number of samples to use for training: 1200\n"
     ]
    }
   ],
   "source": [
    "train_sequences = list()\n",
    "for _, seq in train.iterrows():\n",
    "    for i in range(1, len(seq)):\n",
    "        sequence = list(seq)[:i+1]\n",
    "        train_sequences.append(sequence)\n",
    "\n",
    "print('Number of samples to use for training: %d' % len(train_sequences))"
   ]
  },
  {
   "cell_type": "code",
   "execution_count": 6,
   "id": "66fd83f9",
   "metadata": {},
   "outputs": [
    {
     "data": {
      "text/plain": [
       "[12, 18, 24, 11, 42, 10, 27]"
      ]
     },
     "execution_count": 6,
     "metadata": {},
     "output_type": "execute_result"
    }
   ],
   "source": [
    "train.iloc[0].tolist()"
   ]
  },
  {
   "cell_type": "code",
   "execution_count": 7,
   "id": "45432608",
   "metadata": {},
   "outputs": [
    {
     "data": {
      "text/plain": [
       "[[12, 18],\n",
       " [12, 18, 24],\n",
       " [12, 18, 24, 11],\n",
       " [12, 18, 24, 11, 42],\n",
       " [12, 18, 24, 11, 42, 10]]"
      ]
     },
     "execution_count": 7,
     "metadata": {},
     "output_type": "execute_result"
    }
   ],
   "source": [
    "train_sequences[:5]"
   ]
  },
  {
   "cell_type": "markdown",
   "id": "3106e0cf",
   "metadata": {},
   "source": [
    "The same applies to verification data"
   ]
  },
  {
   "cell_type": "code",
   "execution_count": 8,
   "id": "d5dff15f",
   "metadata": {},
   "outputs": [
    {
     "name": "stdout",
     "output_type": "stream",
     "text": [
      "Number of samples to use for validation: 600\n"
     ]
    }
   ],
   "source": [
    "valid_sequences = list()\n",
    "for _, seq in valid.iterrows():\n",
    "    for i in range(1, len(seq)):\n",
    "        sequence = list(seq)[:i+1]\n",
    "        valid_sequences.append(sequence)\n",
    "        \n",
    "print('Number of samples to use for validation: %d' % len(valid_sequences))"
   ]
  },
  {
   "cell_type": "markdown",
   "id": "4557a79d",
   "metadata": {},
   "source": [
    "length of truncated sequences padding"
   ]
  },
  {
   "cell_type": "code",
   "execution_count": 9,
   "id": "495d609c",
   "metadata": {},
   "outputs": [],
   "source": [
    "from tensorflow.keras.preprocessing.sequence import pad_sequences\n",
    "\n",
    "train_sequences = pad_sequences(train_sequences, maxlen=7, padding='pre')\n",
    "valid_sequences = pad_sequences(valid_sequences, maxlen=7, padding='pre')"
   ]
  },
  {
   "cell_type": "code",
   "execution_count": 10,
   "id": "f20cc08a",
   "metadata": {},
   "outputs": [
    {
     "name": "stdout",
     "output_type": "stream",
     "text": [
      "X_train.shape: (1200, 6)\n",
      "y_train.shape: (1200,)\n",
      "X_valid.shape: (600, 6)\n",
      "y_valid.shape: (600,)\n"
     ]
    }
   ],
   "source": [
    "import numpy as np\n",
    "\n",
    "train_sequences = np.array(train_sequences)\n",
    "valid_sequences = np.array(valid_sequences)\n",
    "X_train = train_sequences[:,:-1]\n",
    "y_train = train_sequences[:,-1]\n",
    "X_valid = valid_sequences[:,:-1]\n",
    "y_valid = valid_sequences[:,-1]\n",
    "\n",
    "print(\"X_train.shape:\", X_train.shape)\n",
    "print(\"y_train.shape:\", y_train.shape)\n",
    "print(\"X_valid.shape:\", X_valid.shape)\n",
    "print(\"y_valid.shape:\", y_valid.shape)"
   ]
  },
  {
   "cell_type": "markdown",
   "id": "4f87c58b",
   "metadata": {},
   "source": [
    "It is filled with 0 after padding. (0-45 total of 46 sizes)"
   ]
  },
  {
   "cell_type": "code",
   "execution_count": 11,
   "id": "555e5ae0",
   "metadata": {},
   "outputs": [
    {
     "data": {
      "text/plain": [
       "array([[ 0,  0,  0,  0,  0, 12, 18],\n",
       "       [ 0,  0,  0,  0, 12, 18, 24],\n",
       "       [ 0,  0,  0, 12, 18, 24, 11],\n",
       "       [ 0,  0, 12, 18, 24, 11, 42],\n",
       "       [ 0, 12, 18, 24, 11, 42, 10]])"
      ]
     },
     "execution_count": 11,
     "metadata": {},
     "output_type": "execute_result"
    }
   ],
   "source": [
    "train_sequences[:5]"
   ]
  },
  {
   "cell_type": "markdown",
   "id": "14ab662d",
   "metadata": {},
   "source": [
    "### 모델 생성"
   ]
  },
  {
   "cell_type": "code",
   "execution_count": 12,
   "id": "134bb818",
   "metadata": {},
   "outputs": [],
   "source": [
    "from tensorflow.keras.models import Sequential\n",
    "from tensorflow.keras.layers import LSTM, Dense\n",
    "from tensorflow.keras.layers import Embedding\n",
    "\n",
    "model = Sequential()\n",
    "model.add(Embedding(45+1, 10))\n",
    "model.add(LSTM(64, input_shape=(6, 1), return_sequences=False))\n",
    "model.add(Dense(128, activation='relu'))\n",
    "model.add(Dense(45+1, activation='softmax'))\n",
    "model.compile(loss='sparse_categorical_crossentropy', optimizer='adam', metrics='acc')"
   ]
  },
  {
   "cell_type": "code",
   "execution_count": 13,
   "id": "effd6a7c",
   "metadata": {},
   "outputs": [
    {
     "name": "stdout",
     "output_type": "stream",
     "text": [
      "WARNING:tensorflow:From C:\\Users\\seungwon\\anaconda3\\envs\\scratch\\lib\\site-packages\\tensorflow\\python\\ops\\array_ops.py:5075: calling gather (from tensorflow.python.ops.array_ops) with validate_indices is deprecated and will be removed in a future version.\n",
      "Instructions for updating:\n",
      "The `validate_indices` argument has no effect. Indices are always validated on CPU and never validated on GPU.\n",
      "Epoch 1/200\n",
      "19/19 [==============================] - 3s 25ms/step - loss: 3.8285 - acc: 0.0225 - val_loss: 3.8274 - val_acc: 0.0133\n",
      "Epoch 2/200\n",
      "19/19 [==============================] - 0s 7ms/step - loss: 3.8231 - acc: 0.0267 - val_loss: 3.8261 - val_acc: 0.0133\n",
      "Epoch 3/200\n",
      "19/19 [==============================] - 0s 7ms/step - loss: 3.8163 - acc: 0.0233 - val_loss: 3.8272 - val_acc: 0.0167\n",
      "Epoch 4/200\n",
      "19/19 [==============================] - 0s 7ms/step - loss: 3.8068 - acc: 0.0283 - val_loss: 3.8313 - val_acc: 0.0150\n",
      "Epoch 5/200\n",
      "19/19 [==============================] - 0s 6ms/step - loss: 3.8026 - acc: 0.0275 - val_loss: 3.8261 - val_acc: 0.0167\n",
      "Epoch 6/200\n",
      "19/19 [==============================] - 0s 7ms/step - loss: 3.7975 - acc: 0.0283 - val_loss: 3.8224 - val_acc: 0.0133\n",
      "Epoch 7/200\n",
      "19/19 [==============================] - 0s 7ms/step - loss: 3.7949 - acc: 0.0267 - val_loss: 3.8216 - val_acc: 0.0267\n",
      "Epoch 8/200\n",
      "19/19 [==============================] - 0s 7ms/step - loss: 3.7912 - acc: 0.0292 - val_loss: 3.8209 - val_acc: 0.0133\n",
      "Epoch 9/200\n",
      "19/19 [==============================] - 0s 7ms/step - loss: 3.7880 - acc: 0.0358 - val_loss: 3.8258 - val_acc: 0.0117\n",
      "Epoch 10/200\n",
      "19/19 [==============================] - 0s 7ms/step - loss: 3.7804 - acc: 0.0308 - val_loss: 3.8246 - val_acc: 0.0300\n",
      "Epoch 11/200\n",
      "19/19 [==============================] - 0s 7ms/step - loss: 3.7754 - acc: 0.0308 - val_loss: 3.8305 - val_acc: 0.0300\n",
      "Epoch 12/200\n",
      "19/19 [==============================] - 0s 7ms/step - loss: 3.7621 - acc: 0.0358 - val_loss: 3.8388 - val_acc: 0.0217\n",
      "Epoch 13/200\n",
      "19/19 [==============================] - 0s 7ms/step - loss: 3.7505 - acc: 0.0425 - val_loss: 3.8468 - val_acc: 0.0150\n",
      "Epoch 14/200\n",
      "19/19 [==============================] - 0s 7ms/step - loss: 3.7379 - acc: 0.0492 - val_loss: 3.8574 - val_acc: 0.0167\n",
      "Epoch 15/200\n",
      "19/19 [==============================] - 0s 7ms/step - loss: 3.7254 - acc: 0.0492 - val_loss: 3.8611 - val_acc: 0.0317\n",
      "Epoch 16/200\n",
      "19/19 [==============================] - 0s 7ms/step - loss: 3.7174 - acc: 0.0592 - val_loss: 3.8810 - val_acc: 0.0217\n",
      "Epoch 17/200\n",
      "19/19 [==============================] - 0s 7ms/step - loss: 3.7037 - acc: 0.0517 - val_loss: 3.8796 - val_acc: 0.0200\n",
      "Epoch 18/200\n",
      "19/19 [==============================] - 0s 7ms/step - loss: 3.6885 - acc: 0.0592 - val_loss: 3.8899 - val_acc: 0.0283\n",
      "Epoch 19/200\n",
      "19/19 [==============================] - 0s 7ms/step - loss: 3.6735 - acc: 0.0642 - val_loss: 3.9109 - val_acc: 0.0233\n",
      "Epoch 20/200\n",
      "19/19 [==============================] - 0s 7ms/step - loss: 3.6547 - acc: 0.0625 - val_loss: 3.9289 - val_acc: 0.0233\n",
      "Epoch 21/200\n",
      "19/19 [==============================] - 0s 7ms/step - loss: 3.6438 - acc: 0.0592 - val_loss: 3.9496 - val_acc: 0.0217\n",
      "Epoch 22/200\n",
      "19/19 [==============================] - 0s 7ms/step - loss: 3.6269 - acc: 0.0708 - val_loss: 3.9892 - val_acc: 0.0350\n",
      "Epoch 23/200\n",
      "19/19 [==============================] - 0s 8ms/step - loss: 3.6116 - acc: 0.0733 - val_loss: 3.9989 - val_acc: 0.0283\n",
      "Epoch 24/200\n",
      "19/19 [==============================] - 0s 7ms/step - loss: 3.5947 - acc: 0.0700 - val_loss: 4.0155 - val_acc: 0.0167\n",
      "Epoch 25/200\n",
      "19/19 [==============================] - 0s 7ms/step - loss: 3.5778 - acc: 0.0750 - val_loss: 4.0189 - val_acc: 0.0250\n",
      "Epoch 26/200\n",
      "19/19 [==============================] - 0s 7ms/step - loss: 3.5594 - acc: 0.0758 - val_loss: 4.0615 - val_acc: 0.0200\n",
      "Epoch 27/200\n",
      "19/19 [==============================] - 0s 7ms/step - loss: 3.5533 - acc: 0.0833 - val_loss: 4.0688 - val_acc: 0.0200\n",
      "Epoch 28/200\n",
      "19/19 [==============================] - 0s 7ms/step - loss: 3.5248 - acc: 0.0825 - val_loss: 4.0967 - val_acc: 0.0233\n",
      "Epoch 29/200\n",
      "19/19 [==============================] - 0s 9ms/step - loss: 3.5089 - acc: 0.0742 - val_loss: 4.1204 - val_acc: 0.0217\n",
      "Epoch 30/200\n",
      "19/19 [==============================] - 0s 8ms/step - loss: 3.4931 - acc: 0.0842 - val_loss: 4.1533 - val_acc: 0.0267\n",
      "Epoch 31/200\n",
      "19/19 [==============================] - 0s 8ms/step - loss: 3.4711 - acc: 0.0883 - val_loss: 4.1941 - val_acc: 0.0283\n",
      "Epoch 32/200\n",
      "19/19 [==============================] - 0s 8ms/step - loss: 3.4650 - acc: 0.0975 - val_loss: 4.1482 - val_acc: 0.0267\n",
      "Epoch 33/200\n",
      "19/19 [==============================] - 0s 8ms/step - loss: 3.4412 - acc: 0.0925 - val_loss: 4.1748 - val_acc: 0.0317\n",
      "Epoch 34/200\n",
      "19/19 [==============================] - 0s 7ms/step - loss: 3.4220 - acc: 0.0967 - val_loss: 4.2224 - val_acc: 0.0267\n",
      "Epoch 35/200\n",
      "19/19 [==============================] - 0s 7ms/step - loss: 3.4072 - acc: 0.0958 - val_loss: 4.2898 - val_acc: 0.0250\n",
      "Epoch 36/200\n",
      "19/19 [==============================] - 0s 7ms/step - loss: 3.3912 - acc: 0.1125 - val_loss: 4.2642 - val_acc: 0.0267\n",
      "Epoch 37/200\n",
      "19/19 [==============================] - 0s 8ms/step - loss: 3.3573 - acc: 0.1083 - val_loss: 4.3116 - val_acc: 0.0300\n",
      "Epoch 38/200\n",
      "19/19 [==============================] - 0s 7ms/step - loss: 3.3375 - acc: 0.1142 - val_loss: 4.3363 - val_acc: 0.0217\n",
      "Epoch 39/200\n",
      "19/19 [==============================] - 0s 8ms/step - loss: 3.3081 - acc: 0.1250 - val_loss: 4.3966 - val_acc: 0.0250\n",
      "Epoch 40/200\n",
      "19/19 [==============================] - 0s 8ms/step - loss: 3.2906 - acc: 0.1292 - val_loss: 4.3652 - val_acc: 0.0233\n",
      "Epoch 41/200\n",
      "19/19 [==============================] - 0s 8ms/step - loss: 3.2700 - acc: 0.1350 - val_loss: 4.4600 - val_acc: 0.0283\n",
      "Epoch 42/200\n",
      "19/19 [==============================] - 0s 7ms/step - loss: 3.2465 - acc: 0.1392 - val_loss: 4.4997 - val_acc: 0.0217\n",
      "Epoch 43/200\n",
      "19/19 [==============================] - 0s 7ms/step - loss: 3.2233 - acc: 0.1433 - val_loss: 4.4824 - val_acc: 0.0283\n",
      "Epoch 44/200\n",
      "19/19 [==============================] - 0s 7ms/step - loss: 3.2101 - acc: 0.1517 - val_loss: 4.5147 - val_acc: 0.0283\n",
      "Epoch 45/200\n",
      "19/19 [==============================] - 0s 7ms/step - loss: 3.1767 - acc: 0.1558 - val_loss: 4.5224 - val_acc: 0.0250\n",
      "Epoch 46/200\n",
      "19/19 [==============================] - 0s 7ms/step - loss: 3.1536 - acc: 0.1667 - val_loss: 4.6408 - val_acc: 0.0217\n",
      "Epoch 47/200\n",
      "19/19 [==============================] - 0s 7ms/step - loss: 3.1423 - acc: 0.1600 - val_loss: 4.6100 - val_acc: 0.0200\n",
      "Epoch 48/200\n",
      "19/19 [==============================] - 0s 7ms/step - loss: 3.1130 - acc: 0.1758 - val_loss: 4.7296 - val_acc: 0.0233\n",
      "Epoch 49/200\n",
      "19/19 [==============================] - 0s 7ms/step - loss: 3.0918 - acc: 0.1767 - val_loss: 4.6829 - val_acc: 0.0200\n",
      "Epoch 50/200\n",
      "19/19 [==============================] - 0s 7ms/step - loss: 3.0610 - acc: 0.1850 - val_loss: 4.6771 - val_acc: 0.0300\n",
      "Epoch 51/200\n",
      "19/19 [==============================] - 0s 7ms/step - loss: 3.0412 - acc: 0.1975 - val_loss: 4.7845 - val_acc: 0.0217\n",
      "Epoch 52/200\n",
      "19/19 [==============================] - 0s 7ms/step - loss: 3.0158 - acc: 0.1933 - val_loss: 4.7759 - val_acc: 0.0183\n",
      "Epoch 53/200\n",
      "19/19 [==============================] - 0s 7ms/step - loss: 2.9803 - acc: 0.2150 - val_loss: 4.8136 - val_acc: 0.0283\n",
      "Epoch 54/200\n",
      "19/19 [==============================] - 0s 7ms/step - loss: 2.9627 - acc: 0.2225 - val_loss: 4.7769 - val_acc: 0.0267\n",
      "Epoch 55/200\n",
      "19/19 [==============================] - 0s 8ms/step - loss: 2.9343 - acc: 0.2158 - val_loss: 4.8526 - val_acc: 0.0217\n",
      "Epoch 56/200\n",
      "19/19 [==============================] - 0s 7ms/step - loss: 2.9044 - acc: 0.2267 - val_loss: 4.9108 - val_acc: 0.0250\n",
      "Epoch 57/200\n",
      "19/19 [==============================] - 0s 7ms/step - loss: 2.8814 - acc: 0.2350 - val_loss: 4.9844 - val_acc: 0.0200\n",
      "Epoch 58/200\n",
      "19/19 [==============================] - 0s 7ms/step - loss: 2.8486 - acc: 0.2392 - val_loss: 4.9553 - val_acc: 0.0250\n",
      "Epoch 59/200\n",
      "19/19 [==============================] - 0s 7ms/step - loss: 2.8159 - acc: 0.2392 - val_loss: 5.0027 - val_acc: 0.0267\n",
      "Epoch 60/200\n"
     ]
    },
    {
     "name": "stdout",
     "output_type": "stream",
     "text": [
      "19/19 [==============================] - 0s 7ms/step - loss: 2.7993 - acc: 0.2600 - val_loss: 5.0626 - val_acc: 0.0267\n",
      "Epoch 61/200\n",
      "19/19 [==============================] - 0s 8ms/step - loss: 2.7572 - acc: 0.2617 - val_loss: 5.1144 - val_acc: 0.0200\n",
      "Epoch 62/200\n",
      "19/19 [==============================] - 0s 8ms/step - loss: 2.7333 - acc: 0.2775 - val_loss: 5.1497 - val_acc: 0.0217\n",
      "Epoch 63/200\n",
      "19/19 [==============================] - 0s 8ms/step - loss: 2.7070 - acc: 0.2792 - val_loss: 5.1663 - val_acc: 0.0200\n",
      "Epoch 64/200\n",
      "19/19 [==============================] - 0s 7ms/step - loss: 2.6810 - acc: 0.2808 - val_loss: 5.2018 - val_acc: 0.0183\n",
      "Epoch 65/200\n",
      "19/19 [==============================] - 0s 7ms/step - loss: 2.6411 - acc: 0.2983 - val_loss: 5.2961 - val_acc: 0.0217\n",
      "Epoch 66/200\n",
      "19/19 [==============================] - 0s 7ms/step - loss: 2.6182 - acc: 0.3050 - val_loss: 5.3034 - val_acc: 0.0200\n",
      "Epoch 67/200\n",
      "19/19 [==============================] - 0s 7ms/step - loss: 2.5885 - acc: 0.3200 - val_loss: 5.3144 - val_acc: 0.0217\n",
      "Epoch 68/200\n",
      "19/19 [==============================] - 0s 7ms/step - loss: 2.5505 - acc: 0.3450 - val_loss: 5.4096 - val_acc: 0.0150\n",
      "Epoch 69/200\n",
      "19/19 [==============================] - 0s 7ms/step - loss: 2.5229 - acc: 0.3333 - val_loss: 5.4370 - val_acc: 0.0250\n",
      "Epoch 70/200\n",
      "19/19 [==============================] - 0s 7ms/step - loss: 2.5130 - acc: 0.3317 - val_loss: 5.5054 - val_acc: 0.0167\n",
      "Epoch 71/200\n",
      "19/19 [==============================] - 0s 7ms/step - loss: 2.4820 - acc: 0.3417 - val_loss: 5.5369 - val_acc: 0.0183\n",
      "Epoch 72/200\n",
      "19/19 [==============================] - 0s 7ms/step - loss: 2.4439 - acc: 0.3617 - val_loss: 5.5587 - val_acc: 0.0200\n",
      "Epoch 73/200\n",
      "19/19 [==============================] - 0s 7ms/step - loss: 2.4142 - acc: 0.3683 - val_loss: 5.5861 - val_acc: 0.0200\n",
      "Epoch 74/200\n",
      "19/19 [==============================] - 0s 7ms/step - loss: 2.3844 - acc: 0.3817 - val_loss: 5.6526 - val_acc: 0.0183\n",
      "Epoch 75/200\n",
      "19/19 [==============================] - 0s 7ms/step - loss: 2.3628 - acc: 0.3850 - val_loss: 5.6849 - val_acc: 0.0200\n",
      "Epoch 76/200\n",
      "19/19 [==============================] - 0s 7ms/step - loss: 2.3437 - acc: 0.3867 - val_loss: 5.7657 - val_acc: 0.0183\n",
      "Epoch 77/200\n",
      "19/19 [==============================] - 0s 7ms/step - loss: 2.3076 - acc: 0.3908 - val_loss: 5.7438 - val_acc: 0.0200\n",
      "Epoch 78/200\n",
      "19/19 [==============================] - 0s 8ms/step - loss: 2.2690 - acc: 0.4150 - val_loss: 5.7999 - val_acc: 0.0217\n",
      "Epoch 79/200\n",
      "19/19 [==============================] - 0s 8ms/step - loss: 2.2462 - acc: 0.4192 - val_loss: 5.8672 - val_acc: 0.0200\n",
      "Epoch 80/200\n",
      "19/19 [==============================] - 0s 8ms/step - loss: 2.2216 - acc: 0.4192 - val_loss: 5.9234 - val_acc: 0.0200\n",
      "Epoch 81/200\n",
      "19/19 [==============================] - 0s 7ms/step - loss: 2.2015 - acc: 0.4283 - val_loss: 5.9747 - val_acc: 0.0150\n",
      "Epoch 82/200\n",
      "19/19 [==============================] - 0s 7ms/step - loss: 2.1765 - acc: 0.4317 - val_loss: 6.0072 - val_acc: 0.0200\n",
      "Epoch 83/200\n",
      "19/19 [==============================] - 0s 8ms/step - loss: 2.1385 - acc: 0.4492 - val_loss: 6.0432 - val_acc: 0.0250\n",
      "Epoch 84/200\n",
      "19/19 [==============================] - 0s 7ms/step - loss: 2.1225 - acc: 0.4617 - val_loss: 6.0646 - val_acc: 0.0233\n",
      "Epoch 85/200\n",
      "19/19 [==============================] - 0s 8ms/step - loss: 2.1014 - acc: 0.4625 - val_loss: 6.1153 - val_acc: 0.0200\n",
      "Epoch 86/200\n",
      "19/19 [==============================] - 0s 8ms/step - loss: 2.0694 - acc: 0.4725 - val_loss: 6.1526 - val_acc: 0.0183\n",
      "Epoch 87/200\n",
      "19/19 [==============================] - 0s 7ms/step - loss: 2.0425 - acc: 0.4792 - val_loss: 6.2459 - val_acc: 0.0217\n",
      "Epoch 88/200\n",
      "19/19 [==============================] - 0s 8ms/step - loss: 2.0236 - acc: 0.4817 - val_loss: 6.3063 - val_acc: 0.0200\n",
      "Epoch 89/200\n",
      "19/19 [==============================] - 0s 8ms/step - loss: 1.9964 - acc: 0.4867 - val_loss: 6.3521 - val_acc: 0.0200\n",
      "Epoch 90/200\n",
      "19/19 [==============================] - 0s 8ms/step - loss: 1.9655 - acc: 0.4958 - val_loss: 6.3357 - val_acc: 0.0217\n",
      "Epoch 91/200\n",
      "19/19 [==============================] - 0s 7ms/step - loss: 1.9474 - acc: 0.5008 - val_loss: 6.4039 - val_acc: 0.0217\n",
      "Epoch 92/200\n",
      "19/19 [==============================] - 0s 7ms/step - loss: 1.9158 - acc: 0.5208 - val_loss: 6.4827 - val_acc: 0.0233\n",
      "Epoch 93/200\n",
      "19/19 [==============================] - 0s 7ms/step - loss: 1.8968 - acc: 0.5200 - val_loss: 6.5210 - val_acc: 0.0200\n",
      "Epoch 94/200\n",
      "19/19 [==============================] - 0s 7ms/step - loss: 1.8694 - acc: 0.5200 - val_loss: 6.5814 - val_acc: 0.0217\n",
      "Epoch 95/200\n",
      "19/19 [==============================] - 0s 8ms/step - loss: 1.8469 - acc: 0.5342 - val_loss: 6.5847 - val_acc: 0.0200\n",
      "Epoch 96/200\n",
      "19/19 [==============================] - 0s 8ms/step - loss: 1.8309 - acc: 0.5358 - val_loss: 6.6692 - val_acc: 0.0200\n",
      "Epoch 97/200\n",
      "19/19 [==============================] - 0s 8ms/step - loss: 1.7983 - acc: 0.5517 - val_loss: 6.6802 - val_acc: 0.0183\n",
      "Epoch 98/200\n",
      "19/19 [==============================] - 0s 8ms/step - loss: 1.7913 - acc: 0.5517 - val_loss: 6.7871 - val_acc: 0.0250\n",
      "Epoch 99/200\n",
      "19/19 [==============================] - 0s 8ms/step - loss: 1.7548 - acc: 0.5500 - val_loss: 6.8407 - val_acc: 0.0217\n",
      "Epoch 100/200\n",
      "19/19 [==============================] - 0s 7ms/step - loss: 1.7404 - acc: 0.5625 - val_loss: 6.8803 - val_acc: 0.0250\n",
      "Epoch 101/200\n",
      "19/19 [==============================] - 0s 7ms/step - loss: 1.7179 - acc: 0.5742 - val_loss: 6.8948 - val_acc: 0.0200\n",
      "Epoch 102/200\n",
      "19/19 [==============================] - 0s 7ms/step - loss: 1.6889 - acc: 0.5692 - val_loss: 6.9381 - val_acc: 0.0233\n",
      "Epoch 103/200\n",
      "19/19 [==============================] - 0s 7ms/step - loss: 1.6736 - acc: 0.5783 - val_loss: 6.9595 - val_acc: 0.0233\n",
      "Epoch 104/200\n",
      "19/19 [==============================] - 0s 7ms/step - loss: 1.6527 - acc: 0.5792 - val_loss: 7.0633 - val_acc: 0.0200\n",
      "Epoch 105/200\n",
      "19/19 [==============================] - 0s 7ms/step - loss: 1.6338 - acc: 0.5875 - val_loss: 7.0727 - val_acc: 0.0200\n",
      "Epoch 106/200\n",
      "19/19 [==============================] - 0s 7ms/step - loss: 1.6164 - acc: 0.5983 - val_loss: 7.1299 - val_acc: 0.0167\n",
      "Epoch 107/200\n",
      "19/19 [==============================] - 0s 7ms/step - loss: 1.6097 - acc: 0.5908 - val_loss: 7.1715 - val_acc: 0.0183\n",
      "Epoch 108/200\n",
      "19/19 [==============================] - 0s 7ms/step - loss: 1.5952 - acc: 0.6017 - val_loss: 7.1532 - val_acc: 0.0233\n",
      "Epoch 109/200\n",
      "19/19 [==============================] - 0s 7ms/step - loss: 1.5699 - acc: 0.6083 - val_loss: 7.2592 - val_acc: 0.0167\n",
      "Epoch 110/200\n",
      "19/19 [==============================] - 0s 7ms/step - loss: 1.5305 - acc: 0.6100 - val_loss: 7.3385 - val_acc: 0.0200\n",
      "Epoch 111/200\n",
      "19/19 [==============================] - 0s 7ms/step - loss: 1.5201 - acc: 0.6208 - val_loss: 7.4048 - val_acc: 0.0183\n",
      "Epoch 112/200\n",
      "19/19 [==============================] - 0s 7ms/step - loss: 1.5100 - acc: 0.6167 - val_loss: 7.3775 - val_acc: 0.0217\n",
      "Epoch 113/200\n",
      "19/19 [==============================] - 0s 7ms/step - loss: 1.4795 - acc: 0.6292 - val_loss: 7.4694 - val_acc: 0.0183\n",
      "Epoch 114/200\n",
      "19/19 [==============================] - 0s 8ms/step - loss: 1.4629 - acc: 0.6333 - val_loss: 7.5563 - val_acc: 0.0217\n",
      "Epoch 115/200\n",
      "19/19 [==============================] - 0s 8ms/step - loss: 1.4573 - acc: 0.6308 - val_loss: 7.5819 - val_acc: 0.0167\n",
      "Epoch 116/200\n",
      "19/19 [==============================] - 0s 8ms/step - loss: 1.4375 - acc: 0.6467 - val_loss: 7.5783 - val_acc: 0.0150\n",
      "Epoch 117/200\n",
      "19/19 [==============================] - 0s 8ms/step - loss: 1.4222 - acc: 0.6450 - val_loss: 7.6219 - val_acc: 0.0200\n",
      "Epoch 118/200\n",
      "19/19 [==============================] - 0s 7ms/step - loss: 1.4067 - acc: 0.6492 - val_loss: 7.6689 - val_acc: 0.0150\n",
      "Epoch 119/200\n",
      "19/19 [==============================] - 0s 7ms/step - loss: 1.3856 - acc: 0.6517 - val_loss: 7.7934 - val_acc: 0.0200\n",
      "Epoch 120/200\n",
      "19/19 [==============================] - 0s 7ms/step - loss: 1.3656 - acc: 0.6533 - val_loss: 7.7542 - val_acc: 0.0183\n",
      "Epoch 121/200\n",
      "19/19 [==============================] - 0s 7ms/step - loss: 1.3339 - acc: 0.6717 - val_loss: 7.8219 - val_acc: 0.0200\n"
     ]
    },
    {
     "name": "stdout",
     "output_type": "stream",
     "text": [
      "Epoch 122/200\n",
      "19/19 [==============================] - 0s 7ms/step - loss: 1.3318 - acc: 0.6658 - val_loss: 7.8716 - val_acc: 0.0167\n",
      "Epoch 123/200\n",
      "19/19 [==============================] - 0s 7ms/step - loss: 1.3169 - acc: 0.6742 - val_loss: 7.8789 - val_acc: 0.0183\n",
      "Epoch 124/200\n",
      "19/19 [==============================] - 0s 8ms/step - loss: 1.2933 - acc: 0.6917 - val_loss: 7.9593 - val_acc: 0.0167\n",
      "Epoch 125/200\n",
      "19/19 [==============================] - 0s 8ms/step - loss: 1.2891 - acc: 0.6933 - val_loss: 8.0450 - val_acc: 0.0200\n",
      "Epoch 126/200\n",
      "19/19 [==============================] - 0s 7ms/step - loss: 1.2746 - acc: 0.6842 - val_loss: 8.0203 - val_acc: 0.0183\n",
      "Epoch 127/200\n",
      "19/19 [==============================] - 0s 7ms/step - loss: 1.2504 - acc: 0.6950 - val_loss: 8.0628 - val_acc: 0.0217\n",
      "Epoch 128/200\n",
      "19/19 [==============================] - 0s 7ms/step - loss: 1.2375 - acc: 0.7017 - val_loss: 8.1269 - val_acc: 0.0200\n",
      "Epoch 129/200\n",
      "19/19 [==============================] - 0s 7ms/step - loss: 1.2295 - acc: 0.6983 - val_loss: 8.1959 - val_acc: 0.0217\n",
      "Epoch 130/200\n",
      "19/19 [==============================] - 0s 7ms/step - loss: 1.2099 - acc: 0.7042 - val_loss: 8.2170 - val_acc: 0.0217\n",
      "Epoch 131/200\n",
      "19/19 [==============================] - 0s 7ms/step - loss: 1.2037 - acc: 0.7150 - val_loss: 8.3088 - val_acc: 0.0200\n",
      "Epoch 132/200\n",
      "19/19 [==============================] - 0s 8ms/step - loss: 1.1812 - acc: 0.7167 - val_loss: 8.3365 - val_acc: 0.0167\n",
      "Epoch 133/200\n",
      "19/19 [==============================] - 0s 7ms/step - loss: 1.1687 - acc: 0.7200 - val_loss: 8.4151 - val_acc: 0.0183\n",
      "Epoch 134/200\n",
      "19/19 [==============================] - 0s 7ms/step - loss: 1.1617 - acc: 0.7250 - val_loss: 8.4553 - val_acc: 0.0183\n",
      "Epoch 135/200\n",
      "19/19 [==============================] - 0s 8ms/step - loss: 1.1417 - acc: 0.7217 - val_loss: 8.4978 - val_acc: 0.0233\n",
      "Epoch 136/200\n",
      "19/19 [==============================] - 0s 7ms/step - loss: 1.1290 - acc: 0.7350 - val_loss: 8.5504 - val_acc: 0.0183\n",
      "Epoch 137/200\n",
      "19/19 [==============================] - 0s 7ms/step - loss: 1.1174 - acc: 0.7317 - val_loss: 8.5363 - val_acc: 0.0167\n",
      "Epoch 138/200\n",
      "19/19 [==============================] - 0s 7ms/step - loss: 1.1005 - acc: 0.7383 - val_loss: 8.6358 - val_acc: 0.0200\n",
      "Epoch 139/200\n",
      "19/19 [==============================] - 0s 7ms/step - loss: 1.0899 - acc: 0.7358 - val_loss: 8.6354 - val_acc: 0.0183\n",
      "Epoch 140/200\n",
      "19/19 [==============================] - 0s 7ms/step - loss: 1.0811 - acc: 0.7333 - val_loss: 8.6417 - val_acc: 0.0183\n",
      "Epoch 141/200\n",
      "19/19 [==============================] - 0s 7ms/step - loss: 1.0661 - acc: 0.7433 - val_loss: 8.7478 - val_acc: 0.0183\n",
      "Epoch 142/200\n",
      "19/19 [==============================] - 0s 7ms/step - loss: 1.0505 - acc: 0.7550 - val_loss: 8.7681 - val_acc: 0.0183\n",
      "Epoch 143/200\n",
      "19/19 [==============================] - 0s 7ms/step - loss: 1.0440 - acc: 0.7558 - val_loss: 8.8292 - val_acc: 0.0167\n",
      "Epoch 144/200\n",
      "19/19 [==============================] - 0s 7ms/step - loss: 1.0331 - acc: 0.7550 - val_loss: 8.8603 - val_acc: 0.0200\n",
      "Epoch 145/200\n",
      "19/19 [==============================] - 0s 7ms/step - loss: 1.0247 - acc: 0.7608 - val_loss: 8.9230 - val_acc: 0.0200\n",
      "Epoch 146/200\n",
      "19/19 [==============================] - 0s 9ms/step - loss: 1.0044 - acc: 0.7700 - val_loss: 8.9592 - val_acc: 0.0200\n",
      "Epoch 147/200\n",
      "19/19 [==============================] - 0s 8ms/step - loss: 1.0037 - acc: 0.7592 - val_loss: 8.9955 - val_acc: 0.0200\n",
      "Epoch 148/200\n",
      "19/19 [==============================] - 0s 8ms/step - loss: 1.0062 - acc: 0.7625 - val_loss: 9.0238 - val_acc: 0.0167\n",
      "Epoch 149/200\n",
      "19/19 [==============================] - 0s 8ms/step - loss: 0.9859 - acc: 0.7700 - val_loss: 9.0634 - val_acc: 0.0217\n",
      "Epoch 150/200\n",
      "19/19 [==============================] - 0s 7ms/step - loss: 0.9766 - acc: 0.7642 - val_loss: 9.1385 - val_acc: 0.0267\n",
      "Epoch 151/200\n",
      "19/19 [==============================] - 0s 8ms/step - loss: 0.9562 - acc: 0.7817 - val_loss: 9.1897 - val_acc: 0.0183\n",
      "Epoch 152/200\n",
      "19/19 [==============================] - 0s 8ms/step - loss: 0.9449 - acc: 0.7850 - val_loss: 9.1980 - val_acc: 0.0200\n",
      "Epoch 153/200\n",
      "19/19 [==============================] - 0s 7ms/step - loss: 0.9470 - acc: 0.7758 - val_loss: 9.2274 - val_acc: 0.0200\n",
      "Epoch 154/200\n",
      "19/19 [==============================] - 0s 8ms/step - loss: 0.9356 - acc: 0.7792 - val_loss: 9.3213 - val_acc: 0.0200\n",
      "Epoch 155/200\n",
      "19/19 [==============================] - 0s 7ms/step - loss: 0.9275 - acc: 0.7867 - val_loss: 9.3108 - val_acc: 0.0167\n",
      "Epoch 156/200\n",
      "19/19 [==============================] - 0s 7ms/step - loss: 0.9212 - acc: 0.7842 - val_loss: 9.3445 - val_acc: 0.0217\n",
      "Epoch 157/200\n",
      "19/19 [==============================] - 0s 7ms/step - loss: 0.9010 - acc: 0.7900 - val_loss: 9.4118 - val_acc: 0.0200\n",
      "Epoch 158/200\n",
      "19/19 [==============================] - 0s 6ms/step - loss: 0.8877 - acc: 0.7942 - val_loss: 9.4349 - val_acc: 0.0200\n",
      "Epoch 159/200\n",
      "19/19 [==============================] - 0s 7ms/step - loss: 0.8715 - acc: 0.7942 - val_loss: 9.4831 - val_acc: 0.0200\n",
      "Epoch 160/200\n",
      "19/19 [==============================] - 0s 7ms/step - loss: 0.8677 - acc: 0.8000 - val_loss: 9.4851 - val_acc: 0.0150\n",
      "Epoch 161/200\n",
      "19/19 [==============================] - 0s 7ms/step - loss: 0.8608 - acc: 0.7975 - val_loss: 9.5401 - val_acc: 0.0217\n",
      "Epoch 162/200\n",
      "19/19 [==============================] - 0s 7ms/step - loss: 0.8567 - acc: 0.8050 - val_loss: 9.5747 - val_acc: 0.0200\n",
      "Epoch 163/200\n",
      "19/19 [==============================] - 0s 7ms/step - loss: 0.8633 - acc: 0.7933 - val_loss: 9.6488 - val_acc: 0.0217\n",
      "Epoch 164/200\n",
      "19/19 [==============================] - 0s 7ms/step - loss: 0.8388 - acc: 0.8000 - val_loss: 9.6686 - val_acc: 0.0200\n",
      "Epoch 165/200\n",
      "19/19 [==============================] - 0s 7ms/step - loss: 0.8288 - acc: 0.8033 - val_loss: 9.7194 - val_acc: 0.0233\n",
      "Epoch 166/200\n",
      "19/19 [==============================] - 0s 7ms/step - loss: 0.8215 - acc: 0.8133 - val_loss: 9.7545 - val_acc: 0.0200\n",
      "Epoch 167/200\n",
      "19/19 [==============================] - 0s 7ms/step - loss: 0.8108 - acc: 0.8058 - val_loss: 9.8473 - val_acc: 0.0217\n",
      "Epoch 168/200\n",
      "19/19 [==============================] - 0s 7ms/step - loss: 0.8059 - acc: 0.8050 - val_loss: 9.8409 - val_acc: 0.0200\n",
      "Epoch 169/200\n",
      "19/19 [==============================] - 0s 7ms/step - loss: 0.8035 - acc: 0.8150 - val_loss: 9.9748 - val_acc: 0.0233\n",
      "Epoch 170/200\n",
      "19/19 [==============================] - 0s 7ms/step - loss: 0.7935 - acc: 0.8133 - val_loss: 9.9875 - val_acc: 0.0217\n",
      "Epoch 171/200\n",
      "19/19 [==============================] - 0s 7ms/step - loss: 0.7879 - acc: 0.8183 - val_loss: 10.0240 - val_acc: 0.0200\n",
      "Epoch 172/200\n",
      "19/19 [==============================] - 0s 7ms/step - loss: 0.7753 - acc: 0.8217 - val_loss: 10.0414 - val_acc: 0.0233\n",
      "Epoch 173/200\n",
      "19/19 [==============================] - 0s 7ms/step - loss: 0.7725 - acc: 0.8175 - val_loss: 10.0473 - val_acc: 0.0200\n",
      "Epoch 174/200\n",
      "19/19 [==============================] - 0s 7ms/step - loss: 0.7646 - acc: 0.8225 - val_loss: 10.0906 - val_acc: 0.0233\n",
      "Epoch 175/200\n",
      "19/19 [==============================] - 0s 7ms/step - loss: 0.7560 - acc: 0.8192 - val_loss: 10.2088 - val_acc: 0.0200\n",
      "Epoch 176/200\n",
      "19/19 [==============================] - 0s 7ms/step - loss: 0.7581 - acc: 0.8183 - val_loss: 10.1590 - val_acc: 0.0217\n",
      "Epoch 177/200\n",
      "19/19 [==============================] - 0s 7ms/step - loss: 0.7388 - acc: 0.8208 - val_loss: 10.2120 - val_acc: 0.0267\n",
      "Epoch 178/200\n",
      "19/19 [==============================] - 0s 7ms/step - loss: 0.7345 - acc: 0.8267 - val_loss: 10.2226 - val_acc: 0.0233\n",
      "Epoch 179/200\n",
      "19/19 [==============================] - 0s 7ms/step - loss: 0.7241 - acc: 0.8292 - val_loss: 10.2978 - val_acc: 0.0217\n",
      "Epoch 180/200\n",
      "19/19 [==============================] - 0s 7ms/step - loss: 0.7179 - acc: 0.8325 - val_loss: 10.3305 - val_acc: 0.0217\n",
      "Epoch 181/200\n",
      "19/19 [==============================] - 0s 7ms/step - loss: 0.7124 - acc: 0.8342 - val_loss: 10.4076 - val_acc: 0.0217\n",
      "Epoch 182/200\n",
      "19/19 [==============================] - 0s 7ms/step - loss: 0.7087 - acc: 0.8275 - val_loss: 10.3961 - val_acc: 0.0217\n",
      "Epoch 183/200\n"
     ]
    },
    {
     "name": "stdout",
     "output_type": "stream",
     "text": [
      "19/19 [==============================] - 0s 7ms/step - loss: 0.6986 - acc: 0.8300 - val_loss: 10.4183 - val_acc: 0.0217\n",
      "Epoch 184/200\n",
      "19/19 [==============================] - 0s 7ms/step - loss: 0.6947 - acc: 0.8350 - val_loss: 10.4666 - val_acc: 0.0217\n",
      "Epoch 185/200\n",
      "19/19 [==============================] - 0s 7ms/step - loss: 0.6894 - acc: 0.8325 - val_loss: 10.5811 - val_acc: 0.0200\n",
      "Epoch 186/200\n",
      "19/19 [==============================] - 0s 7ms/step - loss: 0.6914 - acc: 0.8358 - val_loss: 10.6143 - val_acc: 0.0233\n",
      "Epoch 187/200\n",
      "19/19 [==============================] - 0s 7ms/step - loss: 0.6792 - acc: 0.8442 - val_loss: 10.6661 - val_acc: 0.0217\n",
      "Epoch 188/200\n",
      "19/19 [==============================] - 0s 7ms/step - loss: 0.6765 - acc: 0.8317 - val_loss: 10.6786 - val_acc: 0.0250\n",
      "Epoch 189/200\n",
      "19/19 [==============================] - 0s 7ms/step - loss: 0.6704 - acc: 0.8358 - val_loss: 10.6733 - val_acc: 0.0233\n",
      "Epoch 190/200\n",
      "19/19 [==============================] - 0s 7ms/step - loss: 0.6568 - acc: 0.8475 - val_loss: 10.7261 - val_acc: 0.0200\n",
      "Epoch 191/200\n",
      "19/19 [==============================] - 0s 7ms/step - loss: 0.6655 - acc: 0.8375 - val_loss: 10.7854 - val_acc: 0.0217\n",
      "Epoch 192/200\n",
      "19/19 [==============================] - 0s 7ms/step - loss: 0.6586 - acc: 0.8417 - val_loss: 10.8677 - val_acc: 0.0200\n",
      "Epoch 193/200\n",
      "19/19 [==============================] - 0s 7ms/step - loss: 0.6392 - acc: 0.8417 - val_loss: 10.8679 - val_acc: 0.0200\n",
      "Epoch 194/200\n",
      "19/19 [==============================] - 0s 7ms/step - loss: 0.6349 - acc: 0.8425 - val_loss: 10.8573 - val_acc: 0.0233\n",
      "Epoch 195/200\n",
      "19/19 [==============================] - 0s 7ms/step - loss: 0.6365 - acc: 0.8392 - val_loss: 10.9471 - val_acc: 0.0233\n",
      "Epoch 196/200\n",
      "19/19 [==============================] - 0s 7ms/step - loss: 0.6346 - acc: 0.8408 - val_loss: 10.9585 - val_acc: 0.0217\n",
      "Epoch 197/200\n",
      "19/19 [==============================] - 0s 7ms/step - loss: 0.6328 - acc: 0.8458 - val_loss: 10.9779 - val_acc: 0.0183\n",
      "Epoch 198/200\n",
      "19/19 [==============================] - 0s 8ms/step - loss: 0.6184 - acc: 0.8400 - val_loss: 11.0270 - val_acc: 0.0217\n",
      "Epoch 199/200\n",
      "19/19 [==============================] - 0s 7ms/step - loss: 0.6074 - acc: 0.8492 - val_loss: 11.0810 - val_acc: 0.0200\n",
      "Epoch 200/200\n",
      "19/19 [==============================] - 0s 8ms/step - loss: 0.6127 - acc: 0.8442 - val_loss: 11.0937 - val_acc: 0.0200\n"
     ]
    },
    {
     "data": {
      "text/plain": [
       "<keras.callbacks.History at 0x2688bd04940>"
      ]
     },
     "execution_count": 13,
     "metadata": {},
     "output_type": "execute_result"
    }
   ],
   "source": [
    "model.fit(X_train, y_train, batch_size=64, epochs=200, verbose=1, validation_data=(X_valid, y_valid))"
   ]
  },
  {
   "cell_type": "markdown",
   "id": "7a580bdf",
   "metadata": {},
   "source": [
    "###function returning a list of numbers"
   ]
  },
  {
   "cell_type": "code",
   "execution_count": 14,
   "id": "514f6385",
   "metadata": {},
   "outputs": [],
   "source": [
    "from tensorflow.keras.preprocessing.sequence import pad_sequences\n",
    "\n",
    "def seq_generate(model, input_num, verbose=False): \n",
    "    sequence = [input_num]\n",
    "\n",
    "    while len(sequence) < 7:\n",
    "        encoded = pad_sequences([sequence], maxlen=7, padding='pre')\n",
    "        result = model.predict(encoded, verbose=0)\n",
    "        \n",
    "        mask = np.zeros(result.size, dtype=bool)\n",
    "        mask[sequence] = True\n",
    "        result = np.ma.array(result, mask=mask)\n",
    "        result = np.argmax(result)\n",
    "\n",
    "        sequence.append(result)\n",
    "        \n",
    "        if verbose:\n",
    "            print(\"sequence:\", sequence)\n",
    "\n",
    "    return [sorted(sequence[:-1]), sequence[-1]]"
   ]
  },
  {
   "cell_type": "markdown",
   "id": "8f70f70e",
   "metadata": {},
   "source": [
    "test"
   ]
  },
  {
   "cell_type": "code",
   "execution_count": 15,
   "id": "a7d164af",
   "metadata": {},
   "outputs": [
    {
     "name": "stdout",
     "output_type": "stream",
     "text": [
      "[[1.0663494e-12 7.7062450e-06 3.5567898e-03 6.0778758e-03 8.2290312e-03\n",
      "  9.8147539e-06 8.6814649e-02 4.3883644e-02 6.8454757e-02 1.5668944e-04\n",
      "  3.8642215e-04 1.2061527e-02 2.1003706e-02 1.5693726e-03 2.7053220e-06\n",
      "  5.2204035e-02 9.1685198e-02 1.1921748e-04 4.7461014e-02 2.2887638e-05\n",
      "  2.9484034e-02 9.4580360e-02 2.3630353e-02 5.2137654e-03 2.7745687e-03\n",
      "  9.5076213e-04 4.5044650e-04 1.2355844e-02 1.6085843e-02 5.2464992e-02\n",
      "  3.4101240e-02 3.0193741e-03 1.2105632e-03 5.6305522e-04 3.9226371e-03\n",
      "  1.1799719e-01 2.1940358e-03 2.3664327e-02 4.1903311e-04 1.7904036e-02\n",
      "  2.3037085e-04 2.5421020e-02 7.9415165e-02 2.1949765e-05 8.0350963e-03\n",
      "  1.8291200e-04]]\n",
      "35\n",
      "sequence: [2, 35]\n",
      "sequence: [2, 35, 39]\n",
      "sequence: [2, 35, 39, 17]\n",
      "sequence: [2, 35, 39, 17, 11]\n",
      "sequence: [2, 35, 39, 17, 11, 1]\n",
      "sequence: [2, 35, 39, 17, 11, 1, 43]\n"
     ]
    },
    {
     "data": {
      "text/plain": [
       "[[1, 2, 11, 17, 35, 39], 43]"
      ]
     },
     "execution_count": 15,
     "metadata": {},
     "output_type": "execute_result"
    }
   ],
   "source": [
    "test_num = 2\n",
    "seq = [[test_num]]\n",
    "encoded = pad_sequences(seq, maxlen=7, padding='pre')\n",
    "result = model.predict(encoded, verbose=0)\n",
    "\n",
    "print(result)\n",
    "print(np.argmax(result))\n",
    "\n",
    "seq_generate(model, test_num, verbose=True)"
   ]
  },
  {
   "cell_type": "markdown",
   "id": "9429329e",
   "metadata": {},
   "source": [
    "### performance result"
   ]
  },
  {
   "cell_type": "markdown",
   "id": "c1c2bb11",
   "metadata": {},
   "source": [
    "Print the first number in order of frequency"
   ]
  },
  {
   "cell_type": "code",
   "execution_count": 16,
   "id": "d4e11613",
   "metadata": {},
   "outputs": [
    {
     "data": {
      "text/plain": [
       "37    35\n",
       "25    31\n",
       "26    31\n",
       "23    29\n",
       "4     28\n",
       "45    28\n",
       "Name: 1, dtype: int64"
      ]
     },
     "execution_count": 16,
     "metadata": {},
     "output_type": "execute_result"
    }
   ],
   "source": [
    "first_num = df['1'].value_counts()[:6]\n",
    "first_num"
   ]
  },
  {
   "cell_type": "code",
   "execution_count": 17,
   "id": "47cd235b",
   "metadata": {},
   "outputs": [
    {
     "name": "stdout",
     "output_type": "stream",
     "text": [
      "37: [[18, 23, 30, 31, 37, 41], 1]\n",
      "25: [[8, 12, 14, 21, 25, 35], 6]\n",
      "26: [[1, 2, 7, 8, 26, 27], 36]\n",
      "23: [[5, 19, 20, 23, 24, 45], 15]\n",
      " 4: [[4, 15, 17, 24, 40, 41], 26]\n",
      "45: [[7, 8, 13, 15, 43, 45], 33]\n"
     ]
    }
   ],
   "source": [
    "for num, _ in first_num.iteritems():\n",
    "    print(f\"{num:2}:\", seq_generate(model, num))"
   ]
  },
  {
   "cell_type": "markdown",
   "id": "7b141395",
   "metadata": {},
   "source": [
    "모든 숫자에 대해 결과 출력"
   ]
  },
  {
   "cell_type": "code",
   "execution_count": 18,
   "id": "21196cbd",
   "metadata": {},
   "outputs": [
    {
     "name": "stdout",
     "output_type": "stream",
     "text": [
      " 1: [[1, 3, 4, 10, 22, 29], 23]\n",
      " 2: [[1, 2, 11, 17, 35, 39], 43]\n",
      " 3: [[3, 26, 34, 41, 42, 43], 5]\n",
      " 4: [[4, 15, 17, 24, 40, 41], 26]\n",
      " 5: [[5, 13, 14, 29, 31, 33], 27]\n",
      " 6: [[6, 11, 15, 17, 23, 39], 26]\n",
      " 7: [[1, 7, 13, 24, 36, 42], 39]\n",
      " 8: [[2, 7, 8, 12, 15, 43], 38]\n",
      " 9: [[5, 9, 13, 31, 39, 41], 28]\n",
      "10: [[7, 10, 28, 36, 42, 43], 17]\n",
      "11: [[10, 11, 12, 23, 30, 41], 40]\n",
      "12: [[7, 11, 12, 18, 31, 33], 26]\n",
      "13: [[9, 13, 14, 25, 29, 33], 15]\n",
      "14: [[5, 14, 19, 22, 24, 41], 36]\n",
      "15: [[2, 4, 15, 25, 28, 29], 38]\n",
      "16: [[2, 6, 13, 16, 34, 39], 33]\n",
      "17: [[2, 8, 11, 17, 21, 28], 42]\n",
      "18: [[9, 14, 18, 20, 41, 42], 35]\n",
      "19: [[1, 2, 11, 16, 19, 39], 24]\n",
      "20: [[2, 6, 20, 25, 37, 38], 27]\n",
      "21: [[4, 7, 17, 21, 30, 36], 25]\n",
      "22: [[11, 17, 22, 23, 39, 41], 36]\n",
      "23: [[5, 19, 20, 23, 24, 45], 15]\n",
      "24: [[9, 14, 24, 35, 42, 45], 20]\n",
      "25: [[8, 12, 14, 21, 25, 35], 6]\n",
      "26: [[1, 2, 7, 8, 26, 27], 36]\n",
      "27: [[9, 18, 20, 23, 24, 27], 35]\n",
      "28: [[20, 23, 24, 28, 35, 41], 12]\n",
      "29: [[1, 2, 10, 22, 29, 40], 26]\n",
      "30: [[2, 12, 16, 28, 30, 39], 33]\n",
      "31: [[11, 27, 31, 35, 43, 45], 5]\n",
      "32: [[11, 16, 18, 20, 24, 32], 5]\n",
      "33: [[9, 14, 17, 33, 36, 38], 32]\n",
      "34: [[1, 3, 10, 24, 34, 35], 8]\n",
      "35: [[8, 15, 18, 26, 35, 40], 43]\n",
      "36: [[7, 15, 20, 36, 38, 43], 22]\n",
      "37: [[18, 23, 30, 31, 37, 41], 1]\n",
      "38: [[6, 8, 21, 22, 33, 38], 42]\n",
      "39: [[5, 12, 13, 24, 27, 39], 29]\n",
      "40: [[10, 24, 40, 41, 42, 43], 44]\n",
      "41: [[17, 18, 23, 30, 36, 41], 3]\n",
      "42: [[18, 30, 32, 38, 41, 42], 39]\n",
      "43: [[13, 18, 24, 25, 32, 43], 39]\n",
      "44: [[21, 26, 28, 34, 42, 44], 5]\n",
      "45: [[7, 8, 13, 15, 43, 45], 33]\n"
     ]
    }
   ],
   "source": [
    "for i in range(1, 46):\n",
    "    print(f\"{i:2}:\", seq_generate(model, i))"
   ]
  },
  {
   "cell_type": "code",
   "execution_count": null,
   "id": "325b871b",
   "metadata": {},
   "outputs": [],
   "source": []
  }
 ],
 "metadata": {
  "kernelspec": {
   "display_name": "Python 3",
   "language": "python",
   "name": "python3"
  },
  "language_info": {
   "codemirror_mode": {
    "name": "ipython",
    "version": 3
   },
   "file_extension": ".py",
   "mimetype": "text/x-python",
   "name": "python",
   "nbconvert_exporter": "python",
   "pygments_lexer": "ipython3",
   "version": "3.6.3"
  }
 },
 "nbformat": 4,
 "nbformat_minor": 5
}
