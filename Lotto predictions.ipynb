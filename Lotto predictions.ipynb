{
 "cells": [
  {
   "cell_type": "markdown",
   "id": "b71d4241",
   "metadata": {},
   "source": [
    "# Callifornia lotto number prediction project"
   ]
  },
  {
   "cell_type": "markdown",
   "id": "a6652049",
   "metadata": {},
   "source": [
    "### 데이터 로드"
   ]
  },
  {
   "cell_type": "code",
   "execution_count": 1,
   "id": "812590bd",
   "metadata": {},
   "outputs": [],
   "source": [
    "import pandas as pd\n",
    "\n",
   "# df = pd.read_csv(\"lotto.csv\", index_col=0) # No order\n",
    "df = pd.read_csv(\"lotto_ord.csv\", index_col=0) # with order"
   ]
  },
  {
   "cell_type": "markdown",
   "id": "dc6238e1",
   "metadata": {},
   "source": [
    "Use only the most recent n data"
   ]
  },
  {
   "cell_type": "code",
   "execution_count": 2,
   "id": "d5f5fe7c",
   "metadata": {},
   "outputs": [],
   "source": [
    "train = df[-200:]"
   ]
  },
  {
   "cell_type": "code",
   "execution_count": 3,
   "id": "bb4d7b52",
   "metadata": {},
   "outputs": [
    {
     "data": {
      "text/html": [
       "<div>\n",
       "<style scoped>\n",
       "    .dataframe tbody tr th:only-of-type {\n",
       "        vertical-align: middle;\n",
       "    }\n",
       "\n",
       "    .dataframe tbody tr th {\n",
       "        vertical-align: top;\n",
       "    }\n",
       "\n",
       "    .dataframe thead th {\n",
       "        text-align: right;\n",
       "    }\n",
       "</style>\n",
       "<table border=\"1\" class=\"dataframe\">\n",
       "  <thead>\n",
       "    <tr style=\"text-align: right;\">\n",
       "      <th></th>\n",
       "      <th>1</th>\n",
       "      <th>2</th>\n",
       "      <th>3</th>\n",
       "      <th>4</th>\n",
       "      <th>5</th>\n",
       "      <th>6</th>\n",
       "      <th>B</th>\n",
       "    </tr>\n",
       "  </thead>\n",
       "  <tbody>\n",
       "    <tr>\n",
       "      <th>802</th>\n",
       "      <td>12</td>\n",
       "      <td>18</td>\n",
       "      <td>24</td>\n",
       "      <td>11</td>\n",
       "      <td>42</td>\n",
       "      <td>10</td>\n",
       "      <td>27</td>\n",
       "    </tr>\n",
       "    <tr>\n",
       "      <th>803</th>\n",
       "      <td>26</td>\n",
       "      <td>9</td>\n",
       "      <td>5</td>\n",
       "      <td>14</td>\n",
       "      <td>43</td>\n",
       "      <td>30</td>\n",
       "      <td>2</td>\n",
       "    </tr>\n",
       "    <tr>\n",
       "      <th>804</th>\n",
       "      <td>36</td>\n",
       "      <td>26</td>\n",
       "      <td>13</td>\n",
       "      <td>1</td>\n",
       "      <td>10</td>\n",
       "      <td>32</td>\n",
       "      <td>9</td>\n",
       "    </tr>\n",
       "    <tr>\n",
       "      <th>805</th>\n",
       "      <td>18</td>\n",
       "      <td>32</td>\n",
       "      <td>12</td>\n",
       "      <td>3</td>\n",
       "      <td>31</td>\n",
       "      <td>13</td>\n",
       "      <td>42</td>\n",
       "    </tr>\n",
       "    <tr>\n",
       "      <th>806</th>\n",
       "      <td>37</td>\n",
       "      <td>23</td>\n",
       "      <td>31</td>\n",
       "      <td>38</td>\n",
       "      <td>14</td>\n",
       "      <td>20</td>\n",
       "      <td>27</td>\n",
       "    </tr>\n",
       "    <tr>\n",
       "      <th>...</th>\n",
       "      <td>...</td>\n",
       "      <td>...</td>\n",
       "      <td>...</td>\n",
       "      <td>...</td>\n",
       "      <td>...</td>\n",
       "      <td>...</td>\n",
       "      <td>...</td>\n",
       "    </tr>\n",
       "    <tr>\n",
       "      <th>997</th>\n",
       "      <td>16</td>\n",
       "      <td>7</td>\n",
       "      <td>4</td>\n",
       "      <td>44</td>\n",
       "      <td>24</td>\n",
       "      <td>14</td>\n",
       "      <td>20</td>\n",
       "    </tr>\n",
       "    <tr>\n",
       "      <th>998</th>\n",
       "      <td>18</td>\n",
       "      <td>45</td>\n",
       "      <td>13</td>\n",
       "      <td>20</td>\n",
       "      <td>17</td>\n",
       "      <td>42</td>\n",
       "      <td>41</td>\n",
       "    </tr>\n",
       "    <tr>\n",
       "      <th>999</th>\n",
       "      <td>9</td>\n",
       "      <td>1</td>\n",
       "      <td>28</td>\n",
       "      <td>3</td>\n",
       "      <td>18</td>\n",
       "      <td>14</td>\n",
       "      <td>34</td>\n",
       "    </tr>\n",
       "    <tr>\n",
       "      <th>1000</th>\n",
       "      <td>19</td>\n",
       "      <td>2</td>\n",
       "      <td>8</td>\n",
       "      <td>22</td>\n",
       "      <td>42</td>\n",
       "      <td>32</td>\n",
       "      <td>39</td>\n",
       "    </tr>\n",
       "    <tr>\n",
       "      <th>1000</th>\n",
       "      <td>12</td>\n",
       "      <td>14</td>\n",
       "      <td>10</td>\n",
       "      <td>20</td>\n",
       "      <td>6</td>\n",
       "      <td>42</td>\n",
       "      <td>15</td>\n",
       "    </tr>\n",
       "  </tbody>\n",
       "</table>\n",
       "<p>200 rows × 7 columns</p>\n",
       "</div>"
      ],
      "text/plain": [
       "       1   2   3   4   5   6   B\n",
       "802   12  18  24  11  42  10  27\n",
       "803   26   9   5  14  43  30   2\n",
       "804   36  26  13   1  10  32   9\n",
       "805   18  32  12   3  31  13  42\n",
       "806   37  23  31  38  14  20  27\n",
       "...   ..  ..  ..  ..  ..  ..  ..\n",
       "997   16   7   4  44  24  14  20\n",
       "998   18  45  13  20  17  42  41\n",
       "999    9   1  28   3  18  14  34\n",
       "1000  19   2   8  22  42  32  39\n",
       "1000  12  14  10  20   6  42  15\n",
       "\n",
       "[200 rows x 7 columns]"
      ]
     },
     "execution_count": 3,
     "metadata": {},
     "output_type": "execute_result"
    }
   ],
   "source": [
    "train"
   ]
  },
  {
   "cell_type": "markdown",
   "id": "0395c17e",
   "metadata": {},
   "source": [
 "Processing the winning number list to create sequences"
   ]
  },
  {
   "cell_type": "code",
   "execution_count": 4,
   "id": "7b8ffa7d",
   "metadata": {},
   "outputs": [
    {
     "name": "stdout",
     "output_type": "stream",
     "text": [
     "Number of samples to use for training: 1200\n"
     ]
    }
   ],
   "source": [
    "sequences = list()\n",
    "for _, seq in train.iterrows():\n",
    "    for i in range(1, len(seq)):\n",
    "        sequence = list(seq)[:i+1]\n",
    "        sequences.append(sequence)\n",
    "\n",
    "print('학습에 사용할 샘플의 개수: %d' % len(sequences))"
   ]
  },
  {
   "cell_type": "code",
   "execution_count": 5,
   "id": "99d55428",
   "metadata": {},
   "outputs": [
    {
     "data": {
      "text/plain": [
       "[12, 18, 24, 11, 42, 10, 27]"
      ]
     },
     "execution_count": 5,
     "metadata": {},
     "output_type": "execute_result"
    }
   ],
   "source": [
    "train.iloc[0].tolist()"
   ]
  },
  {
   "cell_type": "code",
   "execution_count": 6,
   "id": "f33a9cc9",
   "metadata": {},
   "outputs": [
    {
     "data": {
      "text/plain": [
       "[[12, 18],\n",
       " [12, 18, 24],\n",
       " [12, 18, 24, 11],\n",
       " [12, 18, 24, 11, 42],\n",
       " [12, 18, 24, 11, 42, 10]]"
      ]
     },
     "execution_count": 6,
     "metadata": {},
     "output_type": "execute_result"
    }
   ],
   "source": [
    "sequences[:5]"
   ]
  },
  {
   "cell_type": "markdown",
   "id": "19e01483",
   "metadata": {},
   "source": [
    "padding the length of the truncated sequences"
   ]
  },
  {
   "cell_type": "code",
   "execution_count": 7,
   "id": "495d609c",
   "metadata": {},
   "outputs": [],
   "source": [
    "from tensorflow.keras.preprocessing.sequence import pad_sequences\n",
    "\n",
    "sequences = pad_sequences(sequences, maxlen=7, padding='pre')"
   ]
  },
  {
   "cell_type": "code",
   "execution_count": 8,
   "id": "cd9c3407",
   "metadata": {},
   "outputs": [
    {
     "name": "stdout",
     "output_type": "stream",
     "text": [
      "X.shape: (1200, 6)\n",
      "y.shape: (1200,)\n"
     ]
    }
   ],
   "source": [
    "import numpy as np\n",
    "\n",
    "sequences = np.array(sequences)\n",
    "X = sequences[:,:-1]\n",
    "y = sequences[:,-1]\n",
    "print(\"X.shape:\", X.shape)\n",
    "print(\"y.shape:\", y.shape)"
   ]
  },
  {
   "cell_type": "markdown",
   "id": "58aa58aa",
   "metadata": {},
   "source": [
    "It is filled with 0 after padding. (0-45 total size of 46)"
   ]
  },
  {
   "cell_type": "code",
   "execution_count": 9,
   "id": "2cefd164",
   "metadata": {},
   "outputs": [
    {
     "data": {
      "text/plain": [
       "array([[ 0,  0,  0,  0,  0, 12, 18],\n",
       "       [ 0,  0,  0,  0, 12, 18, 24],\n",
       "       [ 0,  0,  0, 12, 18, 24, 11],\n",
       "       [ 0,  0, 12, 18, 24, 11, 42],\n",
       "       [ 0, 12, 18, 24, 11, 42, 10]])"
      ]
     },
     "execution_count": 9,
     "metadata": {},
     "output_type": "execute_result"
    }
   ],
   "source": [
    "sequences[:5]"
   ]
  },
  {
   "cell_type": "markdown",
   "id": "14ab662d",
   "metadata": {},
   "source": [
    "### 모델 생성"
   ]
  },
  {
   "cell_type": "code",
   "execution_count": 10,
   "id": "134bb818",
   "metadata": {},
   "outputs": [],
   "source": [
    "from tensorflow.keras.models import Sequential\n",
    "from tensorflow.keras.layers import LSTM, Dense\n",
    "from tensorflow.keras.layers import Embedding\n",
    "\n",
    "model = Sequential()\n",
    "model.add(Embedding(45+1, 10))\n",
    "model.add(LSTM(64, input_shape=(6, 1), return_sequences=False))\n",
    "model.add(Dense(128, activation='relu'))\n",
    "model.add(Dense(45+1, activation='softmax'))\n",
    "model.compile(loss='sparse_categorical_crossentropy', optimizer='adam', metrics='acc')"
   ]
  },
  {
   "cell_type": "code",
   "execution_count": 11,
   "id": "43efeae3",
   "metadata": {},
   "outputs": [
    {
     "name": "stdout",
     "output_type": "stream",
     "text": [
      "WARNING:tensorflow:From C:\\Users\\seungwon\\anaconda3\\envs\\scratch\\lib\\site-packages\\tensorflow\\python\\ops\\array_ops.py:5075: calling gather (from tensorflow.python.ops.array_ops) with validate_indices is deprecated and will be removed in a future version.\n",
      "Instructions for updating:\n",
      "The `validate_indices` argument has no effect. Indices are always validated on CPU and never validated on GPU.\n",
      "Epoch 1/200\n",
      "19/19 [==============================] - 2s 5ms/step - loss: 3.8278 - acc: 0.0292\n",
      "Epoch 2/200\n",
      "19/19 [==============================] - 0s 5ms/step - loss: 3.8217 - acc: 0.0283\n",
      "Epoch 3/200\n",
      "19/19 [==============================] - 0s 5ms/step - loss: 3.8132 - acc: 0.0283\n",
      "Epoch 4/200\n",
      "19/19 [==============================] - 0s 5ms/step - loss: 3.8057 - acc: 0.0283\n",
      "Epoch 5/200\n",
      "19/19 [==============================] - 0s 5ms/step - loss: 3.7994 - acc: 0.0292\n",
      "Epoch 6/200\n",
      "19/19 [==============================] - 0s 5ms/step - loss: 3.7950 - acc: 0.0333\n",
      "Epoch 7/200\n",
      "19/19 [==============================] - 0s 5ms/step - loss: 3.7926 - acc: 0.0350\n",
      "Epoch 8/200\n",
      "19/19 [==============================] - 0s 5ms/step - loss: 3.7861 - acc: 0.0425\n",
      "Epoch 9/200\n",
      "19/19 [==============================] - 0s 5ms/step - loss: 3.7754 - acc: 0.0417\n",
      "Epoch 10/200\n",
      "19/19 [==============================] - 0s 5ms/step - loss: 3.7680 - acc: 0.0433\n",
      "Epoch 11/200\n",
      "19/19 [==============================] - 0s 5ms/step - loss: 3.7594 - acc: 0.0442\n",
      "Epoch 12/200\n",
      "19/19 [==============================] - 0s 5ms/step - loss: 3.7506 - acc: 0.0442\n",
      "Epoch 13/200\n",
      "19/19 [==============================] - 0s 5ms/step - loss: 3.7437 - acc: 0.0442\n",
      "Epoch 14/200\n",
      "19/19 [==============================] - 0s 5ms/step - loss: 3.7362 - acc: 0.0475\n",
      "Epoch 15/200\n",
      "19/19 [==============================] - 0s 5ms/step - loss: 3.7285 - acc: 0.0517\n",
      "Epoch 16/200\n",
      "19/19 [==============================] - 0s 5ms/step - loss: 3.7228 - acc: 0.0492\n",
      "Epoch 17/200\n",
      "19/19 [==============================] - 0s 5ms/step - loss: 3.7125 - acc: 0.0558\n",
      "Epoch 18/200\n",
      "19/19 [==============================] - 0s 5ms/step - loss: 3.7037 - acc: 0.0533\n",
      "Epoch 19/200\n",
      "19/19 [==============================] - 0s 5ms/step - loss: 3.6974 - acc: 0.0542\n",
      "Epoch 20/200\n",
      "19/19 [==============================] - 0s 5ms/step - loss: 3.6896 - acc: 0.0508\n",
      "Epoch 21/200\n",
      "19/19 [==============================] - 0s 5ms/step - loss: 3.6778 - acc: 0.0575\n",
      "Epoch 22/200\n",
      "19/19 [==============================] - 0s 5ms/step - loss: 3.6731 - acc: 0.0592\n",
      "Epoch 23/200\n",
      "19/19 [==============================] - 0s 5ms/step - loss: 3.6630 - acc: 0.0683\n",
      "Epoch 24/200\n",
      "19/19 [==============================] - 0s 5ms/step - loss: 3.6546 - acc: 0.0633\n",
      "Epoch 25/200\n",
      "19/19 [==============================] - 0s 5ms/step - loss: 3.6496 - acc: 0.0633\n",
      "Epoch 26/200\n",
      "19/19 [==============================] - 0s 5ms/step - loss: 3.6367 - acc: 0.0667\n",
      "Epoch 27/200\n",
      "19/19 [==============================] - 0s 5ms/step - loss: 3.6251 - acc: 0.0667\n",
      "Epoch 28/200\n",
      "19/19 [==============================] - 0s 5ms/step - loss: 3.6078 - acc: 0.0800\n",
      "Epoch 29/200\n",
      "19/19 [==============================] - 0s 5ms/step - loss: 3.6009 - acc: 0.0742\n",
      "Epoch 30/200\n",
      "19/19 [==============================] - 0s 5ms/step - loss: 3.5827 - acc: 0.0792\n",
      "Epoch 31/200\n",
      "19/19 [==============================] - 0s 5ms/step - loss: 3.5667 - acc: 0.0867\n",
      "Epoch 32/200\n",
      "19/19 [==============================] - 0s 5ms/step - loss: 3.5414 - acc: 0.0900\n",
      "Epoch 33/200\n",
      "19/19 [==============================] - 0s 5ms/step - loss: 3.5244 - acc: 0.0950\n",
      "Epoch 34/200\n",
      "19/19 [==============================] - 0s 5ms/step - loss: 3.5013 - acc: 0.0875\n",
      "Epoch 35/200\n",
      "19/19 [==============================] - 0s 5ms/step - loss: 3.4808 - acc: 0.0983\n",
      "Epoch 36/200\n",
      "19/19 [==============================] - 0s 5ms/step - loss: 3.4629 - acc: 0.1017\n",
      "Epoch 37/200\n",
      "19/19 [==============================] - 0s 5ms/step - loss: 3.4431 - acc: 0.1133\n",
      "Epoch 38/200\n",
      "19/19 [==============================] - 0s 5ms/step - loss: 3.4108 - acc: 0.1150\n",
      "Epoch 39/200\n",
      "19/19 [==============================] - 0s 5ms/step - loss: 3.3946 - acc: 0.1200\n",
      "Epoch 40/200\n",
      "19/19 [==============================] - 0s 5ms/step - loss: 3.3756 - acc: 0.1133\n",
      "Epoch 41/200\n",
      "19/19 [==============================] - 0s 5ms/step - loss: 3.3440 - acc: 0.1275\n",
      "Epoch 42/200\n",
      "19/19 [==============================] - 0s 5ms/step - loss: 3.3118 - acc: 0.1308\n",
      "Epoch 43/200\n",
      "19/19 [==============================] - 0s 5ms/step - loss: 3.2767 - acc: 0.1317\n",
      "Epoch 44/200\n",
      "19/19 [==============================] - 0s 5ms/step - loss: 3.2568 - acc: 0.1325\n",
      "Epoch 45/200\n",
      "19/19 [==============================] - 0s 5ms/step - loss: 3.2240 - acc: 0.1483\n",
      "Epoch 46/200\n",
      "19/19 [==============================] - 0s 5ms/step - loss: 3.1976 - acc: 0.1567\n",
      "Epoch 47/200\n",
      "19/19 [==============================] - 0s 5ms/step - loss: 3.1786 - acc: 0.1567\n",
      "Epoch 48/200\n",
      "19/19 [==============================] - 0s 5ms/step - loss: 3.1539 - acc: 0.1658\n",
      "Epoch 49/200\n",
      "19/19 [==============================] - 0s 5ms/step - loss: 3.1143 - acc: 0.1775\n",
      "Epoch 50/200\n",
      "19/19 [==============================] - 0s 5ms/step - loss: 3.1009 - acc: 0.1692\n",
      "Epoch 51/200\n",
      "19/19 [==============================] - 0s 5ms/step - loss: 3.0687 - acc: 0.1842\n",
      "Epoch 52/200\n",
      "19/19 [==============================] - 0s 5ms/step - loss: 3.0378 - acc: 0.1833\n",
      "Epoch 53/200\n",
      "19/19 [==============================] - 0s 5ms/step - loss: 3.0004 - acc: 0.1967\n",
      "Epoch 54/200\n",
      "19/19 [==============================] - 0s 5ms/step - loss: 2.9896 - acc: 0.2008\n",
      "Epoch 55/200\n",
      "19/19 [==============================] - 0s 5ms/step - loss: 2.9553 - acc: 0.2058\n",
      "Epoch 56/200\n",
      "19/19 [==============================] - 0s 5ms/step - loss: 2.9336 - acc: 0.2150\n",
      "Epoch 57/200\n",
      "19/19 [==============================] - 0s 5ms/step - loss: 2.9109 - acc: 0.2125\n",
      "Epoch 58/200\n",
      "19/19 [==============================] - 0s 5ms/step - loss: 2.8822 - acc: 0.2283\n",
      "Epoch 59/200\n",
      "19/19 [==============================] - 0s 5ms/step - loss: 2.8569 - acc: 0.2375\n",
      "Epoch 60/200\n",
      "19/19 [==============================] - 0s 5ms/step - loss: 2.8232 - acc: 0.2458\n",
      "Epoch 61/200\n",
      "19/19 [==============================] - 0s 5ms/step - loss: 2.8007 - acc: 0.2442\n",
      "Epoch 62/200\n",
      "19/19 [==============================] - 0s 5ms/step - loss: 2.7749 - acc: 0.2550\n",
      "Epoch 63/200\n",
      "19/19 [==============================] - 0s 5ms/step - loss: 2.7523 - acc: 0.2758\n",
      "Epoch 64/200\n",
      "19/19 [==============================] - 0s 5ms/step - loss: 2.7320 - acc: 0.2675\n",
      "Epoch 65/200\n",
      "19/19 [==============================] - 0s 5ms/step - loss: 2.6978 - acc: 0.2767\n",
      "Epoch 66/200\n",
      "19/19 [==============================] - 0s 5ms/step - loss: 2.6678 - acc: 0.2975\n",
      "Epoch 67/200\n",
      "19/19 [==============================] - 0s 5ms/step - loss: 2.6569 - acc: 0.3075\n",
      "Epoch 68/200\n",
      "19/19 [==============================] - 0s 5ms/step - loss: 2.6216 - acc: 0.3167\n",
      "Epoch 69/200\n",
      "19/19 [==============================] - 0s 5ms/step - loss: 2.5994 - acc: 0.3142\n",
      "Epoch 70/200\n",
      "19/19 [==============================] - 0s 5ms/step - loss: 2.5743 - acc: 0.3133\n",
      "Epoch 71/200\n",
      "19/19 [==============================] - 0s 5ms/step - loss: 2.5536 - acc: 0.3283\n",
      "Epoch 72/200\n",
      "19/19 [==============================] - 0s 5ms/step - loss: 2.5220 - acc: 0.3392\n",
      "Epoch 73/200\n",
      "19/19 [==============================] - 0s 5ms/step - loss: 2.5021 - acc: 0.3508\n",
      "Epoch 74/200\n",
      "19/19 [==============================] - 0s 5ms/step - loss: 2.4876 - acc: 0.3417\n",
      "Epoch 75/200\n",
      "19/19 [==============================] - 0s 5ms/step - loss: 2.4439 - acc: 0.3650\n",
      "Epoch 76/200\n",
      "19/19 [==============================] - 0s 5ms/step - loss: 2.4261 - acc: 0.3583\n",
      "Epoch 77/200\n",
      "19/19 [==============================] - 0s 5ms/step - loss: 2.4047 - acc: 0.3708\n",
      "Epoch 78/200\n",
      "19/19 [==============================] - 0s 5ms/step - loss: 2.3845 - acc: 0.3733\n",
      "Epoch 79/200\n",
      "19/19 [==============================] - 0s 5ms/step - loss: 2.3684 - acc: 0.3775\n",
      "Epoch 80/200\n",
      "19/19 [==============================] - 0s 5ms/step - loss: 2.3351 - acc: 0.4033\n",
      "Epoch 81/200\n",
      "19/19 [==============================] - 0s 5ms/step - loss: 2.3131 - acc: 0.3967\n",
      "Epoch 82/200\n",
      "19/19 [==============================] - 0s 5ms/step - loss: 2.2847 - acc: 0.4133\n",
      "Epoch 83/200\n"
     ]
    },
    {
     "name": "stdout",
     "output_type": "stream",
     "text": [
      "19/19 [==============================] - 0s 5ms/step - loss: 2.2699 - acc: 0.4175\n",
      "Epoch 84/200\n",
      "19/19 [==============================] - 0s 5ms/step - loss: 2.2618 - acc: 0.4192\n",
      "Epoch 85/200\n",
      "19/19 [==============================] - 0s 5ms/step - loss: 2.2312 - acc: 0.4275\n",
      "Epoch 86/200\n",
      "19/19 [==============================] - 0s 5ms/step - loss: 2.2084 - acc: 0.4358\n",
      "Epoch 87/200\n",
      "19/19 [==============================] - 0s 5ms/step - loss: 2.1766 - acc: 0.4333\n",
      "Epoch 88/200\n",
      "19/19 [==============================] - 0s 5ms/step - loss: 2.1584 - acc: 0.4558\n",
      "Epoch 89/200\n",
      "19/19 [==============================] - 0s 5ms/step - loss: 2.1456 - acc: 0.4425\n",
      "Epoch 90/200\n",
      "19/19 [==============================] - 0s 5ms/step - loss: 2.1188 - acc: 0.4508\n",
      "Epoch 91/200\n",
      "19/19 [==============================] - 0s 5ms/step - loss: 2.0999 - acc: 0.4600\n",
      "Epoch 92/200\n",
      "19/19 [==============================] - 0s 5ms/step - loss: 2.0862 - acc: 0.4625\n",
      "Epoch 93/200\n",
      "19/19 [==============================] - 0s 5ms/step - loss: 2.0639 - acc: 0.4733\n",
      "Epoch 94/200\n",
      "19/19 [==============================] - 0s 5ms/step - loss: 2.0418 - acc: 0.4825\n",
      "Epoch 95/200\n",
      "19/19 [==============================] - 0s 5ms/step - loss: 2.0130 - acc: 0.4917\n",
      "Epoch 96/200\n",
      "19/19 [==============================] - 0s 5ms/step - loss: 1.9971 - acc: 0.4908\n",
      "Epoch 97/200\n",
      "19/19 [==============================] - 0s 5ms/step - loss: 1.9689 - acc: 0.5058\n",
      "Epoch 98/200\n",
      "19/19 [==============================] - 0s 5ms/step - loss: 1.9663 - acc: 0.5033\n",
      "Epoch 99/200\n",
      "19/19 [==============================] - 0s 5ms/step - loss: 1.9556 - acc: 0.5092\n",
      "Epoch 100/200\n",
      "19/19 [==============================] - 0s 5ms/step - loss: 1.9121 - acc: 0.5200\n",
      "Epoch 101/200\n",
      "19/19 [==============================] - 0s 5ms/step - loss: 1.8979 - acc: 0.5267\n",
      "Epoch 102/200\n",
      "19/19 [==============================] - 0s 5ms/step - loss: 1.8725 - acc: 0.5333\n",
      "Epoch 103/200\n",
      "19/19 [==============================] - 0s 5ms/step - loss: 1.8516 - acc: 0.5442\n",
      "Epoch 104/200\n",
      "19/19 [==============================] - 0s 5ms/step - loss: 1.8398 - acc: 0.5442\n",
      "Epoch 105/200\n",
      "19/19 [==============================] - 0s 5ms/step - loss: 1.8163 - acc: 0.5542\n",
      "Epoch 106/200\n",
      "19/19 [==============================] - 0s 5ms/step - loss: 1.8060 - acc: 0.5550\n",
      "Epoch 107/200\n",
      "19/19 [==============================] - 0s 5ms/step - loss: 1.7814 - acc: 0.5675\n",
      "Epoch 108/200\n",
      "19/19 [==============================] - 0s 5ms/step - loss: 1.7678 - acc: 0.5683\n",
      "Epoch 109/200\n",
      "19/19 [==============================] - 0s 5ms/step - loss: 1.7672 - acc: 0.5700\n",
      "Epoch 110/200\n",
      "19/19 [==============================] - 0s 5ms/step - loss: 1.7486 - acc: 0.5783\n",
      "Epoch 111/200\n",
      "19/19 [==============================] - 0s 5ms/step - loss: 1.7105 - acc: 0.5892\n",
      "Epoch 112/200\n",
      "19/19 [==============================] - 0s 5ms/step - loss: 1.6928 - acc: 0.5958\n",
      "Epoch 113/200\n",
      "19/19 [==============================] - 0s 5ms/step - loss: 1.6749 - acc: 0.5992\n",
      "Epoch 114/200\n",
      "19/19 [==============================] - 0s 5ms/step - loss: 1.6577 - acc: 0.5967\n",
      "Epoch 115/200\n",
      "19/19 [==============================] - 0s 5ms/step - loss: 1.6417 - acc: 0.6033\n",
      "Epoch 116/200\n",
      "19/19 [==============================] - 0s 5ms/step - loss: 1.6337 - acc: 0.6025\n",
      "Epoch 117/200\n",
      "19/19 [==============================] - 0s 5ms/step - loss: 1.6114 - acc: 0.6058\n",
      "Epoch 118/200\n",
      "19/19 [==============================] - 0s 5ms/step - loss: 1.5922 - acc: 0.6183\n",
      "Epoch 119/200\n",
      "19/19 [==============================] - 0s 5ms/step - loss: 1.5776 - acc: 0.6108\n",
      "Epoch 120/200\n",
      "19/19 [==============================] - 0s 5ms/step - loss: 1.5599 - acc: 0.6208\n",
      "Epoch 121/200\n",
      "19/19 [==============================] - 0s 5ms/step - loss: 1.5552 - acc: 0.6200\n",
      "Epoch 122/200\n",
      "19/19 [==============================] - 0s 5ms/step - loss: 1.5403 - acc: 0.6333\n",
      "Epoch 123/200\n",
      "19/19 [==============================] - 0s 5ms/step - loss: 1.5136 - acc: 0.6300\n",
      "Epoch 124/200\n",
      "19/19 [==============================] - 0s 5ms/step - loss: 1.4946 - acc: 0.6450\n",
      "Epoch 125/200\n",
      "19/19 [==============================] - 0s 5ms/step - loss: 1.4793 - acc: 0.6433\n",
      "Epoch 126/200\n",
      "19/19 [==============================] - 0s 5ms/step - loss: 1.4597 - acc: 0.6450\n",
      "Epoch 127/200\n",
      "19/19 [==============================] - 0s 5ms/step - loss: 1.4565 - acc: 0.6458\n",
      "Epoch 128/200\n",
      "19/19 [==============================] - 0s 5ms/step - loss: 1.4385 - acc: 0.6450\n",
      "Epoch 129/200\n",
      "19/19 [==============================] - 0s 5ms/step - loss: 1.4136 - acc: 0.6625\n",
      "Epoch 130/200\n",
      "19/19 [==============================] - 0s 5ms/step - loss: 1.4034 - acc: 0.6608\n",
      "Epoch 131/200\n",
      "19/19 [==============================] - 0s 5ms/step - loss: 1.3858 - acc: 0.6675\n",
      "Epoch 132/200\n",
      "19/19 [==============================] - 0s 5ms/step - loss: 1.3804 - acc: 0.6717\n",
      "Epoch 133/200\n",
      "19/19 [==============================] - 0s 5ms/step - loss: 1.3661 - acc: 0.6658\n",
      "Epoch 134/200\n",
      "19/19 [==============================] - 0s 5ms/step - loss: 1.3498 - acc: 0.6783\n",
      "Epoch 135/200\n",
      "19/19 [==============================] - 0s 5ms/step - loss: 1.3433 - acc: 0.6800\n",
      "Epoch 136/200\n",
      "19/19 [==============================] - 0s 5ms/step - loss: 1.3319 - acc: 0.6767\n",
      "Epoch 137/200\n",
      "19/19 [==============================] - 0s 5ms/step - loss: 1.3196 - acc: 0.6825\n",
      "Epoch 138/200\n",
      "19/19 [==============================] - 0s 5ms/step - loss: 1.3018 - acc: 0.6908\n",
      "Epoch 139/200\n",
      "19/19 [==============================] - 0s 5ms/step - loss: 1.2872 - acc: 0.6842\n",
      "Epoch 140/200\n",
      "19/19 [==============================] - 0s 5ms/step - loss: 1.2670 - acc: 0.7033\n",
      "Epoch 141/200\n",
      "19/19 [==============================] - 0s 5ms/step - loss: 1.2561 - acc: 0.6942\n",
      "Epoch 142/200\n",
      "19/19 [==============================] - 0s 6ms/step - loss: 1.2411 - acc: 0.6900\n",
      "Epoch 143/200\n",
      "19/19 [==============================] - 0s 6ms/step - loss: 1.2287 - acc: 0.7033\n",
      "Epoch 144/200\n",
      "19/19 [==============================] - 0s 5ms/step - loss: 1.2187 - acc: 0.7117\n",
      "Epoch 145/200\n",
      "19/19 [==============================] - 0s 6ms/step - loss: 1.1949 - acc: 0.7133\n",
      "Epoch 146/200\n",
      "19/19 [==============================] - 0s 6ms/step - loss: 1.1812 - acc: 0.7117\n",
      "Epoch 147/200\n",
      "19/19 [==============================] - 0s 5ms/step - loss: 1.1760 - acc: 0.7250\n",
      "Epoch 148/200\n",
      "19/19 [==============================] - 0s 5ms/step - loss: 1.1825 - acc: 0.7067\n",
      "Epoch 149/200\n",
      "19/19 [==============================] - 0s 5ms/step - loss: 1.1675 - acc: 0.7150\n",
      "Epoch 150/200\n",
      "19/19 [==============================] - 0s 6ms/step - loss: 1.1482 - acc: 0.7183\n",
      "Epoch 151/200\n",
      "19/19 [==============================] - 0s 7ms/step - loss: 1.1452 - acc: 0.7308\n",
      "Epoch 152/200\n",
      "19/19 [==============================] - 0s 6ms/step - loss: 1.1206 - acc: 0.7250\n",
      "Epoch 153/200\n",
      "19/19 [==============================] - 0s 7ms/step - loss: 1.1081 - acc: 0.7317\n",
      "Epoch 154/200\n",
      "19/19 [==============================] - 0s 5ms/step - loss: 1.0914 - acc: 0.7267\n",
      "Epoch 155/200\n",
      "19/19 [==============================] - 0s 5ms/step - loss: 1.0904 - acc: 0.7383\n",
      "Epoch 156/200\n",
      "19/19 [==============================] - 0s 5ms/step - loss: 1.0719 - acc: 0.7417\n",
      "Epoch 157/200\n",
      "19/19 [==============================] - 0s 5ms/step - loss: 1.0644 - acc: 0.7350\n",
      "Epoch 158/200\n",
      "19/19 [==============================] - 0s 5ms/step - loss: 1.0466 - acc: 0.7442\n",
      "Epoch 159/200\n",
      "19/19 [==============================] - 0s 5ms/step - loss: 1.0426 - acc: 0.7392\n",
      "Epoch 160/200\n",
      "19/19 [==============================] - 0s 5ms/step - loss: 1.0226 - acc: 0.7500\n",
      "Epoch 161/200\n",
      "19/19 [==============================] - 0s 5ms/step - loss: 1.0137 - acc: 0.7517\n",
      "Epoch 162/200\n",
      "19/19 [==============================] - 0s 5ms/step - loss: 1.0013 - acc: 0.7542\n",
      "Epoch 163/200\n",
      "19/19 [==============================] - 0s 6ms/step - loss: 0.9949 - acc: 0.7508\n",
      "Epoch 164/200\n",
      "19/19 [==============================] - 0s 6ms/step - loss: 0.9799 - acc: 0.7558\n",
      "Epoch 165/200\n",
      "19/19 [==============================] - 0s 5ms/step - loss: 0.9755 - acc: 0.7667\n",
      "Epoch 166/200\n",
      "19/19 [==============================] - 0s 5ms/step - loss: 0.9642 - acc: 0.7675\n",
      "Epoch 167/200\n",
      "19/19 [==============================] - 0s 5ms/step - loss: 0.9543 - acc: 0.7725\n",
      "Epoch 168/200\n"
     ]
    },
    {
     "name": "stdout",
     "output_type": "stream",
     "text": [
      "19/19 [==============================] - 0s 5ms/step - loss: 0.9390 - acc: 0.7700\n",
      "Epoch 169/200\n",
      "19/19 [==============================] - 0s 5ms/step - loss: 0.9259 - acc: 0.7792\n",
      "Epoch 170/200\n",
      "19/19 [==============================] - 0s 5ms/step - loss: 0.9213 - acc: 0.7767\n",
      "Epoch 171/200\n",
      "19/19 [==============================] - 0s 5ms/step - loss: 0.9197 - acc: 0.7667\n",
      "Epoch 172/200\n",
      "19/19 [==============================] - 0s 6ms/step - loss: 0.9138 - acc: 0.7858\n",
      "Epoch 173/200\n",
      "19/19 [==============================] - 0s 5ms/step - loss: 0.8907 - acc: 0.7850\n",
      "Epoch 174/200\n",
      "19/19 [==============================] - 0s 5ms/step - loss: 0.8840 - acc: 0.7833\n",
      "Epoch 175/200\n",
      "19/19 [==============================] - 0s 5ms/step - loss: 0.8678 - acc: 0.7850\n",
      "Epoch 176/200\n",
      "19/19 [==============================] - 0s 5ms/step - loss: 0.8553 - acc: 0.7925\n",
      "Epoch 177/200\n",
      "19/19 [==============================] - 0s 5ms/step - loss: 0.8575 - acc: 0.7933\n",
      "Epoch 178/200\n",
      "19/19 [==============================] - 0s 5ms/step - loss: 0.8470 - acc: 0.8000\n",
      "Epoch 179/200\n",
      "19/19 [==============================] - 0s 5ms/step - loss: 0.8311 - acc: 0.8017\n",
      "Epoch 180/200\n",
      "19/19 [==============================] - 0s 5ms/step - loss: 0.8336 - acc: 0.8008\n",
      "Epoch 181/200\n",
      "19/19 [==============================] - 0s 7ms/step - loss: 0.8239 - acc: 0.7967\n",
      "Epoch 182/200\n",
      "19/19 [==============================] - 0s 5ms/step - loss: 0.8138 - acc: 0.8058\n",
      "Epoch 183/200\n",
      "19/19 [==============================] - 0s 5ms/step - loss: 0.8053 - acc: 0.8017\n",
      "Epoch 184/200\n",
      "19/19 [==============================] - 0s 5ms/step - loss: 0.8002 - acc: 0.8067\n",
      "Epoch 185/200\n",
      "19/19 [==============================] - 0s 6ms/step - loss: 0.7942 - acc: 0.8092\n",
      "Epoch 186/200\n",
      "19/19 [==============================] - 0s 6ms/step - loss: 0.7870 - acc: 0.8208\n",
      "Epoch 187/200\n",
      "19/19 [==============================] - 0s 5ms/step - loss: 0.7661 - acc: 0.8167\n",
      "Epoch 188/200\n",
      "19/19 [==============================] - 0s 5ms/step - loss: 0.7677 - acc: 0.8117\n",
      "Epoch 189/200\n",
      "19/19 [==============================] - 0s 6ms/step - loss: 0.7614 - acc: 0.8192\n",
      "Epoch 190/200\n",
      "19/19 [==============================] - 0s 6ms/step - loss: 0.7457 - acc: 0.8192\n",
      "Epoch 191/200\n",
      "19/19 [==============================] - 0s 6ms/step - loss: 0.7333 - acc: 0.8192\n",
      "Epoch 192/200\n",
      "19/19 [==============================] - 0s 6ms/step - loss: 0.7357 - acc: 0.8233\n",
      "Epoch 193/200\n",
      "19/19 [==============================] - 0s 6ms/step - loss: 0.7217 - acc: 0.8267\n",
      "Epoch 194/200\n",
      "19/19 [==============================] - 0s 5ms/step - loss: 0.7200 - acc: 0.8258\n",
      "Epoch 195/200\n",
      "19/19 [==============================] - 0s 5ms/step - loss: 0.7130 - acc: 0.8225\n",
      "Epoch 196/200\n",
      "19/19 [==============================] - 0s 5ms/step - loss: 0.7037 - acc: 0.8250\n",
      "Epoch 197/200\n",
      "19/19 [==============================] - ETA: 0s - loss: 0.6973 - acc: 0.835 - 0s 5ms/step - loss: 0.6972 - acc: 0.8300\n",
      "Epoch 198/200\n",
      "19/19 [==============================] - 0s 5ms/step - loss: 0.6854 - acc: 0.8350\n",
      "Epoch 199/200\n",
      "19/19 [==============================] - 0s 5ms/step - loss: 0.6817 - acc: 0.8283\n",
      "Epoch 200/200\n",
      "19/19 [==============================] - 0s 6ms/step - loss: 0.6851 - acc: 0.8250\n"
     ]
    },
    {
     "data": {
      "text/plain": [
       "<keras.callbacks.History at 0x2341effaa90>"
      ]
     },
     "execution_count": 11,
     "metadata": {},
     "output_type": "execute_result"
    }
   ],
   "source": [
    "model.fit(X, y, batch_size=64, epochs=200, verbose=1)"
   ]
  },
  {
   "cell_type": "markdown",
   "id": "7a580bdf",
   "metadata": {},
   "source": [
   "### function returning a list of numbers"
   ]
  },
  {
   "cell_type": "code",
   "execution_count": 20,
   "id": "514f6385",
   "metadata": {},
   "outputs": [],
   "source": [
    "from tensorflow.keras.preprocessing.sequence import pad_sequences\n",
    "\n",
    "def seq_generate(model, input_num, verbose=False): \n",
    "    sequence = [input_num]\n",
    "\n",
    "    while len(sequence) < 7:\n",
    "        encoded = pad_sequences([sequence], maxlen=7, padding='pre')\n",
    "        result = model.predict(encoded, verbose=0)\n",
    "        \n",
    "        mask = np.zeros(result.size, dtype=bool)\n",
    "        mask[sequence] = True\n",
    "        result = np.ma.array(result, mask=mask)\n",
    "        result = np.argmax(result)\n",
    "\n",
    "        sequence.append(result)\n",
    "        \n",
    "        if verbose:\n",
    "            print(\"sequence:\", sequence)\n",
    "\n",
    "    return [sorted(sequence[:-1]), sequence[-1]]"
   ]
  },
  {
   "cell_type": "markdown",
   "id": "f36adcc8",
   "metadata": {},
   "source": [
   "test"
   ]
  },
  {
   "cell_type": "code",
   "execution_count": 21,
   "id": "6854132f",
   "metadata": {},
   "outputs": [
    {
     "name": "stdout",
     "output_type": "stream",
     "text": [
      "[[5.0209037e-09 4.5015337e-04 6.8277260e-04 5.7461644e-03 2.4512466e-03\n",
      "  2.6083009e-03 3.4166530e-01 3.4797667e-03 2.8279187e-02 5.3967949e-02\n",
      "  4.7735114e-02 8.3199824e-04 7.0640063e-03 2.3787590e-03 1.8981313e-03\n",
      "  1.0651416e-01 1.1891381e-01 1.5383541e-02 1.5640549e-02 3.9252201e-03\n",
      "  8.3756130e-03 4.6483763e-03 2.9668885e-03 5.0118198e-03 3.1920730e-03\n",
      "  1.1287935e-02 1.4637997e-04 2.7827289e-02 1.3332592e-02 2.0704271e-02\n",
      "  1.1411655e-02 6.9590553e-04 7.6254620e-04 6.4576156e-03 5.3912528e-02\n",
      "  2.4454141e-02 6.3208928e-03 7.9771888e-04 2.5651408e-02 3.0687184e-03\n",
      "  2.0653075e-04 7.7072449e-04 6.8348208e-03 9.1519672e-05 9.6025295e-04\n",
      "  4.9369450e-04]]\n",
      "6\n",
      "sequence: [2, 6]\n",
      "sequence: [2, 6, 28]\n",
      "sequence: [2, 6, 28, 33]\n",
      "sequence: [2, 6, 28, 33, 12]\n",
      "sequence: [2, 6, 28, 33, 12, 16]\n",
      "sequence: [2, 6, 28, 33, 12, 16, 18]\n"
     ]
    },
    {
     "data": {
      "text/plain": [
       "[[2, 6, 12, 16, 28, 33], 18]"
      ]
     },
     "execution_count": 21,
     "metadata": {},
     "output_type": "execute_result"
    }
   ],
   "source": [
    "test_num = 2\n",
    "seq = [[test_num]]\n",
    "encoded = pad_sequences(seq, maxlen=7, padding='pre')\n",
    "result = model.predict(encoded, verbose=0)\n",
    "\n",
    "print(result)\n",
    "print(np.argmax(result))\n",
    "\n",
    "seq_generate(model, test_num, verbose=True)"
   ]
  },
  {
   "cell_type": "markdown",
   "id": "e92949b2",
   "metadata": {},
   "source": [
   "### Execution result"
   ]
  },
  {
   "cell_type": "markdown",
   "id": "a762b6c6",
   "metadata": {},
   "source": [
   "Print the first number in order of frequency"
   ]
  },
  {
   "cell_type": "code",
   "execution_count": 22,
   "id": "d41adce2",
   "metadata": {},
   "outputs": [
    {
     "data": {
      "text/plain": [
       "37    35\n",
       "25    31\n",
       "26    31\n",
       "23    29\n",
       "4     28\n",
       "45    28\n",
       "Name: 1, dtype: int64"
      ]
     },
     "execution_count": 22,
     "metadata": {},
     "output_type": "execute_result"
    }
   ],
   "source": [
    "first_num = df['1'].value_counts()[:6]\n",
    "first_num"
   ]
  },
  {
   "cell_type": "code",
   "execution_count": 23,
   "id": "47cd235b",
   "metadata": {},
   "outputs": [
    {
     "name": "stdout",
     "output_type": "stream",
     "text": [
      "37: [[2, 6, 10, 16, 25, 37], 14]\n",
      "25: [[9, 10, 14, 18, 25, 31], 20]\n",
      "26: [[6, 17, 26, 29, 30, 39], 12]\n",
      "23: [[4, 9, 17, 18, 23, 42], 43]\n",
      " 4: [[3, 4, 10, 16, 36, 37], 9]\n",
      "45: [[11, 19, 23, 36, 44, 45], 38]\n"
     ]
    }
   ],
   "source": [
    "for num, _ in first_num.iteritems():\n",
    "    print(f\"{num:2}:\", seq_generate(model, num))"
   ]
  },
  {
   "cell_type": "markdown",
   "id": "99b3e583",
   "metadata": {},
   "source": [
    "output results for all numbers"
   ]
  },
  {
   "cell_type": "code",
   "execution_count": 24,
   "id": "f395e8eb",
   "metadata": {},
   "outputs": [
    {
     "name": "stdout",
     "output_type": "stream",
     "text": [
      " 1: [[1, 6, 9, 16, 23, 40], 3]\n",
      " 2: [[2, 6, 12, 16, 28, 33], 18]\n",
      " 3: [[3, 16, 28, 34, 37, 44], 38]\n",
      " 4: [[3, 4, 10, 16, 36, 37], 9]\n",
      " 5: [[5, 9, 22, 24, 27, 29], 28]\n",
      " 6: [[6, 10, 12, 16, 24, 33], 37]\n",
      " 7: [[1, 7, 11, 27, 34, 35], 31]\n",
      " 8: [[2, 8, 18, 20, 25, 43], 23]\n",
      " 9: [[3, 5, 9, 16, 35, 37], 28]\n",
      "10: [[5, 7, 10, 17, 25, 34], 27]\n",
      "11: [[11, 16, 29, 38, 39, 44], 18]\n",
      "12: [[10, 12, 25, 35, 42, 43], 18]\n",
      "13: [[2, 10, 13, 16, 29, 38], 18]\n",
      "14: [[1, 9, 14, 33, 38, 40], 35]\n",
      "15: [[15, 16, 25, 33, 34, 45], 40]\n",
      "16: [[4, 7, 15, 16, 22, 44], 14]\n",
      "17: [[9, 16, 17, 18, 40, 44], 39]\n",
      "18: [[6, 16, 18, 25, 37, 39], 15]\n",
      "19: [[6, 7, 11, 19, 22, 43], 12]\n",
      "20: [[4, 9, 19, 20, 33, 45], 24]\n",
      "21: [[11, 17, 21, 25, 34, 41], 9]\n",
      "22: [[6, 9, 22, 24, 28, 39], 12]\n",
      "23: [[4, 9, 17, 18, 23, 42], 43]\n",
      "24: [[4, 24, 25, 28, 33, 35], 12]\n",
      "25: [[9, 10, 14, 18, 25, 31], 20]\n",
      "26: [[6, 17, 26, 29, 30, 39], 12]\n",
      "27: [[1, 3, 18, 23, 24, 27], 26]\n",
      "28: [[9, 10, 13, 22, 24, 28], 43]\n",
      "29: [[1, 6, 16, 23, 29, 45], 37]\n",
      "30: [[22, 30, 31, 34, 41, 43], 11]\n",
      "31: [[7, 9, 10, 17, 23, 31], 43]\n",
      "32: [[11, 14, 30, 32, 39, 41], 20]\n",
      "33: [[7, 11, 16, 21, 33, 36], 25]\n",
      "34: [[8, 16, 21, 23, 29, 34], 25]\n",
      "35: [[16, 29, 33, 35, 40, 45], 3]\n",
      "36: [[5, 10, 36, 39, 42, 43], 19]\n",
      "37: [[2, 6, 10, 16, 25, 37], 14]\n",
      "38: [[9, 11, 17, 18, 24, 38], 26]\n",
      "39: [[17, 18, 23, 36, 38, 39], 3]\n",
      "40: [[10, 24, 25, 40, 41, 43], 44]\n",
      "41: [[9, 13, 15, 24, 29, 41], 38]\n",
      "42: [[3, 6, 11, 17, 18, 42], 43]\n",
      "43: [[14, 15, 16, 36, 43, 44], 30]\n",
      "44: [[6, 9, 14, 18, 34, 44], 10]\n",
      "45: [[11, 19, 23, 36, 44, 45], 38]\n"
     ]
    }
   ],
   "source": [
    "for i in range(1, 46):\n",
    "    print(f\"{i:2}:\", seq_generate(model, i))"
   ]
  },
  {
   "cell_type": "code",
   "execution_count": null,
   "id": "c069ba97",
   "metadata": {},
   "outputs": [],
   "source": []
  }
 ],
 "metadata": {
  "kernelspec": {
   "display_name": "Python 3",
   "language": "python",
   "name": "python3"
  },
  "language_info": {
   "codemirror_mode": {
    "name": "ipython",
    "version": 3
   },
   "file_extension": ".py",
   "mimetype": "text/x-python",
   "name": "python",
   "nbconvert_exporter": "python",
   "pygments_lexer": "ipython3",
   "version": "3.6.3"
  }
 },
 "nbformat": 4,
 "nbformat_minor": 5
}
