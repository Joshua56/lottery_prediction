{
 "cells": [
  {
   "cell_type": "markdown",
   "id": "b71d4241",
   "metadata": {},
   "source": [
    "# 로또 번호 예측 프로젝트"
   ]
  },
  {
   "cell_type": "markdown",
   "id": "a6652049",
   "metadata": {},
   "source": [
    "### 데이터 로드"
   ]
  },
  {
   "cell_type": "code",
   "execution_count": 1,
   "id": "812590bd",
   "metadata": {},
   "outputs": [],
   "source": [
    "import pandas as pd\n",
    "\n",
    "# df = pd.read_csv(\"lotto.csv\", index_col=0) # 순서 미포함\n",
    "df = pd.read_csv(\"lotto_ord.csv\", index_col=0) # 순서 포함"
   ]
  },
  {
   "cell_type": "markdown",
   "id": "10d6d42e",
   "metadata": {},
   "source": [
    "최근 n개의 데이터만 사용"
   ]
  },
  {
   "cell_type": "code",
   "execution_count": 2,
   "id": "d5f5fe7c",
   "metadata": {},
   "outputs": [],
   "source": [
    "train = df#[-200:]"
   ]
  },
  {
   "cell_type": "code",
   "execution_count": 3,
   "id": "e9424f2f",
   "metadata": {},
   "outputs": [
    {
     "data": {
      "text/html": [
       "<div>\n",
       "<style scoped>\n",
       "    .dataframe tbody tr th:only-of-type {\n",
       "        vertical-align: middle;\n",
       "    }\n",
       "\n",
       "    .dataframe tbody tr th {\n",
       "        vertical-align: top;\n",
       "    }\n",
       "\n",
       "    .dataframe thead th {\n",
       "        text-align: right;\n",
       "    }\n",
       "</style>\n",
       "<table border=\"1\" class=\"dataframe\">\n",
       "  <thead>\n",
       "    <tr style=\"text-align: right;\">\n",
       "      <th></th>\n",
       "      <th>1</th>\n",
       "      <th>2</th>\n",
       "      <th>3</th>\n",
       "      <th>4</th>\n",
       "      <th>5</th>\n",
       "      <th>6</th>\n",
       "      <th>B</th>\n",
       "    </tr>\n",
       "  </thead>\n",
       "  <tbody>\n",
       "    <tr>\n",
       "      <th>1</th>\n",
       "      <td>37</td>\n",
       "      <td>23</td>\n",
       "      <td>10</td>\n",
       "      <td>33</td>\n",
       "      <td>29</td>\n",
       "      <td>40</td>\n",
       "      <td>16</td>\n",
       "    </tr>\n",
       "    <tr>\n",
       "      <th>2</th>\n",
       "      <td>42</td>\n",
       "      <td>21</td>\n",
       "      <td>9</td>\n",
       "      <td>25</td>\n",
       "      <td>32</td>\n",
       "      <td>13</td>\n",
       "      <td>2</td>\n",
       "    </tr>\n",
       "    <tr>\n",
       "      <th>3</th>\n",
       "      <td>31</td>\n",
       "      <td>21</td>\n",
       "      <td>27</td>\n",
       "      <td>19</td>\n",
       "      <td>11</td>\n",
       "      <td>16</td>\n",
       "      <td>30</td>\n",
       "    </tr>\n",
       "    <tr>\n",
       "      <th>4</th>\n",
       "      <td>40</td>\n",
       "      <td>30</td>\n",
       "      <td>14</td>\n",
       "      <td>42</td>\n",
       "      <td>31</td>\n",
       "      <td>27</td>\n",
       "      <td>2</td>\n",
       "    </tr>\n",
       "    <tr>\n",
       "      <th>5</th>\n",
       "      <td>16</td>\n",
       "      <td>42</td>\n",
       "      <td>29</td>\n",
       "      <td>40</td>\n",
       "      <td>24</td>\n",
       "      <td>41</td>\n",
       "      <td>3</td>\n",
       "    </tr>\n",
       "    <tr>\n",
       "      <th>...</th>\n",
       "      <td>...</td>\n",
       "      <td>...</td>\n",
       "      <td>...</td>\n",
       "      <td>...</td>\n",
       "      <td>...</td>\n",
       "      <td>...</td>\n",
       "      <td>...</td>\n",
       "    </tr>\n",
       "    <tr>\n",
       "      <th>996</th>\n",
       "      <td>6</td>\n",
       "      <td>11</td>\n",
       "      <td>24</td>\n",
       "      <td>15</td>\n",
       "      <td>32</td>\n",
       "      <td>39</td>\n",
       "      <td>28</td>\n",
       "    </tr>\n",
       "    <tr>\n",
       "      <th>997</th>\n",
       "      <td>16</td>\n",
       "      <td>7</td>\n",
       "      <td>4</td>\n",
       "      <td>44</td>\n",
       "      <td>24</td>\n",
       "      <td>14</td>\n",
       "      <td>20</td>\n",
       "    </tr>\n",
       "    <tr>\n",
       "      <th>998</th>\n",
       "      <td>18</td>\n",
       "      <td>45</td>\n",
       "      <td>13</td>\n",
       "      <td>20</td>\n",
       "      <td>17</td>\n",
       "      <td>42</td>\n",
       "      <td>41</td>\n",
       "    </tr>\n",
       "    <tr>\n",
       "      <th>999</th>\n",
       "      <td>9</td>\n",
       "      <td>1</td>\n",
       "      <td>28</td>\n",
       "      <td>3</td>\n",
       "      <td>18</td>\n",
       "      <td>14</td>\n",
       "      <td>34</td>\n",
       "    </tr>\n",
       "    <tr>\n",
       "      <th>1000</th>\n",
       "      <td>19</td>\n",
       "      <td>2</td>\n",
       "      <td>8</td>\n",
       "      <td>22</td>\n",
       "      <td>42</td>\n",
       "      <td>32</td>\n",
       "      <td>39</td>\n",
       "    </tr>\n",
       "  </tbody>\n",
       "</table>\n",
       "<p>1000 rows × 7 columns</p>\n",
       "</div>"
      ],
      "text/plain": [
       "       1   2   3   4   5   6   B\n",
       "1     37  23  10  33  29  40  16\n",
       "2     42  21   9  25  32  13   2\n",
       "3     31  21  27  19  11  16  30\n",
       "4     40  30  14  42  31  27   2\n",
       "5     16  42  29  40  24  41   3\n",
       "...   ..  ..  ..  ..  ..  ..  ..\n",
       "996    6  11  24  15  32  39  28\n",
       "997   16   7   4  44  24  14  20\n",
       "998   18  45  13  20  17  42  41\n",
       "999    9   1  28   3  18  14  34\n",
       "1000  19   2   8  22  42  32  39\n",
       "\n",
       "[1000 rows x 7 columns]"
      ]
     },
     "execution_count": 3,
     "metadata": {},
     "output_type": "execute_result"
    }
   ],
   "source": [
    "train"
   ]
  },
  {
   "cell_type": "markdown",
   "id": "0395c17e",
   "metadata": {},
   "source": [
    "당첨번호 리스트를 가공하여 sequences 생성"
   ]
  },
  {
   "cell_type": "code",
   "execution_count": 4,
   "id": "7b8ffa7d",
   "metadata": {},
   "outputs": [
    {
     "name": "stdout",
     "output_type": "stream",
     "text": [
      "학습에 사용할 샘플의 개수: 6000\n"
     ]
    }
   ],
   "source": [
    "sequences = list()\n",
    "for _, seq in train.iterrows():\n",
    "    for i in range(1, len(seq)):\n",
    "        sequence = list(seq)[:i+1]\n",
    "        sequences.append(sequence)\n",
    "\n",
    "print('학습에 사용할 샘플의 개수: %d' % len(sequences))"
   ]
  },
  {
   "cell_type": "code",
   "execution_count": 5,
   "id": "f46421f6",
   "metadata": {},
   "outputs": [
    {
     "data": {
      "text/plain": [
       "[37, 23, 10, 33, 29, 40, 16]"
      ]
     },
     "execution_count": 5,
     "metadata": {},
     "output_type": "execute_result"
    }
   ],
   "source": [
    "train.iloc[0].tolist()"
   ]
  },
  {
   "cell_type": "code",
   "execution_count": 6,
   "id": "45432608",
   "metadata": {},
   "outputs": [
    {
     "data": {
      "text/plain": [
       "[[37, 23],\n",
       " [37, 23, 10],\n",
       " [37, 23, 10, 33],\n",
       " [37, 23, 10, 33, 29],\n",
       " [37, 23, 10, 33, 29, 40]]"
      ]
     },
     "execution_count": 6,
     "metadata": {},
     "output_type": "execute_result"
    }
   ],
   "source": [
    "sequences[:5]"
   ]
  },
  {
   "cell_type": "markdown",
   "id": "4557a79d",
   "metadata": {},
   "source": [
    "잘린 sequences의 길이를 padding"
   ]
  },
  {
   "cell_type": "code",
   "execution_count": 7,
   "id": "495d609c",
   "metadata": {},
   "outputs": [],
   "source": [
    "from tensorflow.keras.preprocessing.sequence import pad_sequences\n",
    "\n",
    "sequences = pad_sequences(sequences, maxlen=7, padding='pre')"
   ]
  },
  {
   "cell_type": "code",
   "execution_count": 8,
   "id": "7e156cf4",
   "metadata": {},
   "outputs": [
    {
     "name": "stdout",
     "output_type": "stream",
     "text": [
      "X.shape: (6000, 6)\n",
      "y.shape: (6000,)\n"
     ]
    }
   ],
   "source": [
    "import numpy as np\n",
    "\n",
    "sequences = np.array(sequences)\n",
    "X = sequences[:,:-1]\n",
    "y = sequences[:,-1]\n",
    "print(\"X.shape:\", X.shape)\n",
    "print(\"y.shape:\", y.shape)"
   ]
  },
  {
   "cell_type": "markdown",
   "id": "838da18d",
   "metadata": {},
   "source": [
    "padding후 0으로 채워진다. (0~45 총 46의 크기)"
   ]
  },
  {
   "cell_type": "code",
   "execution_count": 9,
   "id": "40e02b8c",
   "metadata": {},
   "outputs": [
    {
     "data": {
      "text/plain": [
       "array([[ 0,  0,  0,  0,  0, 37, 23],\n",
       "       [ 0,  0,  0,  0, 37, 23, 10],\n",
       "       [ 0,  0,  0, 37, 23, 10, 33],\n",
       "       [ 0,  0, 37, 23, 10, 33, 29],\n",
       "       [ 0, 37, 23, 10, 33, 29, 40]])"
      ]
     },
     "execution_count": 9,
     "metadata": {},
     "output_type": "execute_result"
    }
   ],
   "source": [
    "sequences[:5]"
   ]
  },
  {
   "cell_type": "markdown",
   "id": "490dfebf",
   "metadata": {},
   "source": [
    "테스트 / 검증 데이터셋 분리"
   ]
  },
  {
   "cell_type": "code",
   "execution_count": 10,
   "id": "492eaff2",
   "metadata": {},
   "outputs": [],
   "source": [
    "from sklearn.model_selection import train_test_split\n",
    "\n",
    "X_train, X_valid, y_train, y_valid = train_test_split(X, y, test_size=0.33, random_state=42)"
   ]
  },
  {
   "cell_type": "code",
   "execution_count": 11,
   "id": "71ba5164",
   "metadata": {},
   "outputs": [
    {
     "data": {
      "text/plain": [
       "array([[ 0,  0,  0,  0,  0,  5],\n",
       "       [26,  6, 38, 27,  5, 39],\n",
       "       [30, 33, 35,  7, 27, 37]])"
      ]
     },
     "execution_count": 11,
     "metadata": {},
     "output_type": "execute_result"
    }
   ],
   "source": [
    "X_valid[:3]"
   ]
  },
  {
   "cell_type": "markdown",
   "id": "14ab662d",
   "metadata": {},
   "source": [
    "### 모델 생성"
   ]
  },
  {
   "cell_type": "code",
   "execution_count": 12,
   "id": "134bb818",
   "metadata": {},
   "outputs": [],
   "source": [
    "from tensorflow.keras.models import Sequential\n",
    "from tensorflow.keras.layers import LSTM, Dense\n",
    "from tensorflow.keras.layers import Embedding\n",
    "\n",
    "model = Sequential()\n",
    "model.add(Embedding(45+1, 10))\n",
    "model.add(LSTM(64, input_shape=(6, 1), return_sequences=True))\n",
    "model.add(LSTM(64, return_sequences=False))\n",
    "model.add(Dense(128, activation='relu'))\n",
    "model.add(Dense(45+1, activation='softmax'))\n",
    "model.compile(loss='sparse_categorical_crossentropy', optimizer='adam', metrics='acc')"
   ]
  },
  {
   "cell_type": "code",
   "execution_count": 13,
   "id": "cd737eef",
   "metadata": {},
   "outputs": [],
   "source": [
    "from tensorflow.keras.models import Sequential\n",
    "from tensorflow.keras.layers import Bidirectional\n",
    "from tensorflow.keras.layers import LSTM, Dense\n",
    "from tensorflow.keras.layers import Embedding\n",
    "\n",
    "model = Sequential()\n",
    "model.add(Embedding(45+1, 10))\n",
    "model.add(Bidirectional(LSTM(64, input_shape=(6, 1), return_sequences=True)))\n",
    "model.add(Bidirectional(LSTM(64, return_sequences=False)))\n",
    "model.add(Dense(128, activation='relu'))\n",
    "model.add(Dense(45+1, activation='softmax'))\n",
    "model.compile(loss='sparse_categorical_crossentropy', optimizer='adam', metrics='acc')"
   ]
  },
  {
   "cell_type": "code",
   "execution_count": 14,
   "id": "c61fe59b",
   "metadata": {},
   "outputs": [
    {
     "name": "stdout",
     "output_type": "stream",
     "text": [
      "WARNING:tensorflow:From C:\\Users\\seungwon\\anaconda3\\envs\\scratch\\lib\\site-packages\\tensorflow\\python\\ops\\array_ops.py:5075: calling gather (from tensorflow.python.ops.array_ops) with validate_indices is deprecated and will be removed in a future version.\n",
      "Instructions for updating:\n",
      "The `validate_indices` argument has no effect. Indices are always validated on CPU and never validated on GPU.\n",
      "Epoch 1/200\n",
      "63/63 [==============================] - 9s 28ms/step - loss: 3.8267 - acc: 0.0229 - val_loss: 3.8224 - val_acc: 0.0232\n",
      "Epoch 2/200\n",
      "63/63 [==============================] - 1s 13ms/step - loss: 3.8161 - acc: 0.0254 - val_loss: 3.8182 - val_acc: 0.0207\n",
      "Epoch 3/200\n",
      "63/63 [==============================] - 1s 13ms/step - loss: 3.8107 - acc: 0.0254 - val_loss: 3.8155 - val_acc: 0.0207\n",
      "Epoch 4/200\n",
      "63/63 [==============================] - 1s 13ms/step - loss: 3.8082 - acc: 0.0249 - val_loss: 3.8143 - val_acc: 0.0197\n",
      "Epoch 5/200\n",
      "63/63 [==============================] - 1s 13ms/step - loss: 3.8063 - acc: 0.0259 - val_loss: 3.8120 - val_acc: 0.0197\n",
      "Epoch 6/200\n",
      "63/63 [==============================] - 1s 13ms/step - loss: 3.8009 - acc: 0.0259 - val_loss: 3.8160 - val_acc: 0.0202\n",
      "Epoch 7/200\n",
      "63/63 [==============================] - 1s 13ms/step - loss: 3.7934 - acc: 0.0301 - val_loss: 3.8225 - val_acc: 0.0177\n",
      "Epoch 8/200\n",
      "63/63 [==============================] - 1s 12ms/step - loss: 3.7842 - acc: 0.0311 - val_loss: 3.8259 - val_acc: 0.0197\n",
      "Epoch 9/200\n",
      "63/63 [==============================] - 1s 13ms/step - loss: 3.7725 - acc: 0.0356 - val_loss: 3.8366 - val_acc: 0.0197\n",
      "Epoch 10/200\n",
      "63/63 [==============================] - 1s 13ms/step - loss: 3.7637 - acc: 0.0348 - val_loss: 3.8487 - val_acc: 0.0152\n",
      "Epoch 11/200\n",
      "63/63 [==============================] - 1s 13ms/step - loss: 3.7553 - acc: 0.0403 - val_loss: 3.8435 - val_acc: 0.0141\n",
      "Epoch 12/200\n",
      "63/63 [==============================] - 1s 13ms/step - loss: 3.7458 - acc: 0.0398 - val_loss: 3.8764 - val_acc: 0.0197\n",
      "Epoch 13/200\n",
      "63/63 [==============================] - 1s 13ms/step - loss: 3.7342 - acc: 0.0450 - val_loss: 3.8716 - val_acc: 0.0172\n",
      "Epoch 14/200\n",
      "63/63 [==============================] - 1s 13ms/step - loss: 3.7209 - acc: 0.0465 - val_loss: 3.8657 - val_acc: 0.0146\n",
      "Epoch 15/200\n",
      "63/63 [==============================] - 1s 13ms/step - loss: 3.7037 - acc: 0.0488 - val_loss: 3.9075 - val_acc: 0.0167\n",
      "Epoch 16/200\n",
      "63/63 [==============================] - 1s 13ms/step - loss: 3.6924 - acc: 0.0522 - val_loss: 3.9336 - val_acc: 0.0162\n",
      "Epoch 17/200\n",
      "63/63 [==============================] - 1s 13ms/step - loss: 3.6718 - acc: 0.0535 - val_loss: 3.9175 - val_acc: 0.0172\n",
      "Epoch 18/200\n",
      "63/63 [==============================] - 1s 13ms/step - loss: 3.6551 - acc: 0.0585 - val_loss: 3.9498 - val_acc: 0.0187\n",
      "Epoch 19/200\n",
      "63/63 [==============================] - 1s 13ms/step - loss: 3.6265 - acc: 0.0619 - val_loss: 3.9801 - val_acc: 0.0227\n",
      "Epoch 20/200\n",
      "63/63 [==============================] - 1s 13ms/step - loss: 3.6109 - acc: 0.0709 - val_loss: 3.9921 - val_acc: 0.0192\n",
      "Epoch 21/200\n",
      "63/63 [==============================] - 1s 13ms/step - loss: 3.5806 - acc: 0.0682 - val_loss: 4.0078 - val_acc: 0.0182\n",
      "Epoch 22/200\n",
      "63/63 [==============================] - 1s 13ms/step - loss: 3.5499 - acc: 0.0734 - val_loss: 4.0572 - val_acc: 0.0192\n",
      "Epoch 23/200\n",
      "63/63 [==============================] - 1s 12ms/step - loss: 3.5178 - acc: 0.0903 - val_loss: 4.0715 - val_acc: 0.0227\n",
      "Epoch 24/200\n",
      "63/63 [==============================] - 1s 12ms/step - loss: 3.4820 - acc: 0.0915 - val_loss: 4.1246 - val_acc: 0.0207\n",
      "Epoch 25/200\n",
      "63/63 [==============================] - 1s 12ms/step - loss: 3.4377 - acc: 0.1030 - val_loss: 4.1279 - val_acc: 0.0227\n",
      "Epoch 26/200\n",
      "63/63 [==============================] - 1s 13ms/step - loss: 3.3944 - acc: 0.1070 - val_loss: 4.1987 - val_acc: 0.0197\n",
      "Epoch 27/200\n",
      "63/63 [==============================] - 1s 13ms/step - loss: 3.3409 - acc: 0.1246 - val_loss: 4.2432 - val_acc: 0.0172\n",
      "Epoch 28/200\n",
      "63/63 [==============================] - 1s 13ms/step - loss: 3.2964 - acc: 0.1311 - val_loss: 4.2599 - val_acc: 0.0202\n",
      "Epoch 29/200\n",
      "63/63 [==============================] - 1s 13ms/step - loss: 3.2413 - acc: 0.1475 - val_loss: 4.2995 - val_acc: 0.0232\n",
      "Epoch 30/200\n",
      "63/63 [==============================] - 1s 13ms/step - loss: 3.1888 - acc: 0.1595 - val_loss: 4.4225 - val_acc: 0.0197\n",
      "Epoch 31/200\n",
      "63/63 [==============================] - 1s 12ms/step - loss: 3.1395 - acc: 0.1721 - val_loss: 4.4236 - val_acc: 0.0197\n",
      "Epoch 32/200\n",
      "63/63 [==============================] - 1s 12ms/step - loss: 3.0776 - acc: 0.1883 - val_loss: 4.4771 - val_acc: 0.0187\n",
      "Epoch 33/200\n",
      "63/63 [==============================] - 1s 13ms/step - loss: 3.0122 - acc: 0.2020 - val_loss: 4.5277 - val_acc: 0.0207\n",
      "Epoch 34/200\n",
      "63/63 [==============================] - 1s 13ms/step - loss: 2.9552 - acc: 0.2174 - val_loss: 4.6040 - val_acc: 0.0222\n",
      "Epoch 35/200\n",
      "63/63 [==============================] - 1s 13ms/step - loss: 2.9047 - acc: 0.2361 - val_loss: 4.6454 - val_acc: 0.0197\n",
      "Epoch 36/200\n",
      "63/63 [==============================] - 1s 13ms/step - loss: 2.8338 - acc: 0.2512 - val_loss: 4.7247 - val_acc: 0.0217\n",
      "Epoch 37/200\n",
      "63/63 [==============================] - 1s 13ms/step - loss: 2.7733 - acc: 0.2667 - val_loss: 4.7067 - val_acc: 0.0217\n",
      "Epoch 38/200\n",
      "63/63 [==============================] - 1s 12ms/step - loss: 2.6972 - acc: 0.2915 - val_loss: 4.8012 - val_acc: 0.0192\n",
      "Epoch 39/200\n",
      "63/63 [==============================] - 1s 13ms/step - loss: 2.6495 - acc: 0.3010 - val_loss: 4.8398 - val_acc: 0.0182\n",
      "Epoch 40/200\n",
      "63/63 [==============================] - 1s 13ms/step - loss: 2.5906 - acc: 0.3107 - val_loss: 4.9180 - val_acc: 0.0202\n",
      "Epoch 41/200\n",
      "63/63 [==============================] - 1s 12ms/step - loss: 2.5298 - acc: 0.3353 - val_loss: 5.0130 - val_acc: 0.0167\n",
      "Epoch 42/200\n",
      "63/63 [==============================] - 1s 13ms/step - loss: 2.4596 - acc: 0.3557 - val_loss: 5.0697 - val_acc: 0.0162\n",
      "Epoch 43/200\n",
      "63/63 [==============================] - 1s 13ms/step - loss: 2.3986 - acc: 0.3709 - val_loss: 5.1217 - val_acc: 0.0157\n",
      "Epoch 44/200\n",
      "63/63 [==============================] - 1s 13ms/step - loss: 2.3273 - acc: 0.3948 - val_loss: 5.1985 - val_acc: 0.0177\n",
      "Epoch 45/200\n",
      "63/63 [==============================] - 1s 13ms/step - loss: 2.2777 - acc: 0.4052 - val_loss: 5.2924 - val_acc: 0.0167\n",
      "Epoch 46/200\n",
      "63/63 [==============================] - 1s 13ms/step - loss: 2.2152 - acc: 0.4201 - val_loss: 5.3344 - val_acc: 0.0177\n",
      "Epoch 47/200\n",
      "63/63 [==============================] - 1s 13ms/step - loss: 2.1603 - acc: 0.4485 - val_loss: 5.3866 - val_acc: 0.0162\n",
      "Epoch 48/200\n",
      "63/63 [==============================] - 1s 13ms/step - loss: 2.1004 - acc: 0.4562 - val_loss: 5.5164 - val_acc: 0.0157\n",
      "Epoch 49/200\n",
      "63/63 [==============================] - 1s 13ms/step - loss: 2.0477 - acc: 0.4751 - val_loss: 5.5909 - val_acc: 0.0162\n",
      "Epoch 50/200\n",
      "63/63 [==============================] - 1s 12ms/step - loss: 1.9962 - acc: 0.4851 - val_loss: 5.6489 - val_acc: 0.0182\n",
      "Epoch 51/200\n",
      "63/63 [==============================] - 1s 13ms/step - loss: 1.9343 - acc: 0.5082 - val_loss: 5.6875 - val_acc: 0.0141\n",
      "Epoch 52/200\n",
      "63/63 [==============================] - 1s 12ms/step - loss: 1.8682 - acc: 0.5249 - val_loss: 5.7760 - val_acc: 0.0141\n",
      "Epoch 53/200\n",
      "63/63 [==============================] - 1s 12ms/step - loss: 1.8244 - acc: 0.5418 - val_loss: 5.8863 - val_acc: 0.0146\n",
      "Epoch 54/200\n",
      "63/63 [==============================] - 1s 12ms/step - loss: 1.7627 - acc: 0.5570 - val_loss: 5.9143 - val_acc: 0.0177\n",
      "Epoch 55/200\n",
      "63/63 [==============================] - 1s 12ms/step - loss: 1.7334 - acc: 0.5627 - val_loss: 6.0253 - val_acc: 0.0157\n",
      "Epoch 56/200\n",
      "63/63 [==============================] - 1s 12ms/step - loss: 1.6886 - acc: 0.5714 - val_loss: 6.1045 - val_acc: 0.0167\n",
      "Epoch 57/200\n",
      "63/63 [==============================] - 1s 12ms/step - loss: 1.6317 - acc: 0.5913 - val_loss: 6.2421 - val_acc: 0.0182\n",
      "Epoch 58/200\n",
      "63/63 [==============================] - 1s 12ms/step - loss: 1.5758 - acc: 0.6067 - val_loss: 6.3395 - val_acc: 0.0157\n",
      "Epoch 59/200\n",
      "63/63 [==============================] - 1s 12ms/step - loss: 1.5525 - acc: 0.6109 - val_loss: 6.3888 - val_acc: 0.0162\n"
     ]
    },
    {
     "name": "stdout",
     "output_type": "stream",
     "text": [
      "Epoch 60/200\n",
      "63/63 [==============================] - 1s 13ms/step - loss: 1.4953 - acc: 0.6269 - val_loss: 6.4410 - val_acc: 0.0167\n",
      "Epoch 61/200\n",
      "63/63 [==============================] - 1s 12ms/step - loss: 1.4582 - acc: 0.6430 - val_loss: 6.5484 - val_acc: 0.0172\n",
      "Epoch 62/200\n",
      "63/63 [==============================] - 1s 12ms/step - loss: 1.4310 - acc: 0.6410 - val_loss: 6.6054 - val_acc: 0.0167\n",
      "Epoch 63/200\n",
      "63/63 [==============================] - 1s 13ms/step - loss: 1.3916 - acc: 0.6547 - val_loss: 6.6660 - val_acc: 0.0197\n",
      "Epoch 64/200\n",
      "63/63 [==============================] - 1s 12ms/step - loss: 1.3592 - acc: 0.6627 - val_loss: 6.8276 - val_acc: 0.0207\n",
      "Epoch 65/200\n",
      "63/63 [==============================] - 1s 13ms/step - loss: 1.3193 - acc: 0.6776 - val_loss: 6.8425 - val_acc: 0.0146\n",
      "Epoch 66/200\n",
      "63/63 [==============================] - 1s 12ms/step - loss: 1.2816 - acc: 0.6838 - val_loss: 6.9073 - val_acc: 0.0162\n",
      "Epoch 67/200\n",
      "63/63 [==============================] - 1s 13ms/step - loss: 1.2545 - acc: 0.6905 - val_loss: 6.9987 - val_acc: 0.0141\n",
      "Epoch 68/200\n",
      "63/63 [==============================] - 1s 13ms/step - loss: 1.2197 - acc: 0.6973 - val_loss: 7.0711 - val_acc: 0.0187\n",
      "Epoch 69/200\n",
      "63/63 [==============================] - 1s 12ms/step - loss: 1.1846 - acc: 0.7047 - val_loss: 7.1170 - val_acc: 0.0172\n",
      "Epoch 70/200\n",
      "63/63 [==============================] - 1s 13ms/step - loss: 1.1587 - acc: 0.7070 - val_loss: 7.3021 - val_acc: 0.0177\n",
      "Epoch 71/200\n",
      "63/63 [==============================] - 1s 13ms/step - loss: 1.1352 - acc: 0.7174 - val_loss: 7.3566 - val_acc: 0.0182\n",
      "Epoch 72/200\n",
      "63/63 [==============================] - 1s 13ms/step - loss: 1.0926 - acc: 0.7308 - val_loss: 7.4449 - val_acc: 0.0152\n",
      "Epoch 73/200\n",
      "63/63 [==============================] - 1s 13ms/step - loss: 1.0797 - acc: 0.7291 - val_loss: 7.5349 - val_acc: 0.0217\n",
      "Epoch 74/200\n",
      "63/63 [==============================] - 1s 13ms/step - loss: 1.0513 - acc: 0.7356 - val_loss: 7.6459 - val_acc: 0.0242\n",
      "Epoch 75/200\n",
      "63/63 [==============================] - 1s 13ms/step - loss: 1.0318 - acc: 0.7403 - val_loss: 7.6991 - val_acc: 0.0187\n",
      "Epoch 76/200\n",
      "63/63 [==============================] - 1s 13ms/step - loss: 1.0123 - acc: 0.7450 - val_loss: 7.7741 - val_acc: 0.0172\n",
      "Epoch 77/200\n",
      "63/63 [==============================] - 1s 13ms/step - loss: 0.9824 - acc: 0.7515 - val_loss: 7.7830 - val_acc: 0.0227\n",
      "Epoch 78/200\n",
      "63/63 [==============================] - 1s 13ms/step - loss: 0.9808 - acc: 0.7490 - val_loss: 7.9323 - val_acc: 0.0192\n",
      "Epoch 79/200\n",
      "63/63 [==============================] - 1s 13ms/step - loss: 0.9646 - acc: 0.7525 - val_loss: 8.0078 - val_acc: 0.0182\n",
      "Epoch 80/200\n",
      "63/63 [==============================] - 1s 13ms/step - loss: 0.9332 - acc: 0.7590 - val_loss: 8.0352 - val_acc: 0.0187\n",
      "Epoch 81/200\n",
      "63/63 [==============================] - 1s 13ms/step - loss: 0.9109 - acc: 0.7627 - val_loss: 8.0578 - val_acc: 0.0192\n",
      "Epoch 82/200\n",
      "63/63 [==============================] - 1s 13ms/step - loss: 0.9007 - acc: 0.7657 - val_loss: 8.2579 - val_acc: 0.0192\n",
      "Epoch 83/200\n",
      "63/63 [==============================] - 1s 13ms/step - loss: 0.8801 - acc: 0.7709 - val_loss: 8.2664 - val_acc: 0.0182\n",
      "Epoch 84/200\n",
      "63/63 [==============================] - 1s 13ms/step - loss: 0.8672 - acc: 0.7794 - val_loss: 8.3603 - val_acc: 0.0197\n",
      "Epoch 85/200\n",
      "63/63 [==============================] - 1s 13ms/step - loss: 0.8581 - acc: 0.7729 - val_loss: 8.4111 - val_acc: 0.0212\n",
      "Epoch 86/200\n",
      "63/63 [==============================] - 1s 12ms/step - loss: 0.8463 - acc: 0.7789 - val_loss: 8.5016 - val_acc: 0.0207\n",
      "Epoch 87/200\n",
      "63/63 [==============================] - 1s 13ms/step - loss: 0.8228 - acc: 0.7856 - val_loss: 8.5039 - val_acc: 0.0197\n",
      "Epoch 88/200\n",
      "63/63 [==============================] - 1s 13ms/step - loss: 0.8115 - acc: 0.7851 - val_loss: 8.6235 - val_acc: 0.0207\n",
      "Epoch 89/200\n",
      "63/63 [==============================] - 1s 13ms/step - loss: 0.8040 - acc: 0.7836 - val_loss: 8.6460 - val_acc: 0.0192\n",
      "Epoch 90/200\n",
      "63/63 [==============================] - 1s 13ms/step - loss: 0.7834 - acc: 0.7900 - val_loss: 8.7327 - val_acc: 0.0192\n",
      "Epoch 91/200\n",
      "63/63 [==============================] - 1s 13ms/step - loss: 0.7680 - acc: 0.7910 - val_loss: 8.8042 - val_acc: 0.0212\n",
      "Epoch 92/200\n",
      "63/63 [==============================] - 1s 13ms/step - loss: 0.7702 - acc: 0.7915 - val_loss: 8.8536 - val_acc: 0.0212\n",
      "Epoch 93/200\n",
      "63/63 [==============================] - 1s 13ms/step - loss: 0.7550 - acc: 0.7918 - val_loss: 8.9732 - val_acc: 0.0217\n",
      "Epoch 94/200\n",
      "63/63 [==============================] - 1s 13ms/step - loss: 0.7451 - acc: 0.7925 - val_loss: 9.0047 - val_acc: 0.0207\n",
      "Epoch 95/200\n",
      "63/63 [==============================] - 1s 13ms/step - loss: 0.7421 - acc: 0.7968 - val_loss: 9.0782 - val_acc: 0.0222\n",
      "Epoch 96/200\n",
      "63/63 [==============================] - 1s 13ms/step - loss: 0.7403 - acc: 0.7995 - val_loss: 9.1193 - val_acc: 0.0167\n",
      "Epoch 97/200\n",
      "63/63 [==============================] - 1s 13ms/step - loss: 0.7352 - acc: 0.7925 - val_loss: 9.1457 - val_acc: 0.0212\n",
      "Epoch 98/200\n",
      "63/63 [==============================] - 1s 12ms/step - loss: 0.7203 - acc: 0.7990 - val_loss: 9.2333 - val_acc: 0.0217\n",
      "Epoch 99/200\n",
      "63/63 [==============================] - 1s 13ms/step - loss: 0.7116 - acc: 0.8002 - val_loss: 9.2905 - val_acc: 0.0222\n",
      "Epoch 100/200\n",
      "63/63 [==============================] - 1s 13ms/step - loss: 0.7075 - acc: 0.7995 - val_loss: 9.2769 - val_acc: 0.0217\n",
      "Epoch 101/200\n",
      "63/63 [==============================] - 1s 13ms/step - loss: 0.7004 - acc: 0.8010 - val_loss: 9.4064 - val_acc: 0.0197\n",
      "Epoch 102/200\n",
      "63/63 [==============================] - 1s 13ms/step - loss: 0.7011 - acc: 0.7960 - val_loss: 9.4539 - val_acc: 0.0222\n",
      "Epoch 103/200\n",
      "63/63 [==============================] - 1s 13ms/step - loss: 0.7004 - acc: 0.8020 - val_loss: 9.5228 - val_acc: 0.0212\n",
      "Epoch 104/200\n",
      "63/63 [==============================] - 1s 14ms/step - loss: 0.7270 - acc: 0.7933 - val_loss: 9.3878 - val_acc: 0.0217\n",
      "Epoch 105/200\n",
      "63/63 [==============================] - 1s 13ms/step - loss: 0.8289 - acc: 0.7662 - val_loss: 9.4883 - val_acc: 0.0202\n",
      "Epoch 106/200\n",
      "63/63 [==============================] - 1s 13ms/step - loss: 0.7569 - acc: 0.7848 - val_loss: 9.5364 - val_acc: 0.0242\n",
      "Epoch 107/200\n",
      "63/63 [==============================] - 1s 13ms/step - loss: 0.7263 - acc: 0.7948 - val_loss: 9.6353 - val_acc: 0.0237\n",
      "Epoch 108/200\n",
      "63/63 [==============================] - 1s 12ms/step - loss: 0.6839 - acc: 0.8030 - val_loss: 9.6623 - val_acc: 0.0202\n",
      "Epoch 109/200\n",
      "63/63 [==============================] - 1s 13ms/step - loss: 0.6637 - acc: 0.8047 - val_loss: 9.7148 - val_acc: 0.0212\n",
      "Epoch 110/200\n",
      "63/63 [==============================] - 1s 12ms/step - loss: 0.6503 - acc: 0.8080 - val_loss: 9.7520 - val_acc: 0.0207\n",
      "Epoch 111/200\n",
      "63/63 [==============================] - 1s 12ms/step - loss: 0.6507 - acc: 0.8042 - val_loss: 9.6847 - val_acc: 0.0202\n",
      "Epoch 112/200\n",
      "63/63 [==============================] - 1s 12ms/step - loss: 0.6443 - acc: 0.8047 - val_loss: 9.9033 - val_acc: 0.0202\n",
      "Epoch 113/200\n",
      "63/63 [==============================] - 1s 13ms/step - loss: 0.6401 - acc: 0.8090 - val_loss: 9.8934 - val_acc: 0.0207\n",
      "Epoch 114/200\n",
      "63/63 [==============================] - 1s 12ms/step - loss: 0.6417 - acc: 0.8062 - val_loss: 9.9347 - val_acc: 0.0207\n",
      "Epoch 115/200\n",
      "63/63 [==============================] - 1s 12ms/step - loss: 0.6509 - acc: 0.8007 - val_loss: 10.0202 - val_acc: 0.0192\n",
      "Epoch 116/200\n",
      "63/63 [==============================] - 1s 12ms/step - loss: 0.6368 - acc: 0.8055 - val_loss: 9.9520 - val_acc: 0.0202\n",
      "Epoch 117/200\n",
      "63/63 [==============================] - 1s 12ms/step - loss: 0.6318 - acc: 0.7993 - val_loss: 10.0542 - val_acc: 0.0217\n",
      "Epoch 118/200\n",
      "63/63 [==============================] - 1s 12ms/step - loss: 0.6244 - acc: 0.8065 - val_loss: 10.1262 - val_acc: 0.0212\n",
      "Epoch 119/200\n",
      "63/63 [==============================] - 1s 12ms/step - loss: 0.6208 - acc: 0.8040 - val_loss: 10.1064 - val_acc: 0.0222\n",
      "Epoch 120/200\n",
      "63/63 [==============================] - 1s 12ms/step - loss: 0.6270 - acc: 0.8007 - val_loss: 10.1730 - val_acc: 0.0217\n",
      "Epoch 121/200\n",
      "63/63 [==============================] - 1s 12ms/step - loss: 0.6254 - acc: 0.8030 - val_loss: 10.0870 - val_acc: 0.0212\n",
      "Epoch 122/200\n",
      "63/63 [==============================] - 1s 12ms/step - loss: 0.6356 - acc: 0.8070 - val_loss: 10.3055 - val_acc: 0.0212\n",
      "Epoch 123/200\n",
      "63/63 [==============================] - 1s 12ms/step - loss: 0.6216 - acc: 0.8045 - val_loss: 10.2936 - val_acc: 0.0253\n",
      "Epoch 124/200\n",
      "63/63 [==============================] - 1s 12ms/step - loss: 0.6253 - acc: 0.8040 - val_loss: 10.2357 - val_acc: 0.0222\n",
      "Epoch 125/200\n",
      "63/63 [==============================] - 1s 12ms/step - loss: 0.6203 - acc: 0.8035 - val_loss: 10.2452 - val_acc: 0.0247\n",
      "Epoch 126/200\n",
      "63/63 [==============================] - 1s 12ms/step - loss: 0.6245 - acc: 0.8077 - val_loss: 10.4353 - val_acc: 0.0217\n",
      "Epoch 127/200\n",
      "63/63 [==============================] - 1s 11ms/step - loss: 0.6217 - acc: 0.8055 - val_loss: 10.4402 - val_acc: 0.0268\n",
      "Epoch 128/200\n",
      "63/63 [==============================] - 1s 12ms/step - loss: 0.6149 - acc: 0.8042 - val_loss: 10.4051 - val_acc: 0.0207\n",
      "Epoch 129/200\n",
      "63/63 [==============================] - 1s 12ms/step - loss: 0.6125 - acc: 0.8060 - val_loss: 10.5540 - val_acc: 0.0192\n",
      "Epoch 130/200\n",
      "63/63 [==============================] - 1s 12ms/step - loss: 0.6089 - acc: 0.8050 - val_loss: 10.4314 - val_acc: 0.0217\n",
      "Epoch 131/200\n",
      "63/63 [==============================] - 1s 12ms/step - loss: 0.6079 - acc: 0.8047 - val_loss: 10.5198 - val_acc: 0.0227\n",
      "Epoch 132/200\n",
      "63/63 [==============================] - 1s 12ms/step - loss: 0.6103 - acc: 0.8072 - val_loss: 10.4913 - val_acc: 0.0242\n",
      "Epoch 133/200\n",
      "63/63 [==============================] - 1s 11ms/step - loss: 0.6037 - acc: 0.8057 - val_loss: 10.5373 - val_acc: 0.0207\n",
      "Epoch 134/200\n",
      "63/63 [==============================] - 1s 11ms/step - loss: 0.6069 - acc: 0.8065 - val_loss: 10.6123 - val_acc: 0.0192\n",
      "Epoch 135/200\n",
      "63/63 [==============================] - 1s 11ms/step - loss: 0.6167 - acc: 0.8025 - val_loss: 10.5628 - val_acc: 0.0222\n",
      "Epoch 136/200\n",
      "63/63 [==============================] - 1s 12ms/step - loss: 0.6173 - acc: 0.8042 - val_loss: 10.6633 - val_acc: 0.0253\n",
      "Epoch 137/200\n",
      "63/63 [==============================] - 1s 12ms/step - loss: 0.6751 - acc: 0.7886 - val_loss: 10.5637 - val_acc: 0.0227\n",
      "Epoch 138/200\n",
      "63/63 [==============================] - 1s 11ms/step - loss: 0.7331 - acc: 0.7741 - val_loss: 10.5312 - val_acc: 0.0242\n",
      "Epoch 139/200\n",
      "63/63 [==============================] - 1s 12ms/step - loss: 0.7102 - acc: 0.7836 - val_loss: 10.5213 - val_acc: 0.0182\n",
      "Epoch 140/200\n",
      "63/63 [==============================] - 1s 12ms/step - loss: 0.6664 - acc: 0.7923 - val_loss: 10.6742 - val_acc: 0.0212\n",
      "Epoch 141/200\n",
      "63/63 [==============================] - 1s 12ms/step - loss: 0.6221 - acc: 0.8055 - val_loss: 10.6461 - val_acc: 0.0253\n",
      "Epoch 142/200\n",
      "63/63 [==============================] - 1s 12ms/step - loss: 0.6033 - acc: 0.8055 - val_loss: 10.6495 - val_acc: 0.0217\n",
      "Epoch 143/200\n",
      "63/63 [==============================] - 1s 12ms/step - loss: 0.5958 - acc: 0.8075 - val_loss: 10.7709 - val_acc: 0.0202\n",
      "Epoch 144/200\n",
      "63/63 [==============================] - 1s 12ms/step - loss: 0.5887 - acc: 0.8055 - val_loss: 10.8038 - val_acc: 0.0222\n",
      "Epoch 145/200\n",
      "63/63 [==============================] - 1s 12ms/step - loss: 0.5854 - acc: 0.8080 - val_loss: 10.8020 - val_acc: 0.0192\n",
      "Epoch 146/200\n",
      "63/63 [==============================] - 1s 12ms/step - loss: 0.5845 - acc: 0.8065 - val_loss: 10.7596 - val_acc: 0.0242\n",
      "Epoch 147/200\n",
      "63/63 [==============================] - 1s 12ms/step - loss: 0.5865 - acc: 0.8109 - val_loss: 10.7567 - val_acc: 0.0247\n",
      "Epoch 148/200\n",
      "63/63 [==============================] - 1s 12ms/step - loss: 0.5886 - acc: 0.8030 - val_loss: 10.7995 - val_acc: 0.0227\n",
      "Epoch 149/200\n",
      "63/63 [==============================] - 1s 12ms/step - loss: 0.5813 - acc: 0.8097 - val_loss: 10.8664 - val_acc: 0.0227\n",
      "Epoch 150/200\n",
      "63/63 [==============================] - 1s 12ms/step - loss: 0.6035 - acc: 0.8020 - val_loss: 10.8719 - val_acc: 0.0207\n",
      "Epoch 151/200\n",
      "63/63 [==============================] - 1s 12ms/step - loss: 0.6147 - acc: 0.8032 - val_loss: 10.8239 - val_acc: 0.0242\n",
      "Epoch 152/200\n",
      "63/63 [==============================] - 1s 12ms/step - loss: 0.5941 - acc: 0.8052 - val_loss: 10.9604 - val_acc: 0.0242\n",
      "Epoch 153/200\n",
      "63/63 [==============================] - 1s 12ms/step - loss: 0.5824 - acc: 0.8075 - val_loss: 10.8924 - val_acc: 0.0227\n",
      "Epoch 154/200\n",
      "63/63 [==============================] - 1s 13ms/step - loss: 0.5889 - acc: 0.8072 - val_loss: 10.9147 - val_acc: 0.0217\n",
      "Epoch 155/200\n",
      "63/63 [==============================] - 1s 12ms/step - loss: 0.5884 - acc: 0.8070 - val_loss: 10.9430 - val_acc: 0.0237\n",
      "Epoch 156/200\n",
      "63/63 [==============================] - 1s 12ms/step - loss: 0.5906 - acc: 0.8067 - val_loss: 10.8890 - val_acc: 0.0237\n",
      "Epoch 157/200\n",
      "63/63 [==============================] - 1s 12ms/step - loss: 0.5895 - acc: 0.8050 - val_loss: 11.0445 - val_acc: 0.0232\n",
      "Epoch 158/200\n",
      "63/63 [==============================] - 1s 12ms/step - loss: 0.5811 - acc: 0.8082 - val_loss: 11.0949 - val_acc: 0.0187\n",
      "Epoch 159/200\n",
      "63/63 [==============================] - 1s 12ms/step - loss: 0.5792 - acc: 0.8080 - val_loss: 11.0289 - val_acc: 0.0197\n",
      "Epoch 160/200\n",
      "63/63 [==============================] - 1s 12ms/step - loss: 0.5768 - acc: 0.8109 - val_loss: 11.0476 - val_acc: 0.0227\n",
      "Epoch 161/200\n",
      "63/63 [==============================] - 1s 11ms/step - loss: 0.5874 - acc: 0.8065 - val_loss: 11.0252 - val_acc: 0.0212\n",
      "Epoch 162/200\n",
      "63/63 [==============================] - 1s 12ms/step - loss: 0.5788 - acc: 0.8055 - val_loss: 11.1383 - val_acc: 0.0192\n",
      "Epoch 163/200\n",
      "63/63 [==============================] - 1s 12ms/step - loss: 0.5776 - acc: 0.8017 - val_loss: 11.1664 - val_acc: 0.0177\n",
      "Epoch 164/200\n",
      "63/63 [==============================] - 1s 12ms/step - loss: 0.5719 - acc: 0.8090 - val_loss: 11.1822 - val_acc: 0.0268\n",
      "Epoch 165/200\n",
      "63/63 [==============================] - 1s 12ms/step - loss: 0.5788 - acc: 0.8062 - val_loss: 11.1442 - val_acc: 0.0212\n",
      "Epoch 166/200\n",
      "63/63 [==============================] - 1s 12ms/step - loss: 0.5755 - acc: 0.8077 - val_loss: 11.2511 - val_acc: 0.0217\n",
      "Epoch 167/200\n",
      "63/63 [==============================] - 1s 11ms/step - loss: 0.5803 - acc: 0.8045 - val_loss: 11.1686 - val_acc: 0.0227\n",
      "Epoch 168/200\n",
      "63/63 [==============================] - 1s 11ms/step - loss: 0.5921 - acc: 0.8032 - val_loss: 11.2500 - val_acc: 0.0197\n",
      "Epoch 169/200\n",
      "63/63 [==============================] - 1s 12ms/step - loss: 0.5916 - acc: 0.8047 - val_loss: 11.1282 - val_acc: 0.0232\n",
      "Epoch 170/200\n",
      "63/63 [==============================] - 1s 11ms/step - loss: 0.6482 - acc: 0.7933 - val_loss: 11.0427 - val_acc: 0.0242\n",
      "Epoch 171/200\n",
      "63/63 [==============================] - 1s 12ms/step - loss: 0.7080 - acc: 0.7721 - val_loss: 11.0431 - val_acc: 0.0222\n",
      "Epoch 172/200\n",
      "63/63 [==============================] - 1s 11ms/step - loss: 0.7212 - acc: 0.7774 - val_loss: 10.9015 - val_acc: 0.0232\n",
      "Epoch 173/200\n",
      "63/63 [==============================] - 1s 11ms/step - loss: 0.6527 - acc: 0.7908 - val_loss: 11.1140 - val_acc: 0.0192\n",
      "Epoch 174/200\n",
      "63/63 [==============================] - 1s 12ms/step - loss: 0.6313 - acc: 0.7993 - val_loss: 11.0066 - val_acc: 0.0263\n",
      "Epoch 175/200\n",
      "63/63 [==============================] - 1s 12ms/step - loss: 0.5927 - acc: 0.8015 - val_loss: 11.1816 - val_acc: 0.0197\n",
      "Epoch 176/200\n",
      "63/63 [==============================] - 1s 12ms/step - loss: 0.5721 - acc: 0.8090 - val_loss: 11.1837 - val_acc: 0.0187\n",
      "Epoch 177/200\n",
      "63/63 [==============================] - 1s 12ms/step - loss: 0.5670 - acc: 0.8067 - val_loss: 11.2426 - val_acc: 0.0212\n",
      "Epoch 178/200\n",
      "63/63 [==============================] - 1s 12ms/step - loss: 0.5674 - acc: 0.8065 - val_loss: 11.1512 - val_acc: 0.0232\n",
      "Epoch 179/200\n",
      "63/63 [==============================] - 1s 13ms/step - loss: 0.5635 - acc: 0.8097 - val_loss: 11.2982 - val_acc: 0.0187\n",
      "Epoch 180/200\n",
      "63/63 [==============================] - 1s 12ms/step - loss: 0.5639 - acc: 0.8047 - val_loss: 11.2861 - val_acc: 0.0227\n",
      "Epoch 181/200\n",
      "63/63 [==============================] - 1s 12ms/step - loss: 0.5647 - acc: 0.8087 - val_loss: 11.3057 - val_acc: 0.0212\n"
     ]
    },
    {
     "name": "stdout",
     "output_type": "stream",
     "text": [
      "Epoch 182/200\n",
      "63/63 [==============================] - 1s 12ms/step - loss: 0.5680 - acc: 0.8062 - val_loss: 11.3460 - val_acc: 0.0197\n",
      "Epoch 183/200\n",
      "63/63 [==============================] - 1s 12ms/step - loss: 0.5709 - acc: 0.8085 - val_loss: 11.3056 - val_acc: 0.0222\n",
      "Epoch 184/200\n",
      "63/63 [==============================] - 1s 12ms/step - loss: 0.5656 - acc: 0.8082 - val_loss: 11.3458 - val_acc: 0.0187\n",
      "Epoch 185/200\n",
      "63/63 [==============================] - 1s 12ms/step - loss: 0.5630 - acc: 0.8082 - val_loss: 11.4239 - val_acc: 0.0197\n",
      "Epoch 186/200\n",
      "63/63 [==============================] - 1s 12ms/step - loss: 0.5653 - acc: 0.8077 - val_loss: 11.3605 - val_acc: 0.0202\n",
      "Epoch 187/200\n",
      "63/63 [==============================] - 1s 13ms/step - loss: 0.5657 - acc: 0.8065 - val_loss: 11.4231 - val_acc: 0.0212\n",
      "Epoch 188/200\n",
      "63/63 [==============================] - 1s 12ms/step - loss: 0.5703 - acc: 0.8075 - val_loss: 11.4177 - val_acc: 0.0207\n",
      "Epoch 189/200\n",
      "63/63 [==============================] - 1s 12ms/step - loss: 0.5784 - acc: 0.8072 - val_loss: 11.3510 - val_acc: 0.0202\n",
      "Epoch 190/200\n",
      "63/63 [==============================] - 1s 12ms/step - loss: 0.5713 - acc: 0.8062 - val_loss: 11.4466 - val_acc: 0.0187\n",
      "Epoch 191/200\n",
      "63/63 [==============================] - 1s 12ms/step - loss: 0.5745 - acc: 0.8042 - val_loss: 11.5074 - val_acc: 0.0172\n",
      "Epoch 192/200\n",
      "63/63 [==============================] - 1s 12ms/step - loss: 0.5718 - acc: 0.8052 - val_loss: 11.4270 - val_acc: 0.0227\n",
      "Epoch 193/200\n",
      "63/63 [==============================] - 1s 12ms/step - loss: 0.5817 - acc: 0.8042 - val_loss: 11.2980 - val_acc: 0.0237\n",
      "Epoch 194/200\n",
      "63/63 [==============================] - 1s 12ms/step - loss: 0.5850 - acc: 0.8040 - val_loss: 11.4490 - val_acc: 0.0273\n",
      "Epoch 195/200\n",
      "63/63 [==============================] - 1s 12ms/step - loss: 0.5759 - acc: 0.8085 - val_loss: 11.4923 - val_acc: 0.0192\n",
      "Epoch 196/200\n",
      "63/63 [==============================] - 1s 11ms/step - loss: 0.5759 - acc: 0.8055 - val_loss: 11.4625 - val_acc: 0.0212\n",
      "Epoch 197/200\n",
      "63/63 [==============================] - 1s 12ms/step - loss: 0.5680 - acc: 0.8037 - val_loss: 11.4863 - val_acc: 0.0222\n",
      "Epoch 198/200\n",
      "63/63 [==============================] - 1s 12ms/step - loss: 0.5652 - acc: 0.8080 - val_loss: 11.4545 - val_acc: 0.0192\n",
      "Epoch 199/200\n",
      "63/63 [==============================] - 1s 12ms/step - loss: 0.5643 - acc: 0.8080 - val_loss: 11.6321 - val_acc: 0.0227\n",
      "Epoch 200/200\n",
      "63/63 [==============================] - 1s 12ms/step - loss: 0.5643 - acc: 0.8055 - val_loss: 11.5357 - val_acc: 0.0192\n"
     ]
    },
    {
     "data": {
      "text/plain": [
       "<keras.callbacks.History at 0x25189f0fdd8>"
      ]
     },
     "execution_count": 14,
     "metadata": {},
     "output_type": "execute_result"
    }
   ],
   "source": [
    "model.fit(X_train, y_train, batch_size=64, epochs=200, verbose=1, validation_data=(X_valid, y_valid))"
   ]
  },
  {
   "cell_type": "markdown",
   "id": "7a580bdf",
   "metadata": {},
   "source": [
    "### 번호 리스트를 반환하는  함수"
   ]
  },
  {
   "cell_type": "code",
   "execution_count": 15,
   "id": "514f6385",
   "metadata": {},
   "outputs": [],
   "source": [
    "from tensorflow.keras.preprocessing.sequence import pad_sequences\n",
    "\n",
    "def seq_generate(model, input_num, verbose=False): \n",
    "    sequence = [input_num]\n",
    "\n",
    "    while len(sequence) < 7:\n",
    "        encoded = pad_sequences([sequence], maxlen=7, padding='pre')\n",
    "        result = model.predict(encoded, verbose=0)\n",
    "        \n",
    "        mask = np.zeros(result.size, dtype=bool)\n",
    "        mask[sequence] = True\n",
    "        result = np.ma.array(result, mask=mask)\n",
    "        result = np.argmax(result)\n",
    "\n",
    "        sequence.append(result)\n",
    "        \n",
    "        if verbose:\n",
    "            print(\"sequence:\", sequence)\n",
    "\n",
    "    return sorted(sequence)"
   ]
  },
  {
   "cell_type": "markdown",
   "id": "8f70f70e",
   "metadata": {},
   "source": [
    "테스트"
   ]
  },
  {
   "cell_type": "code",
   "execution_count": 16,
   "id": "a7d164af",
   "metadata": {},
   "outputs": [
    {
     "name": "stdout",
     "output_type": "stream",
     "text": [
      "[[7.28078969e-12 3.38678859e-07 1.32614761e-04 8.68454008e-05\n",
      "  1.05113817e-04 6.52318746e-02 6.83089867e-02 4.78582660e-05\n",
      "  1.13007136e-01 9.42379760e-04 4.14756418e-04 3.35726961e-02\n",
      "  6.65475503e-02 8.55934650e-06 2.11214428e-05 1.82117990e-04\n",
      "  1.02906711e-01 6.20349310e-02 1.05736521e-03 3.13291879e-04\n",
      "  4.28853906e-04 7.05110491e-04 1.43295616e-01 1.31440652e-03\n",
      "  5.79661764e-02 2.01776973e-03 8.71618278e-04 9.97069990e-04\n",
      "  2.96799429e-02 7.64473230e-02 4.67785336e-02 7.70702027e-04\n",
      "  3.33578698e-02 3.02979490e-04 9.76258207e-07 7.45559037e-02\n",
      "  1.48048159e-07 2.89875857e-07 2.28886586e-03 7.71290900e-07\n",
      "  5.06865326e-04 7.54513219e-03 1.47552651e-04 7.50197272e-04\n",
      "  1.71567989e-03 2.63140909e-03]]\n",
      "22\n",
      "sequence: [2, 22]\n",
      "sequence: [2, 22, 19]\n",
      "sequence: [2, 22, 19, 40]\n",
      "sequence: [2, 22, 19, 40, 7]\n",
      "sequence: [2, 22, 19, 40, 7, 31]\n",
      "sequence: [2, 22, 19, 40, 7, 31, 1]\n"
     ]
    },
    {
     "data": {
      "text/plain": [
       "[1, 2, 7, 19, 22, 31, 40]"
      ]
     },
     "execution_count": 16,
     "metadata": {},
     "output_type": "execute_result"
    }
   ],
   "source": [
    "test_num = 2\n",
    "seq = [[test_num]]\n",
    "encoded = pad_sequences(seq, maxlen=7, padding='pre')\n",
    "result = model.predict(encoded, verbose=0)\n",
    "\n",
    "print(result)\n",
    "print(np.argmax(result))\n",
    "\n",
    "seq_generate(model, test_num, verbose=True)"
   ]
  },
  {
   "cell_type": "markdown",
   "id": "9429329e",
   "metadata": {},
   "source": [
    "### 수행 결과"
   ]
  },
  {
   "cell_type": "markdown",
   "id": "c1c2bb11",
   "metadata": {},
   "source": [
    "첫번째로 나오는 번호 빈도순으로 출력"
   ]
  },
  {
   "cell_type": "code",
   "execution_count": 17,
   "id": "d4e11613",
   "metadata": {},
   "outputs": [
    {
     "data": {
      "text/plain": [
       "37    35\n",
       "25    31\n",
       "26    31\n",
       "23    29\n",
       "4     28\n",
       "45    28\n",
       "Name: 1, dtype: int64"
      ]
     },
     "execution_count": 17,
     "metadata": {},
     "output_type": "execute_result"
    }
   ],
   "source": [
    "first_num = df['1'].value_counts()[:6]\n",
    "first_num"
   ]
  },
  {
   "cell_type": "code",
   "execution_count": 18,
   "id": "47cd235b",
   "metadata": {},
   "outputs": [
    {
     "name": "stdout",
     "output_type": "stream",
     "text": [
      "37: [1, 7, 17, 18, 28, 31, 37]\n",
      "25: [1, 6, 9, 10, 25, 28, 41]\n",
      "26: [3, 11, 26, 34, 37, 41, 43]\n",
      "23: [1, 11, 20, 23, 41, 43, 45]\n",
      " 4: [4, 19, 29, 36, 40, 42, 44]\n",
      "45: [7, 11, 15, 16, 26, 37, 45]\n"
     ]
    }
   ],
   "source": [
    "for num, _ in first_num.iteritems():\n",
    "    print(f\"{num:2}:\", seq_generate(model, num))"
   ]
  },
  {
   "cell_type": "markdown",
   "id": "7b141395",
   "metadata": {},
   "source": [
    "모든 숫자에 대해 결과 출력"
   ]
  },
  {
   "cell_type": "code",
   "execution_count": 19,
   "id": "21196cbd",
   "metadata": {},
   "outputs": [
    {
     "name": "stdout",
     "output_type": "stream",
     "text": [
      " 1: [1, 4, 5, 9, 15, 18, 31]\n",
      " 2: [1, 2, 7, 19, 22, 31, 40]\n",
      " 3: [1, 3, 8, 20, 21, 22, 31]\n",
      " 4: [4, 19, 29, 36, 40, 42, 44]\n",
      " 5: [1, 3, 4, 5, 14, 20, 23]\n",
      " 6: [4, 6, 10, 11, 14, 20, 27]\n",
      " 7: [4, 7, 9, 21, 24, 38, 40]\n",
      " 8: [8, 9, 10, 18, 28, 37, 43]\n",
      " 9: [1, 2, 9, 15, 23, 40, 42]\n",
      "10: [4, 6, 9, 10, 14, 41, 45]\n",
      "11: [9, 11, 15, 17, 19, 40, 42]\n",
      "12: [7, 12, 16, 25, 29, 33, 40]\n",
      "13: [8, 11, 13, 17, 26, 33, 44]\n",
      "14: [8, 14, 18, 29, 30, 31, 44]\n",
      "15: [11, 15, 17, 36, 38, 40, 45]\n",
      "16: [2, 4, 13, 14, 16, 23, 45]\n",
      "17: [10, 11, 17, 18, 27, 30, 39]\n",
      "18: [1, 7, 9, 12, 18, 30, 44]\n",
      "19: [11, 19, 23, 31, 34, 36, 43]\n",
      "20: [5, 10, 20, 33, 36, 41, 44]\n",
      "21: [11, 12, 21, 28, 29, 33, 36]\n",
      "22: [1, 11, 13, 15, 22, 24, 42]\n",
      "23: [1, 11, 20, 23, 41, 43, 45]\n",
      "24: [1, 13, 20, 24, 26, 39, 43]\n",
      "25: [1, 6, 9, 10, 25, 28, 41]\n",
      "26: [3, 11, 26, 34, 37, 41, 43]\n",
      "27: [1, 5, 9, 25, 27, 29, 36]\n",
      "28: [5, 11, 28, 29, 30, 35, 39]\n",
      "29: [6, 11, 17, 22, 29, 33, 42]\n",
      "30: [5, 13, 23, 25, 30, 31, 33]\n",
      "31: [14, 16, 17, 21, 29, 31, 37]\n",
      "32: [9, 20, 21, 24, 25, 32, 39]\n",
      "33: [2, 6, 8, 20, 30, 33, 34]\n",
      "34: [1, 19, 23, 25, 26, 31, 34]\n",
      "35: [7, 8, 24, 30, 31, 35, 40]\n",
      "36: [6, 14, 18, 26, 36, 38, 39]\n",
      "37: [1, 7, 17, 18, 28, 31, 37]\n",
      "38: [13, 21, 25, 32, 34, 38, 41]\n",
      "39: [9, 12, 27, 35, 39, 42, 45]\n",
      "40: [24, 30, 31, 35, 40, 41, 43]\n",
      "41: [4, 7, 12, 21, 34, 36, 41]\n",
      "42: [1, 3, 11, 20, 34, 42, 44]\n",
      "43: [6, 9, 16, 28, 40, 41, 43]\n",
      "44: [1, 3, 19, 28, 29, 40, 44]\n",
      "45: [7, 11, 15, 16, 26, 37, 45]\n"
     ]
    }
   ],
   "source": [
    "for i in range(1, 46):\n",
    "    print(f\"{i:2}:\", seq_generate(model, i))"
   ]
  },
  {
   "cell_type": "code",
   "execution_count": null,
   "id": "325b871b",
   "metadata": {},
   "outputs": [],
   "source": []
  }
 ],
 "metadata": {
  "kernelspec": {
   "display_name": "Python 3",
   "language": "python",
   "name": "python3"
  },
  "language_info": {
   "codemirror_mode": {
    "name": "ipython",
    "version": 3
   },
   "file_extension": ".py",
   "mimetype": "text/x-python",
   "name": "python",
   "nbconvert_exporter": "python",
   "pygments_lexer": "ipython3",
   "version": "3.6.3"
  }
 },
 "nbformat": 4,
 "nbformat_minor": 5
}
