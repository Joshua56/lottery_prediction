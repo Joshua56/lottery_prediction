{
 "cells": [
  {
   "cell_type": "markdown",
   "id": "b71d4241",
   "metadata": {},
   "source": [
    "# 로또 번호 예측 프로젝트"
   ]
  },
  {
   "cell_type": "markdown",
   "id": "a6652049",
   "metadata": {},
   "source": [
    "### 데이터 로드"
   ]
  },
  {
   "cell_type": "code",
   "execution_count": 1,
   "id": "812590bd",
   "metadata": {},
   "outputs": [],
   "source": [
    "import pandas as pd\n",
    "\n",
    "# df = pd.read_csv(\"lotto.csv\", index_col=0) # 순서 미포함\n",
    "df = pd.read_csv(\"lotto_ord.csv\", index_col=0) # 순서 포함"
   ]
  },
  {
   "cell_type": "markdown",
   "id": "10d6d42e",
   "metadata": {},
   "source": [
    "최근 n개의 데이터만 사용"
   ]
  },
  {
   "cell_type": "code",
   "execution_count": 2,
   "id": "d5f5fe7c",
   "metadata": {},
   "outputs": [],
   "source": [
    "train = df[-200:]"
   ]
  },
  {
   "cell_type": "code",
   "execution_count": 3,
   "id": "8c269996",
   "metadata": {},
   "outputs": [],
   "source": [
    "valid = df[-300:-200]"
   ]
  },
  {
   "cell_type": "code",
   "execution_count": 4,
   "id": "1dbc1432",
   "metadata": {},
   "outputs": [
    {
     "data": {
      "text/html": [
       "<div>\n",
       "<style scoped>\n",
       "    .dataframe tbody tr th:only-of-type {\n",
       "        vertical-align: middle;\n",
       "    }\n",
       "\n",
       "    .dataframe tbody tr th {\n",
       "        vertical-align: top;\n",
       "    }\n",
       "\n",
       "    .dataframe thead th {\n",
       "        text-align: right;\n",
       "    }\n",
       "</style>\n",
       "<table border=\"1\" class=\"dataframe\">\n",
       "  <thead>\n",
       "    <tr style=\"text-align: right;\">\n",
       "      <th></th>\n",
       "      <th>1</th>\n",
       "      <th>2</th>\n",
       "      <th>3</th>\n",
       "      <th>4</th>\n",
       "      <th>5</th>\n",
       "      <th>6</th>\n",
       "      <th>B</th>\n",
       "    </tr>\n",
       "  </thead>\n",
       "  <tbody>\n",
       "    <tr>\n",
       "      <th>801</th>\n",
       "      <td>37</td>\n",
       "      <td>17</td>\n",
       "      <td>25</td>\n",
       "      <td>43</td>\n",
       "      <td>44</td>\n",
       "      <td>28</td>\n",
       "      <td>2</td>\n",
       "    </tr>\n",
       "    <tr>\n",
       "      <th>802</th>\n",
       "      <td>12</td>\n",
       "      <td>18</td>\n",
       "      <td>24</td>\n",
       "      <td>11</td>\n",
       "      <td>42</td>\n",
       "      <td>10</td>\n",
       "      <td>27</td>\n",
       "    </tr>\n",
       "    <tr>\n",
       "      <th>803</th>\n",
       "      <td>26</td>\n",
       "      <td>9</td>\n",
       "      <td>5</td>\n",
       "      <td>14</td>\n",
       "      <td>43</td>\n",
       "      <td>30</td>\n",
       "      <td>2</td>\n",
       "    </tr>\n",
       "    <tr>\n",
       "      <th>804</th>\n",
       "      <td>36</td>\n",
       "      <td>26</td>\n",
       "      <td>13</td>\n",
       "      <td>1</td>\n",
       "      <td>10</td>\n",
       "      <td>32</td>\n",
       "      <td>9</td>\n",
       "    </tr>\n",
       "    <tr>\n",
       "      <th>805</th>\n",
       "      <td>18</td>\n",
       "      <td>32</td>\n",
       "      <td>12</td>\n",
       "      <td>3</td>\n",
       "      <td>31</td>\n",
       "      <td>13</td>\n",
       "      <td>42</td>\n",
       "    </tr>\n",
       "    <tr>\n",
       "      <th>...</th>\n",
       "      <td>...</td>\n",
       "      <td>...</td>\n",
       "      <td>...</td>\n",
       "      <td>...</td>\n",
       "      <td>...</td>\n",
       "      <td>...</td>\n",
       "      <td>...</td>\n",
       "    </tr>\n",
       "    <tr>\n",
       "      <th>996</th>\n",
       "      <td>6</td>\n",
       "      <td>11</td>\n",
       "      <td>24</td>\n",
       "      <td>15</td>\n",
       "      <td>32</td>\n",
       "      <td>39</td>\n",
       "      <td>28</td>\n",
       "    </tr>\n",
       "    <tr>\n",
       "      <th>997</th>\n",
       "      <td>16</td>\n",
       "      <td>7</td>\n",
       "      <td>4</td>\n",
       "      <td>44</td>\n",
       "      <td>24</td>\n",
       "      <td>14</td>\n",
       "      <td>20</td>\n",
       "    </tr>\n",
       "    <tr>\n",
       "      <th>998</th>\n",
       "      <td>18</td>\n",
       "      <td>45</td>\n",
       "      <td>13</td>\n",
       "      <td>20</td>\n",
       "      <td>17</td>\n",
       "      <td>42</td>\n",
       "      <td>41</td>\n",
       "    </tr>\n",
       "    <tr>\n",
       "      <th>999</th>\n",
       "      <td>9</td>\n",
       "      <td>1</td>\n",
       "      <td>28</td>\n",
       "      <td>3</td>\n",
       "      <td>18</td>\n",
       "      <td>14</td>\n",
       "      <td>34</td>\n",
       "    </tr>\n",
       "    <tr>\n",
       "      <th>1000</th>\n",
       "      <td>19</td>\n",
       "      <td>2</td>\n",
       "      <td>8</td>\n",
       "      <td>22</td>\n",
       "      <td>42</td>\n",
       "      <td>32</td>\n",
       "      <td>39</td>\n",
       "    </tr>\n",
       "  </tbody>\n",
       "</table>\n",
       "<p>200 rows × 7 columns</p>\n",
       "</div>"
      ],
      "text/plain": [
       "       1   2   3   4   5   6   B\n",
       "801   37  17  25  43  44  28   2\n",
       "802   12  18  24  11  42  10  27\n",
       "803   26   9   5  14  43  30   2\n",
       "804   36  26  13   1  10  32   9\n",
       "805   18  32  12   3  31  13  42\n",
       "...   ..  ..  ..  ..  ..  ..  ..\n",
       "996    6  11  24  15  32  39  28\n",
       "997   16   7   4  44  24  14  20\n",
       "998   18  45  13  20  17  42  41\n",
       "999    9   1  28   3  18  14  34\n",
       "1000  19   2   8  22  42  32  39\n",
       "\n",
       "[200 rows x 7 columns]"
      ]
     },
     "execution_count": 4,
     "metadata": {},
     "output_type": "execute_result"
    }
   ],
   "source": [
    "train"
   ]
  },
  {
   "cell_type": "markdown",
   "id": "0395c17e",
   "metadata": {},
   "source": [
    "당첨번호 리스트를 가공하여 sequences 생성"
   ]
  },
  {
   "cell_type": "code",
   "execution_count": 5,
   "id": "7b8ffa7d",
   "metadata": {},
   "outputs": [
    {
     "name": "stdout",
     "output_type": "stream",
     "text": [
      "학습에 사용할 샘플의 개수: 1200\n"
     ]
    }
   ],
   "source": [
    "train_sequences = list()\n",
    "for _, seq in train.iterrows():\n",
    "    for i in range(1, len(seq)):\n",
    "        sequence = list(seq)[:i+1]\n",
    "        train_sequences.append(sequence)\n",
    "\n",
    "print('학습에 사용할 샘플의 개수: %d' % len(train_sequences))"
   ]
  },
  {
   "cell_type": "code",
   "execution_count": 6,
   "id": "66fd83f9",
   "metadata": {},
   "outputs": [
    {
     "data": {
      "text/plain": [
       "[37, 17, 25, 43, 44, 28, 2]"
      ]
     },
     "execution_count": 6,
     "metadata": {},
     "output_type": "execute_result"
    }
   ],
   "source": [
    "train.iloc[0].tolist()"
   ]
  },
  {
   "cell_type": "code",
   "execution_count": 7,
   "id": "45432608",
   "metadata": {},
   "outputs": [
    {
     "data": {
      "text/plain": [
       "[[37, 17],\n",
       " [37, 17, 25],\n",
       " [37, 17, 25, 43],\n",
       " [37, 17, 25, 43, 44],\n",
       " [37, 17, 25, 43, 44, 28]]"
      ]
     },
     "execution_count": 7,
     "metadata": {},
     "output_type": "execute_result"
    }
   ],
   "source": [
    "train_sequences[:5]"
   ]
  },
  {
   "cell_type": "markdown",
   "id": "3106e0cf",
   "metadata": {},
   "source": [
    "검증 데이터에도 동일하게 적용"
   ]
  },
  {
   "cell_type": "code",
   "execution_count": 8,
   "id": "d5dff15f",
   "metadata": {},
   "outputs": [
    {
     "name": "stdout",
     "output_type": "stream",
     "text": [
      "검증에 사용할 샘플의 개수: 600\n"
     ]
    }
   ],
   "source": [
    "valid_sequences = list()\n",
    "for _, seq in valid.iterrows():\n",
    "    for i in range(1, len(seq)):\n",
    "        sequence = list(seq)[:i+1]\n",
    "        valid_sequences.append(sequence)\n",
    "        \n",
    "print('검증에 사용할 샘플의 개수: %d' % len(valid_sequences))"
   ]
  },
  {
   "cell_type": "markdown",
   "id": "4557a79d",
   "metadata": {},
   "source": [
    "잘린 sequences의 길이를 padding"
   ]
  },
  {
   "cell_type": "code",
   "execution_count": 9,
   "id": "495d609c",
   "metadata": {},
   "outputs": [],
   "source": [
    "from tensorflow.keras.preprocessing.sequence import pad_sequences\n",
    "\n",
    "train_sequences = pad_sequences(train_sequences, maxlen=7, padding='pre')\n",
    "valid_sequences = pad_sequences(valid_sequences, maxlen=7, padding='pre')"
   ]
  },
  {
   "cell_type": "code",
   "execution_count": 10,
   "id": "f20cc08a",
   "metadata": {},
   "outputs": [
    {
     "name": "stdout",
     "output_type": "stream",
     "text": [
      "X_train.shape: (1200, 6)\n",
      "y_train.shape: (1200,)\n",
      "X_valid.shape: (600, 6)\n",
      "y_valid.shape: (600,)\n"
     ]
    }
   ],
   "source": [
    "import numpy as np\n",
    "\n",
    "train_sequences = np.array(train_sequences)\n",
    "valid_sequences = np.array(valid_sequences)\n",
    "X_train = train_sequences[:,:-1]\n",
    "y_train = train_sequences[:,-1]\n",
    "X_valid = valid_sequences[:,:-1]\n",
    "y_valid = valid_sequences[:,-1]\n",
    "\n",
    "print(\"X_train.shape:\", X_train.shape)\n",
    "print(\"y_train.shape:\", y_train.shape)\n",
    "print(\"X_valid.shape:\", X_valid.shape)\n",
    "print(\"y_valid.shape:\", y_valid.shape)"
   ]
  },
  {
   "cell_type": "markdown",
   "id": "4f87c58b",
   "metadata": {},
   "source": [
    "padding후 0으로 채워진다. (0~45 총 46의 크기)"
   ]
  },
  {
   "cell_type": "code",
   "execution_count": 11,
   "id": "555e5ae0",
   "metadata": {},
   "outputs": [
    {
     "data": {
      "text/plain": [
       "array([[ 0,  0,  0,  0,  0, 37, 17],\n",
       "       [ 0,  0,  0,  0, 37, 17, 25],\n",
       "       [ 0,  0,  0, 37, 17, 25, 43],\n",
       "       [ 0,  0, 37, 17, 25, 43, 44],\n",
       "       [ 0, 37, 17, 25, 43, 44, 28]])"
      ]
     },
     "execution_count": 11,
     "metadata": {},
     "output_type": "execute_result"
    }
   ],
   "source": [
    "train_sequences[:5]"
   ]
  },
  {
   "cell_type": "markdown",
   "id": "14ab662d",
   "metadata": {},
   "source": [
    "### 모델 생성"
   ]
  },
  {
   "cell_type": "code",
   "execution_count": 12,
   "id": "134bb818",
   "metadata": {},
   "outputs": [],
   "source": [
    "from tensorflow.keras.models import Sequential\n",
    "from tensorflow.keras.layers import LSTM, Dense\n",
    "from tensorflow.keras.layers import Embedding\n",
    "\n",
    "model = Sequential()\n",
    "model.add(Embedding(45+1, 10))\n",
    "model.add(LSTM(64, input_shape=(6, 1), return_sequences=False))\n",
    "model.add(Dense(128, activation='relu'))\n",
    "model.add(Dense(45+1, activation='softmax'))\n",
    "model.compile(loss='sparse_categorical_crossentropy', optimizer='adam', metrics='acc')"
   ]
  },
  {
   "cell_type": "code",
   "execution_count": 13,
   "id": "effd6a7c",
   "metadata": {},
   "outputs": [
    {
     "name": "stdout",
     "output_type": "stream",
     "text": [
      "WARNING:tensorflow:From C:\\Users\\seungwon\\anaconda3\\envs\\scratch\\lib\\site-packages\\tensorflow\\python\\ops\\array_ops.py:5075: calling gather (from tensorflow.python.ops.array_ops) with validate_indices is deprecated and will be removed in a future version.\n",
      "Instructions for updating:\n",
      "The `validate_indices` argument has no effect. Indices are always validated on CPU and never validated on GPU.\n",
      "Epoch 1/200\n",
      "19/19 [==============================] - 3s 24ms/step - loss: 3.8288 - acc: 0.0292 - val_loss: 3.8274 - val_acc: 0.0250\n",
      "Epoch 2/200\n",
      "19/19 [==============================] - 0s 7ms/step - loss: 3.8247 - acc: 0.0300 - val_loss: 3.8253 - val_acc: 0.0250\n",
      "Epoch 3/200\n",
      "19/19 [==============================] - 0s 7ms/step - loss: 3.8187 - acc: 0.0300 - val_loss: 3.8204 - val_acc: 0.0250\n",
      "Epoch 4/200\n",
      "19/19 [==============================] - 0s 7ms/step - loss: 3.8100 - acc: 0.0300 - val_loss: 3.8225 - val_acc: 0.0250\n",
      "Epoch 5/200\n",
      "19/19 [==============================] - 0s 7ms/step - loss: 3.8023 - acc: 0.0300 - val_loss: 3.8238 - val_acc: 0.0250\n",
      "Epoch 6/200\n",
      "19/19 [==============================] - 0s 7ms/step - loss: 3.7989 - acc: 0.0300 - val_loss: 3.8232 - val_acc: 0.0250\n",
      "Epoch 7/200\n",
      "19/19 [==============================] - 0s 7ms/step - loss: 3.7944 - acc: 0.0275 - val_loss: 3.8244 - val_acc: 0.0083\n",
      "Epoch 8/200\n",
      "19/19 [==============================] - 0s 7ms/step - loss: 3.7935 - acc: 0.0333 - val_loss: 3.8207 - val_acc: 0.0217\n",
      "Epoch 9/200\n",
      "19/19 [==============================] - 0s 7ms/step - loss: 3.7895 - acc: 0.0358 - val_loss: 3.8247 - val_acc: 0.0083\n",
      "Epoch 10/200\n",
      "19/19 [==============================] - 0s 7ms/step - loss: 3.7876 - acc: 0.0342 - val_loss: 3.8195 - val_acc: 0.0150\n",
      "Epoch 11/200\n",
      "19/19 [==============================] - 0s 7ms/step - loss: 3.7820 - acc: 0.0383 - val_loss: 3.8260 - val_acc: 0.0233\n",
      "Epoch 12/200\n",
      "19/19 [==============================] - 0s 7ms/step - loss: 3.7718 - acc: 0.0433 - val_loss: 3.8372 - val_acc: 0.0150\n",
      "Epoch 13/200\n",
      "19/19 [==============================] - 0s 7ms/step - loss: 3.7603 - acc: 0.0458 - val_loss: 3.8440 - val_acc: 0.0200\n",
      "Epoch 14/200\n",
      "19/19 [==============================] - 0s 7ms/step - loss: 3.7570 - acc: 0.0400 - val_loss: 3.8431 - val_acc: 0.0167\n",
      "Epoch 15/200\n",
      "19/19 [==============================] - 0s 7ms/step - loss: 3.7457 - acc: 0.0458 - val_loss: 3.8417 - val_acc: 0.0167\n",
      "Epoch 16/200\n",
      "19/19 [==============================] - 0s 7ms/step - loss: 3.7399 - acc: 0.0433 - val_loss: 3.8705 - val_acc: 0.0233\n",
      "Epoch 17/200\n",
      "19/19 [==============================] - 0s 7ms/step - loss: 3.7320 - acc: 0.0492 - val_loss: 3.8496 - val_acc: 0.0217\n",
      "Epoch 18/200\n",
      "19/19 [==============================] - 0s 7ms/step - loss: 3.7237 - acc: 0.0450 - val_loss: 3.8567 - val_acc: 0.0300\n",
      "Epoch 19/200\n",
      "19/19 [==============================] - 0s 7ms/step - loss: 3.7169 - acc: 0.0533 - val_loss: 3.8713 - val_acc: 0.0217\n",
      "Epoch 20/200\n",
      "19/19 [==============================] - 0s 7ms/step - loss: 3.7042 - acc: 0.0567 - val_loss: 3.8773 - val_acc: 0.0233\n",
      "Epoch 21/200\n",
      "19/19 [==============================] - 0s 7ms/step - loss: 3.6905 - acc: 0.0583 - val_loss: 3.8951 - val_acc: 0.0233\n",
      "Epoch 22/200\n",
      "19/19 [==============================] - 0s 7ms/step - loss: 3.6754 - acc: 0.0575 - val_loss: 3.8875 - val_acc: 0.0200\n",
      "Epoch 23/200\n",
      "19/19 [==============================] - 0s 7ms/step - loss: 3.6655 - acc: 0.0642 - val_loss: 3.8926 - val_acc: 0.0200\n",
      "Epoch 24/200\n",
      "19/19 [==============================] - 0s 7ms/step - loss: 3.6498 - acc: 0.0550 - val_loss: 3.9109 - val_acc: 0.0233\n",
      "Epoch 25/200\n",
      "19/19 [==============================] - 0s 7ms/step - loss: 3.6340 - acc: 0.0567 - val_loss: 3.9306 - val_acc: 0.0233\n",
      "Epoch 26/200\n",
      "19/19 [==============================] - 0s 7ms/step - loss: 3.6161 - acc: 0.0600 - val_loss: 3.9479 - val_acc: 0.0267\n",
      "Epoch 27/200\n",
      "19/19 [==============================] - 0s 7ms/step - loss: 3.5968 - acc: 0.0675 - val_loss: 3.9795 - val_acc: 0.0233\n",
      "Epoch 28/200\n",
      "19/19 [==============================] - 0s 7ms/step - loss: 3.5773 - acc: 0.0708 - val_loss: 3.9929 - val_acc: 0.0250\n",
      "Epoch 29/200\n",
      "19/19 [==============================] - 0s 7ms/step - loss: 3.5611 - acc: 0.0733 - val_loss: 4.0071 - val_acc: 0.0267\n",
      "Epoch 30/200\n",
      "19/19 [==============================] - 0s 7ms/step - loss: 3.5353 - acc: 0.0758 - val_loss: 4.0147 - val_acc: 0.0283\n",
      "Epoch 31/200\n",
      "19/19 [==============================] - 0s 7ms/step - loss: 3.5178 - acc: 0.0708 - val_loss: 4.0444 - val_acc: 0.0250\n",
      "Epoch 32/200\n",
      "19/19 [==============================] - 0s 7ms/step - loss: 3.5000 - acc: 0.0808 - val_loss: 4.0708 - val_acc: 0.0283\n",
      "Epoch 33/200\n",
      "19/19 [==============================] - 0s 7ms/step - loss: 3.4824 - acc: 0.0825 - val_loss: 4.0918 - val_acc: 0.0200\n",
      "Epoch 34/200\n",
      "19/19 [==============================] - 0s 7ms/step - loss: 3.4610 - acc: 0.0850 - val_loss: 4.1215 - val_acc: 0.0283\n",
      "Epoch 35/200\n",
      "19/19 [==============================] - 0s 7ms/step - loss: 3.4324 - acc: 0.0817 - val_loss: 4.1418 - val_acc: 0.0333\n",
      "Epoch 36/200\n",
      "19/19 [==============================] - 0s 7ms/step - loss: 3.4124 - acc: 0.0975 - val_loss: 4.1714 - val_acc: 0.0350\n",
      "Epoch 37/200\n",
      "19/19 [==============================] - 0s 7ms/step - loss: 3.3932 - acc: 0.1025 - val_loss: 4.2064 - val_acc: 0.0250\n",
      "Epoch 38/200\n",
      "19/19 [==============================] - 0s 7ms/step - loss: 3.3701 - acc: 0.1075 - val_loss: 4.2464 - val_acc: 0.0267\n",
      "Epoch 39/200\n",
      "19/19 [==============================] - 0s 7ms/step - loss: 3.3425 - acc: 0.1142 - val_loss: 4.2586 - val_acc: 0.0167\n",
      "Epoch 40/200\n",
      "19/19 [==============================] - 0s 7ms/step - loss: 3.3201 - acc: 0.1192 - val_loss: 4.3237 - val_acc: 0.0267\n",
      "Epoch 41/200\n",
      "19/19 [==============================] - 0s 7ms/step - loss: 3.3038 - acc: 0.1317 - val_loss: 4.2952 - val_acc: 0.0183\n",
      "Epoch 42/200\n",
      "19/19 [==============================] - 0s 7ms/step - loss: 3.2805 - acc: 0.1233 - val_loss: 4.3625 - val_acc: 0.0217\n",
      "Epoch 43/200\n",
      "19/19 [==============================] - 0s 7ms/step - loss: 3.2577 - acc: 0.1400 - val_loss: 4.4095 - val_acc: 0.0217\n",
      "Epoch 44/200\n",
      "19/19 [==============================] - 0s 7ms/step - loss: 3.2280 - acc: 0.1408 - val_loss: 4.4592 - val_acc: 0.0250\n",
      "Epoch 45/200\n",
      "19/19 [==============================] - 0s 7ms/step - loss: 3.1966 - acc: 0.1467 - val_loss: 4.5059 - val_acc: 0.0250\n",
      "Epoch 46/200\n",
      "19/19 [==============================] - 0s 7ms/step - loss: 3.1749 - acc: 0.1492 - val_loss: 4.4665 - val_acc: 0.0300\n",
      "Epoch 47/200\n",
      "19/19 [==============================] - 0s 7ms/step - loss: 3.1525 - acc: 0.1558 - val_loss: 4.5857 - val_acc: 0.0317\n",
      "Epoch 48/200\n",
      "19/19 [==============================] - 0s 7ms/step - loss: 3.1365 - acc: 0.1658 - val_loss: 4.5837 - val_acc: 0.0217\n",
      "Epoch 49/200\n",
      "19/19 [==============================] - 0s 7ms/step - loss: 3.1136 - acc: 0.1750 - val_loss: 4.6860 - val_acc: 0.0267\n",
      "Epoch 50/200\n",
      "19/19 [==============================] - 0s 7ms/step - loss: 3.0738 - acc: 0.1692 - val_loss: 4.6261 - val_acc: 0.0317\n",
      "Epoch 51/200\n",
      "19/19 [==============================] - 0s 7ms/step - loss: 3.0578 - acc: 0.1900 - val_loss: 4.6674 - val_acc: 0.0300\n",
      "Epoch 52/200\n",
      "19/19 [==============================] - 0s 7ms/step - loss: 3.0382 - acc: 0.1875 - val_loss: 4.6630 - val_acc: 0.0367\n",
      "Epoch 53/200\n",
      "19/19 [==============================] - 0s 7ms/step - loss: 3.0075 - acc: 0.1942 - val_loss: 4.7835 - val_acc: 0.0300\n",
      "Epoch 54/200\n",
      "19/19 [==============================] - 0s 7ms/step - loss: 2.9881 - acc: 0.1867 - val_loss: 4.8658 - val_acc: 0.0300\n",
      "Epoch 55/200\n",
      "19/19 [==============================] - 0s 7ms/step - loss: 2.9671 - acc: 0.2142 - val_loss: 4.7984 - val_acc: 0.0300\n",
      "Epoch 56/200\n",
      "19/19 [==============================] - 0s 7ms/step - loss: 2.9378 - acc: 0.2158 - val_loss: 4.8695 - val_acc: 0.0267\n",
      "Epoch 57/200\n",
      "19/19 [==============================] - 0s 7ms/step - loss: 2.9055 - acc: 0.2358 - val_loss: 4.8999 - val_acc: 0.0283\n",
      "Epoch 58/200\n",
      "19/19 [==============================] - 0s 7ms/step - loss: 2.8851 - acc: 0.2333 - val_loss: 4.9661 - val_acc: 0.0233\n",
      "Epoch 59/200\n",
      "19/19 [==============================] - 0s 7ms/step - loss: 2.8625 - acc: 0.2408 - val_loss: 4.9455 - val_acc: 0.0283\n",
      "Epoch 60/200\n"
     ]
    },
    {
     "name": "stdout",
     "output_type": "stream",
     "text": [
      "19/19 [==============================] - 0s 7ms/step - loss: 2.8371 - acc: 0.2383 - val_loss: 5.0163 - val_acc: 0.0217\n",
      "Epoch 61/200\n",
      "19/19 [==============================] - 0s 7ms/step - loss: 2.8150 - acc: 0.2450 - val_loss: 5.0842 - val_acc: 0.0317\n",
      "Epoch 62/200\n",
      "19/19 [==============================] - 0s 7ms/step - loss: 2.7864 - acc: 0.2583 - val_loss: 5.0908 - val_acc: 0.0333\n",
      "Epoch 63/200\n",
      "19/19 [==============================] - 0s 7ms/step - loss: 2.7630 - acc: 0.2692 - val_loss: 5.1314 - val_acc: 0.0383\n",
      "Epoch 64/200\n",
      "19/19 [==============================] - 0s 7ms/step - loss: 2.7454 - acc: 0.2683 - val_loss: 5.1285 - val_acc: 0.0300\n",
      "Epoch 65/200\n",
      "19/19 [==============================] - 0s 7ms/step - loss: 2.7261 - acc: 0.2692 - val_loss: 5.2228 - val_acc: 0.0367\n",
      "Epoch 66/200\n",
      "19/19 [==============================] - 0s 7ms/step - loss: 2.6947 - acc: 0.2775 - val_loss: 5.2520 - val_acc: 0.0300\n",
      "Epoch 67/200\n",
      "19/19 [==============================] - 0s 7ms/step - loss: 2.6663 - acc: 0.2967 - val_loss: 5.3466 - val_acc: 0.0267\n",
      "Epoch 68/200\n",
      "19/19 [==============================] - 0s 7ms/step - loss: 2.6457 - acc: 0.3050 - val_loss: 5.3206 - val_acc: 0.0300\n",
      "Epoch 69/200\n",
      "19/19 [==============================] - 0s 7ms/step - loss: 2.6252 - acc: 0.3075 - val_loss: 5.3316 - val_acc: 0.0367\n",
      "Epoch 70/200\n",
      "19/19 [==============================] - 0s 7ms/step - loss: 2.6026 - acc: 0.3150 - val_loss: 5.3671 - val_acc: 0.0300\n",
      "Epoch 71/200\n",
      "19/19 [==============================] - 0s 7ms/step - loss: 2.5941 - acc: 0.3217 - val_loss: 5.4101 - val_acc: 0.0383\n",
      "Epoch 72/200\n",
      "19/19 [==============================] - 0s 7ms/step - loss: 2.5564 - acc: 0.3417 - val_loss: 5.5021 - val_acc: 0.0317\n",
      "Epoch 73/200\n",
      "19/19 [==============================] - 0s 7ms/step - loss: 2.5313 - acc: 0.3467 - val_loss: 5.4654 - val_acc: 0.0383\n",
      "Epoch 74/200\n",
      "19/19 [==============================] - 0s 7ms/step - loss: 2.5126 - acc: 0.3492 - val_loss: 5.5905 - val_acc: 0.0300\n",
      "Epoch 75/200\n",
      "19/19 [==============================] - 0s 7ms/step - loss: 2.4849 - acc: 0.3550 - val_loss: 5.6376 - val_acc: 0.0317\n",
      "Epoch 76/200\n",
      "19/19 [==============================] - 0s 7ms/step - loss: 2.4639 - acc: 0.3675 - val_loss: 5.6480 - val_acc: 0.0333\n",
      "Epoch 77/200\n",
      "19/19 [==============================] - 0s 7ms/step - loss: 2.4342 - acc: 0.3758 - val_loss: 5.6179 - val_acc: 0.0300\n",
      "Epoch 78/200\n",
      "19/19 [==============================] - 0s 7ms/step - loss: 2.4158 - acc: 0.3625 - val_loss: 5.6919 - val_acc: 0.0350\n",
      "Epoch 79/200\n",
      "19/19 [==============================] - 0s 7ms/step - loss: 2.3955 - acc: 0.3758 - val_loss: 5.7469 - val_acc: 0.0317\n",
      "Epoch 80/200\n",
      "19/19 [==============================] - 0s 7ms/step - loss: 2.3743 - acc: 0.3875 - val_loss: 5.7770 - val_acc: 0.0250\n",
      "Epoch 81/200\n",
      "19/19 [==============================] - 0s 7ms/step - loss: 2.3643 - acc: 0.3750 - val_loss: 5.8505 - val_acc: 0.0300\n",
      "Epoch 82/200\n",
      "19/19 [==============================] - 0s 7ms/step - loss: 2.3366 - acc: 0.3892 - val_loss: 5.8822 - val_acc: 0.0333\n",
      "Epoch 83/200\n",
      "19/19 [==============================] - 0s 7ms/step - loss: 2.3099 - acc: 0.3942 - val_loss: 5.8826 - val_acc: 0.0283\n",
      "Epoch 84/200\n",
      "19/19 [==============================] - 0s 7ms/step - loss: 2.2837 - acc: 0.4050 - val_loss: 5.8614 - val_acc: 0.0283\n",
      "Epoch 85/200\n",
      "19/19 [==============================] - 0s 7ms/step - loss: 2.2667 - acc: 0.4125 - val_loss: 5.9591 - val_acc: 0.0350\n",
      "Epoch 86/200\n",
      "19/19 [==============================] - 0s 7ms/step - loss: 2.2477 - acc: 0.4092 - val_loss: 6.0238 - val_acc: 0.0283\n",
      "Epoch 87/200\n",
      "19/19 [==============================] - 0s 7ms/step - loss: 2.2221 - acc: 0.4242 - val_loss: 5.9797 - val_acc: 0.0283\n",
      "Epoch 88/200\n",
      "19/19 [==============================] - 0s 7ms/step - loss: 2.2015 - acc: 0.4275 - val_loss: 6.0995 - val_acc: 0.0317\n",
      "Epoch 89/200\n",
      "19/19 [==============================] - 0s 7ms/step - loss: 2.1799 - acc: 0.4383 - val_loss: 6.1634 - val_acc: 0.0367\n",
      "Epoch 90/200\n",
      "19/19 [==============================] - 0s 7ms/step - loss: 2.1674 - acc: 0.4400 - val_loss: 6.1682 - val_acc: 0.0317\n",
      "Epoch 91/200\n",
      "19/19 [==============================] - 0s 7ms/step - loss: 2.1427 - acc: 0.4433 - val_loss: 6.2165 - val_acc: 0.0317\n",
      "Epoch 92/200\n",
      "19/19 [==============================] - 0s 7ms/step - loss: 2.1267 - acc: 0.4467 - val_loss: 6.2918 - val_acc: 0.0267\n",
      "Epoch 93/200\n",
      "19/19 [==============================] - 0s 7ms/step - loss: 2.1091 - acc: 0.4600 - val_loss: 6.3023 - val_acc: 0.0300\n",
      "Epoch 94/200\n",
      "19/19 [==============================] - 0s 7ms/step - loss: 2.0870 - acc: 0.4592 - val_loss: 6.2218 - val_acc: 0.0267\n",
      "Epoch 95/200\n",
      "19/19 [==============================] - 0s 7ms/step - loss: 2.0678 - acc: 0.4617 - val_loss: 6.2643 - val_acc: 0.0250\n",
      "Epoch 96/200\n",
      "19/19 [==============================] - 0s 7ms/step - loss: 2.0458 - acc: 0.4725 - val_loss: 6.3945 - val_acc: 0.0250\n",
      "Epoch 97/200\n",
      "19/19 [==============================] - 0s 7ms/step - loss: 2.0222 - acc: 0.4750 - val_loss: 6.4396 - val_acc: 0.0267\n",
      "Epoch 98/200\n",
      "19/19 [==============================] - 0s 7ms/step - loss: 2.0032 - acc: 0.4800 - val_loss: 6.4789 - val_acc: 0.0233\n",
      "Epoch 99/200\n",
      "19/19 [==============================] - 0s 7ms/step - loss: 1.9869 - acc: 0.4850 - val_loss: 6.5360 - val_acc: 0.0267\n",
      "Epoch 100/200\n",
      "19/19 [==============================] - 0s 7ms/step - loss: 1.9567 - acc: 0.4975 - val_loss: 6.5865 - val_acc: 0.0267\n",
      "Epoch 101/200\n",
      "19/19 [==============================] - 0s 7ms/step - loss: 1.9458 - acc: 0.5075 - val_loss: 6.6137 - val_acc: 0.0267\n",
      "Epoch 102/200\n",
      "19/19 [==============================] - 0s 7ms/step - loss: 1.9294 - acc: 0.5075 - val_loss: 6.6621 - val_acc: 0.0283\n",
      "Epoch 103/200\n",
      "19/19 [==============================] - 0s 7ms/step - loss: 1.9118 - acc: 0.5133 - val_loss: 6.6650 - val_acc: 0.0233\n",
      "Epoch 104/200\n",
      "19/19 [==============================] - 0s 7ms/step - loss: 1.8782 - acc: 0.5175 - val_loss: 6.7660 - val_acc: 0.0300\n",
      "Epoch 105/200\n",
      "19/19 [==============================] - 0s 7ms/step - loss: 1.8771 - acc: 0.5317 - val_loss: 6.8048 - val_acc: 0.0233\n",
      "Epoch 106/200\n",
      "19/19 [==============================] - 0s 7ms/step - loss: 1.8467 - acc: 0.5242 - val_loss: 6.8021 - val_acc: 0.0233\n",
      "Epoch 107/200\n",
      "19/19 [==============================] - 0s 7ms/step - loss: 1.8292 - acc: 0.5317 - val_loss: 6.9267 - val_acc: 0.0283\n",
      "Epoch 108/200\n",
      "19/19 [==============================] - 0s 7ms/step - loss: 1.8061 - acc: 0.5425 - val_loss: 6.8457 - val_acc: 0.0250\n",
      "Epoch 109/200\n",
      "19/19 [==============================] - 0s 7ms/step - loss: 1.7883 - acc: 0.5483 - val_loss: 6.9988 - val_acc: 0.0267\n",
      "Epoch 110/200\n",
      "19/19 [==============================] - 0s 7ms/step - loss: 1.7771 - acc: 0.5433 - val_loss: 6.9024 - val_acc: 0.0233\n",
      "Epoch 111/200\n",
      "19/19 [==============================] - 0s 7ms/step - loss: 1.7596 - acc: 0.5542 - val_loss: 6.9769 - val_acc: 0.0267\n",
      "Epoch 112/200\n",
      "19/19 [==============================] - 0s 7ms/step - loss: 1.7417 - acc: 0.5642 - val_loss: 7.0380 - val_acc: 0.0233\n",
      "Epoch 113/200\n",
      "19/19 [==============================] - 0s 7ms/step - loss: 1.7226 - acc: 0.5733 - val_loss: 7.1213 - val_acc: 0.0267\n",
      "Epoch 114/200\n",
      "19/19 [==============================] - 0s 7ms/step - loss: 1.7010 - acc: 0.5708 - val_loss: 7.1490 - val_acc: 0.0217\n",
      "Epoch 115/200\n",
      "19/19 [==============================] - 0s 7ms/step - loss: 1.6872 - acc: 0.5758 - val_loss: 7.1920 - val_acc: 0.0200\n",
      "Epoch 116/200\n",
      "19/19 [==============================] - 0s 7ms/step - loss: 1.6669 - acc: 0.5758 - val_loss: 7.1271 - val_acc: 0.0250\n",
      "Epoch 117/200\n",
      "19/19 [==============================] - 0s 7ms/step - loss: 1.6514 - acc: 0.5925 - val_loss: 7.2617 - val_acc: 0.0250\n",
      "Epoch 118/200\n",
      "19/19 [==============================] - 0s 7ms/step - loss: 1.6277 - acc: 0.5967 - val_loss: 7.2389 - val_acc: 0.0250\n",
      "Epoch 119/200\n",
      "19/19 [==============================] - 0s 7ms/step - loss: 1.6058 - acc: 0.6000 - val_loss: 7.4179 - val_acc: 0.0233\n",
      "Epoch 120/200\n",
      "19/19 [==============================] - 0s 7ms/step - loss: 1.5887 - acc: 0.6033 - val_loss: 7.4202 - val_acc: 0.0217\n",
      "Epoch 121/200\n",
      "19/19 [==============================] - 0s 7ms/step - loss: 1.5810 - acc: 0.5992 - val_loss: 7.4641 - val_acc: 0.0267\n"
     ]
    },
    {
     "name": "stdout",
     "output_type": "stream",
     "text": [
      "Epoch 122/200\n",
      "19/19 [==============================] - 0s 7ms/step - loss: 1.5663 - acc: 0.6058 - val_loss: 7.5035 - val_acc: 0.0217\n",
      "Epoch 123/200\n",
      "19/19 [==============================] - 0s 7ms/step - loss: 1.5530 - acc: 0.6167 - val_loss: 7.5838 - val_acc: 0.0217\n",
      "Epoch 124/200\n",
      "19/19 [==============================] - 0s 7ms/step - loss: 1.5383 - acc: 0.6183 - val_loss: 7.5742 - val_acc: 0.0217\n",
      "Epoch 125/200\n",
      "19/19 [==============================] - 0s 7ms/step - loss: 1.5103 - acc: 0.6308 - val_loss: 7.6377 - val_acc: 0.0250\n",
      "Epoch 126/200\n",
      "19/19 [==============================] - 0s 7ms/step - loss: 1.4972 - acc: 0.6325 - val_loss: 7.6568 - val_acc: 0.0267\n",
      "Epoch 127/200\n",
      "19/19 [==============================] - 0s 7ms/step - loss: 1.4826 - acc: 0.6358 - val_loss: 7.7307 - val_acc: 0.0200\n",
      "Epoch 128/200\n",
      "19/19 [==============================] - 0s 7ms/step - loss: 1.4621 - acc: 0.6458 - val_loss: 7.7515 - val_acc: 0.0233\n",
      "Epoch 129/200\n",
      "19/19 [==============================] - 0s 7ms/step - loss: 1.4505 - acc: 0.6458 - val_loss: 7.7155 - val_acc: 0.0233\n",
      "Epoch 130/200\n",
      "19/19 [==============================] - 0s 7ms/step - loss: 1.4334 - acc: 0.6458 - val_loss: 7.8052 - val_acc: 0.0200\n",
      "Epoch 131/200\n",
      "19/19 [==============================] - 0s 7ms/step - loss: 1.4180 - acc: 0.6500 - val_loss: 7.8135 - val_acc: 0.0233\n",
      "Epoch 132/200\n",
      "19/19 [==============================] - 0s 7ms/step - loss: 1.4066 - acc: 0.6483 - val_loss: 7.9033 - val_acc: 0.0233\n",
      "Epoch 133/200\n",
      "19/19 [==============================] - 0s 7ms/step - loss: 1.3905 - acc: 0.6617 - val_loss: 7.9579 - val_acc: 0.0250\n",
      "Epoch 134/200\n",
      "19/19 [==============================] - 0s 7ms/step - loss: 1.3720 - acc: 0.6692 - val_loss: 7.9811 - val_acc: 0.0183\n",
      "Epoch 135/200\n",
      "19/19 [==============================] - 0s 7ms/step - loss: 1.3632 - acc: 0.6633 - val_loss: 8.0218 - val_acc: 0.0250\n",
      "Epoch 136/200\n",
      "19/19 [==============================] - 0s 7ms/step - loss: 1.3514 - acc: 0.6742 - val_loss: 8.1238 - val_acc: 0.0200\n",
      "Epoch 137/200\n",
      "19/19 [==============================] - 0s 7ms/step - loss: 1.3326 - acc: 0.6675 - val_loss: 8.1382 - val_acc: 0.0233\n",
      "Epoch 138/200\n",
      "19/19 [==============================] - 0s 7ms/step - loss: 1.3192 - acc: 0.6742 - val_loss: 8.1534 - val_acc: 0.0250\n",
      "Epoch 139/200\n",
      "19/19 [==============================] - 0s 7ms/step - loss: 1.3029 - acc: 0.6850 - val_loss: 8.1898 - val_acc: 0.0217\n",
      "Epoch 140/200\n",
      "19/19 [==============================] - 0s 7ms/step - loss: 1.2883 - acc: 0.6833 - val_loss: 8.1985 - val_acc: 0.0233\n",
      "Epoch 141/200\n",
      "19/19 [==============================] - 0s 7ms/step - loss: 1.2767 - acc: 0.6875 - val_loss: 8.2729 - val_acc: 0.0217\n",
      "Epoch 142/200\n",
      "19/19 [==============================] - 0s 7ms/step - loss: 1.2675 - acc: 0.6900 - val_loss: 8.2306 - val_acc: 0.0217\n",
      "Epoch 143/200\n",
      "19/19 [==============================] - 0s 7ms/step - loss: 1.2588 - acc: 0.6892 - val_loss: 8.3621 - val_acc: 0.0283\n",
      "Epoch 144/200\n",
      "19/19 [==============================] - 0s 7ms/step - loss: 1.2465 - acc: 0.6967 - val_loss: 8.4607 - val_acc: 0.0217\n",
      "Epoch 145/200\n",
      "19/19 [==============================] - 0s 7ms/step - loss: 1.2297 - acc: 0.7000 - val_loss: 8.4285 - val_acc: 0.0217\n",
      "Epoch 146/200\n",
      "19/19 [==============================] - 0s 7ms/step - loss: 1.2047 - acc: 0.6958 - val_loss: 8.4891 - val_acc: 0.0250\n",
      "Epoch 147/200\n",
      "19/19 [==============================] - 0s 7ms/step - loss: 1.2001 - acc: 0.7050 - val_loss: 8.4595 - val_acc: 0.0200\n",
      "Epoch 148/200\n",
      "19/19 [==============================] - 0s 7ms/step - loss: 1.1976 - acc: 0.7025 - val_loss: 8.6111 - val_acc: 0.0217\n",
      "Epoch 149/200\n",
      "19/19 [==============================] - 0s 8ms/step - loss: 1.1896 - acc: 0.7050 - val_loss: 8.5515 - val_acc: 0.0233\n",
      "Epoch 150/200\n",
      "19/19 [==============================] - 0s 8ms/step - loss: 1.1682 - acc: 0.7067 - val_loss: 8.6496 - val_acc: 0.0250\n",
      "Epoch 151/200\n",
      "19/19 [==============================] - 0s 8ms/step - loss: 1.1577 - acc: 0.7175 - val_loss: 8.6151 - val_acc: 0.0217\n",
      "Epoch 152/200\n",
      "19/19 [==============================] - 0s 7ms/step - loss: 1.1413 - acc: 0.7158 - val_loss: 8.8164 - val_acc: 0.0250\n",
      "Epoch 153/200\n",
      "19/19 [==============================] - 0s 7ms/step - loss: 1.1259 - acc: 0.7192 - val_loss: 8.7643 - val_acc: 0.0267\n",
      "Epoch 154/200\n",
      "19/19 [==============================] - 0s 7ms/step - loss: 1.1124 - acc: 0.7258 - val_loss: 8.8509 - val_acc: 0.0200\n",
      "Epoch 155/200\n",
      "19/19 [==============================] - 0s 7ms/step - loss: 1.1089 - acc: 0.7200 - val_loss: 8.9132 - val_acc: 0.0233\n",
      "Epoch 156/200\n",
      "19/19 [==============================] - 0s 7ms/step - loss: 1.0969 - acc: 0.7258 - val_loss: 8.8574 - val_acc: 0.0217\n",
      "Epoch 157/200\n",
      "19/19 [==============================] - 0s 7ms/step - loss: 1.0835 - acc: 0.7283 - val_loss: 8.9894 - val_acc: 0.0233\n",
      "Epoch 158/200\n",
      "19/19 [==============================] - 0s 7ms/step - loss: 1.0720 - acc: 0.7358 - val_loss: 8.9968 - val_acc: 0.0233\n",
      "Epoch 159/200\n",
      "19/19 [==============================] - 0s 7ms/step - loss: 1.0662 - acc: 0.7350 - val_loss: 9.0983 - val_acc: 0.0250\n",
      "Epoch 160/200\n",
      "19/19 [==============================] - 0s 7ms/step - loss: 1.0553 - acc: 0.7350 - val_loss: 9.0571 - val_acc: 0.0233\n",
      "Epoch 161/200\n",
      "19/19 [==============================] - 0s 7ms/step - loss: 1.0447 - acc: 0.7375 - val_loss: 9.1629 - val_acc: 0.0250\n",
      "Epoch 162/200\n",
      "19/19 [==============================] - 0s 7ms/step - loss: 1.0345 - acc: 0.7408 - val_loss: 9.1356 - val_acc: 0.0267\n",
      "Epoch 163/200\n",
      "19/19 [==============================] - 0s 7ms/step - loss: 1.0246 - acc: 0.7450 - val_loss: 9.1536 - val_acc: 0.0233\n",
      "Epoch 164/200\n",
      "19/19 [==============================] - 0s 7ms/step - loss: 1.0129 - acc: 0.7483 - val_loss: 9.3635 - val_acc: 0.0217\n",
      "Epoch 165/200\n",
      "19/19 [==============================] - 0s 7ms/step - loss: 1.0017 - acc: 0.7467 - val_loss: 9.1907 - val_acc: 0.0250\n",
      "Epoch 166/200\n",
      "19/19 [==============================] - 0s 7ms/step - loss: 0.9902 - acc: 0.7558 - val_loss: 9.2960 - val_acc: 0.0267\n",
      "Epoch 167/200\n",
      "19/19 [==============================] - 0s 7ms/step - loss: 0.9817 - acc: 0.7642 - val_loss: 9.3879 - val_acc: 0.0250\n",
      "Epoch 168/200\n",
      "19/19 [==============================] - 0s 7ms/step - loss: 0.9788 - acc: 0.7550 - val_loss: 9.3482 - val_acc: 0.0250\n",
      "Epoch 169/200\n",
      "19/19 [==============================] - 0s 7ms/step - loss: 0.9657 - acc: 0.7592 - val_loss: 9.4234 - val_acc: 0.0217\n",
      "Epoch 170/200\n",
      "19/19 [==============================] - 0s 7ms/step - loss: 0.9691 - acc: 0.7600 - val_loss: 9.6008 - val_acc: 0.0300\n",
      "Epoch 171/200\n",
      "19/19 [==============================] - 0s 7ms/step - loss: 0.9465 - acc: 0.7667 - val_loss: 9.4835 - val_acc: 0.0233\n",
      "Epoch 172/200\n",
      "19/19 [==============================] - 0s 7ms/step - loss: 0.9345 - acc: 0.7750 - val_loss: 9.4826 - val_acc: 0.0233\n",
      "Epoch 173/200\n",
      "19/19 [==============================] - 0s 7ms/step - loss: 0.9245 - acc: 0.7692 - val_loss: 9.6646 - val_acc: 0.0217\n",
      "Epoch 174/200\n",
      "19/19 [==============================] - 0s 7ms/step - loss: 0.9170 - acc: 0.7758 - val_loss: 9.6174 - val_acc: 0.0250\n",
      "Epoch 175/200\n",
      "19/19 [==============================] - 0s 7ms/step - loss: 0.9136 - acc: 0.7775 - val_loss: 9.7441 - val_acc: 0.0233\n",
      "Epoch 176/200\n",
      "19/19 [==============================] - 0s 7ms/step - loss: 0.9135 - acc: 0.7817 - val_loss: 9.7528 - val_acc: 0.0267\n",
      "Epoch 177/200\n",
      "19/19 [==============================] - 0s 6ms/step - loss: 0.8992 - acc: 0.7742 - val_loss: 9.6830 - val_acc: 0.0267\n",
      "Epoch 178/200\n",
      "19/19 [==============================] - 0s 7ms/step - loss: 0.8827 - acc: 0.7833 - val_loss: 9.7784 - val_acc: 0.0233\n",
      "Epoch 179/200\n",
      "19/19 [==============================] - 0s 7ms/step - loss: 0.8695 - acc: 0.7783 - val_loss: 9.8190 - val_acc: 0.0233\n",
      "Epoch 180/200\n",
      "19/19 [==============================] - 0s 7ms/step - loss: 0.8664 - acc: 0.7842 - val_loss: 9.8484 - val_acc: 0.0250\n",
      "Epoch 181/200\n",
      "19/19 [==============================] - 0s 7ms/step - loss: 0.8664 - acc: 0.7758 - val_loss: 9.9211 - val_acc: 0.0300\n",
      "Epoch 182/200\n",
      "19/19 [==============================] - 0s 7ms/step - loss: 0.8599 - acc: 0.7892 - val_loss: 9.9978 - val_acc: 0.0200\n",
      "Epoch 183/200\n"
     ]
    },
    {
     "name": "stdout",
     "output_type": "stream",
     "text": [
      "19/19 [==============================] - 0s 7ms/step - loss: 0.8466 - acc: 0.7917 - val_loss: 10.0271 - val_acc: 0.0217\n",
      "Epoch 184/200\n",
      "19/19 [==============================] - 0s 9ms/step - loss: 0.8369 - acc: 0.8000 - val_loss: 10.0482 - val_acc: 0.0267\n",
      "Epoch 185/200\n",
      "19/19 [==============================] - 0s 9ms/step - loss: 0.8223 - acc: 0.8033 - val_loss: 10.0878 - val_acc: 0.0233\n",
      "Epoch 186/200\n",
      "19/19 [==============================] - 0s 9ms/step - loss: 0.8227 - acc: 0.7900 - val_loss: 10.1191 - val_acc: 0.0267\n",
      "Epoch 187/200\n",
      "19/19 [==============================] - 0s 9ms/step - loss: 0.8092 - acc: 0.8025 - val_loss: 10.1256 - val_acc: 0.0200\n",
      "Epoch 188/200\n",
      "19/19 [==============================] - 0s 8ms/step - loss: 0.7982 - acc: 0.8042 - val_loss: 10.1390 - val_acc: 0.0233\n",
      "Epoch 189/200\n",
      "19/19 [==============================] - 0s 11ms/step - loss: 0.7963 - acc: 0.8050 - val_loss: 10.2113 - val_acc: 0.0233\n",
      "Epoch 190/200\n",
      "19/19 [==============================] - 0s 9ms/step - loss: 0.7979 - acc: 0.8008 - val_loss: 10.1991 - val_acc: 0.0200\n",
      "Epoch 191/200\n",
      "19/19 [==============================] - 0s 8ms/step - loss: 0.7833 - acc: 0.7975 - val_loss: 10.2721 - val_acc: 0.0267\n",
      "Epoch 192/200\n",
      "19/19 [==============================] - 0s 8ms/step - loss: 0.7765 - acc: 0.8058 - val_loss: 10.3732 - val_acc: 0.0267\n",
      "Epoch 193/200\n",
      "19/19 [==============================] - 0s 7ms/step - loss: 0.7693 - acc: 0.8058 - val_loss: 10.4075 - val_acc: 0.0233\n",
      "Epoch 194/200\n",
      "19/19 [==============================] - 0s 8ms/step - loss: 0.7565 - acc: 0.8075 - val_loss: 10.4023 - val_acc: 0.0267\n",
      "Epoch 195/200\n",
      "19/19 [==============================] - 0s 8ms/step - loss: 0.7520 - acc: 0.8108 - val_loss: 10.4996 - val_acc: 0.0267\n",
      "Epoch 196/200\n",
      "19/19 [==============================] - 0s 8ms/step - loss: 0.7558 - acc: 0.8133 - val_loss: 10.4611 - val_acc: 0.0267\n",
      "Epoch 197/200\n",
      "19/19 [==============================] - 0s 9ms/step - loss: 0.7393 - acc: 0.8058 - val_loss: 10.5555 - val_acc: 0.0250\n",
      "Epoch 198/200\n",
      "19/19 [==============================] - 0s 8ms/step - loss: 0.7402 - acc: 0.8192 - val_loss: 10.5235 - val_acc: 0.0250\n",
      "Epoch 199/200\n",
      "19/19 [==============================] - 0s 8ms/step - loss: 0.7371 - acc: 0.8108 - val_loss: 10.5499 - val_acc: 0.0233\n",
      "Epoch 200/200\n",
      "19/19 [==============================] - 0s 8ms/step - loss: 0.7233 - acc: 0.8133 - val_loss: 10.6123 - val_acc: 0.0233\n"
     ]
    },
    {
     "data": {
      "text/plain": [
       "<keras.callbacks.History at 0x250b0e87ac8>"
      ]
     },
     "execution_count": 13,
     "metadata": {},
     "output_type": "execute_result"
    }
   ],
   "source": [
    "model.fit(X_train, y_train, batch_size=64, epochs=200, verbose=1, validation_data=(X_valid, y_valid))"
   ]
  },
  {
   "cell_type": "markdown",
   "id": "7a580bdf",
   "metadata": {},
   "source": [
    "### 번호 리스트를 반환하는  함수"
   ]
  },
  {
   "cell_type": "code",
   "execution_count": 14,
   "id": "514f6385",
   "metadata": {},
   "outputs": [],
   "source": [
    "from tensorflow.keras.preprocessing.sequence import pad_sequences\n",
    "\n",
    "def seq_generate(model, input_num, verbose=False): \n",
    "    sequence = [input_num]\n",
    "\n",
    "    while len(sequence) < 7:\n",
    "        encoded = pad_sequences([sequence], maxlen=7, padding='pre')\n",
    "        result = model.predict(encoded, verbose=0)\n",
    "        \n",
    "        mask = np.zeros(result.size, dtype=bool)\n",
    "        mask[sequence] = True\n",
    "        result = np.ma.array(result, mask=mask)\n",
    "        result = np.argmax(result)\n",
    "\n",
    "        sequence.append(result)\n",
    "        \n",
    "        if verbose:\n",
    "            print(\"sequence:\", sequence)\n",
    "\n",
    "    return sorted(sequence)"
   ]
  },
  {
   "cell_type": "markdown",
   "id": "8f70f70e",
   "metadata": {},
   "source": [
    "테스트"
   ]
  },
  {
   "cell_type": "code",
   "execution_count": 15,
   "id": "a7d164af",
   "metadata": {},
   "outputs": [
    {
     "name": "stdout",
     "output_type": "stream",
     "text": [
      "[[8.5095708e-09 5.0475635e-02 1.4916737e-02 5.2217231e-03 1.6453274e-02\n",
      "  4.6614272e-04 2.9396923e-02 9.0002175e-03 5.6463038e-03 1.8540542e-03\n",
      "  3.9272100e-02 9.9931434e-03 1.3215270e-02 3.2859560e-02 1.0931239e-02\n",
      "  3.8559623e-03 1.5812807e-01 7.9926159e-03 1.0877895e-02 6.3872333e-03\n",
      "  1.9156858e-02 3.8293794e-02 5.3250906e-03 6.3032908e-03 2.7714429e-02\n",
      "  4.0104501e-02 2.9822856e-02 4.0897027e-02 1.2188581e-02 5.4159358e-02\n",
      "  2.9835917e-02 9.5585017e-03 9.3834493e-03 6.0571460e-03 1.9497153e-03\n",
      "  1.1005402e-02 1.0856250e-03 5.6884643e-03 7.8774123e-03 4.1336790e-02\n",
      "  3.7873950e-02 5.5150464e-03 7.7810460e-03 4.5594342e-02 3.5852563e-02\n",
      "  4.2694755e-02]]\n",
      "16\n",
      "sequence: [2, 16]\n",
      "sequence: [2, 16, 37]\n",
      "sequence: [2, 16, 37, 10]\n",
      "sequence: [2, 16, 37, 10, 35]\n",
      "sequence: [2, 16, 37, 10, 35, 6]\n",
      "sequence: [2, 16, 37, 10, 35, 6, 22]\n"
     ]
    },
    {
     "data": {
      "text/plain": [
       "[2, 6, 10, 16, 22, 35, 37]"
      ]
     },
     "execution_count": 15,
     "metadata": {},
     "output_type": "execute_result"
    }
   ],
   "source": [
    "test_num = 2\n",
    "seq = [[test_num]]\n",
    "encoded = pad_sequences(seq, maxlen=7, padding='pre')\n",
    "result = model.predict(encoded, verbose=0)\n",
    "\n",
    "print(result)\n",
    "print(np.argmax(result))\n",
    "\n",
    "seq_generate(model, test_num, verbose=True)"
   ]
  },
  {
   "cell_type": "markdown",
   "id": "9429329e",
   "metadata": {},
   "source": [
    "### 수행 결과"
   ]
  },
  {
   "cell_type": "markdown",
   "id": "c1c2bb11",
   "metadata": {},
   "source": [
    "첫번째로 나오는 번호 빈도순으로 출력"
   ]
  },
  {
   "cell_type": "code",
   "execution_count": 16,
   "id": "d4e11613",
   "metadata": {},
   "outputs": [
    {
     "data": {
      "text/plain": [
       "37    35\n",
       "25    31\n",
       "26    31\n",
       "23    29\n",
       "4     28\n",
       "45    28\n",
       "Name: 1, dtype: int64"
      ]
     },
     "execution_count": 16,
     "metadata": {},
     "output_type": "execute_result"
    }
   ],
   "source": [
    "first_num = df['1'].value_counts()[:6]\n",
    "first_num"
   ]
  },
  {
   "cell_type": "code",
   "execution_count": 17,
   "id": "47cd235b",
   "metadata": {},
   "outputs": [
    {
     "name": "stdout",
     "output_type": "stream",
     "text": [
      "37: [12, 14, 18, 26, 37, 40, 44]\n",
      "25: [4, 8, 13, 25, 32, 38, 44]\n",
      "26: [2, 8, 14, 23, 26, 43, 44]\n",
      "23: [12, 13, 23, 28, 39, 43, 44]\n",
      " 4: [4, 9, 24, 26, 27, 37, 45]\n",
      "45: [1, 12, 13, 14, 30, 44, 45]\n"
     ]
    }
   ],
   "source": [
    "for num, _ in first_num.iteritems():\n",
    "    print(f\"{num:2}:\", seq_generate(model, num))"
   ]
  },
  {
   "cell_type": "markdown",
   "id": "7b141395",
   "metadata": {},
   "source": [
    "모든 숫자에 대해 결과 출력"
   ]
  },
  {
   "cell_type": "code",
   "execution_count": 18,
   "id": "21196cbd",
   "metadata": {},
   "outputs": [
    {
     "name": "stdout",
     "output_type": "stream",
     "text": [
      " 1: [1, 10, 16, 24, 26, 36, 37]\n",
      " 2: [2, 6, 10, 16, 22, 35, 37]\n",
      " 3: [3, 4, 10, 16, 39, 43, 44]\n",
      " 4: [4, 9, 24, 26, 27, 37, 45]\n",
      " 5: [5, 10, 16, 24, 29, 34, 39]\n",
      " 6: [2, 6, 10, 15, 16, 17, 39]\n",
      " 7: [7, 16, 20, 21, 24, 26, 37]\n",
      " 8: [2, 8, 18, 20, 23, 24, 26]\n",
      " 9: [1, 3, 9, 14, 28, 29, 34]\n",
      "10: [6, 10, 12, 13, 14, 18, 43]\n",
      "11: [6, 7, 11, 19, 24, 32, 33]\n",
      "12: [3, 11, 12, 13, 14, 43, 44]\n",
      "13: [3, 13, 14, 25, 34, 43, 44]\n",
      "14: [14, 24, 28, 31, 39, 40, 44]\n",
      "15: [4, 15, 21, 28, 29, 43, 44]\n",
      "16: [2, 6, 7, 11, 16, 36, 39]\n",
      "17: [7, 11, 13, 17, 29, 36, 39]\n",
      "18: [16, 18, 22, 27, 28, 37, 38]\n",
      "19: [13, 16, 19, 35, 36, 39, 44]\n",
      "20: [13, 20, 24, 27, 29, 43, 44]\n",
      "21: [1, 21, 25, 29, 33, 34, 37]\n",
      "22: [1, 3, 22, 24, 27, 36, 39]\n",
      "23: [12, 13, 23, 28, 39, 43, 44]\n",
      "24: [1, 3, 8, 24, 27, 28, 35]\n",
      "25: [4, 8, 13, 25, 32, 38, 44]\n",
      "26: [2, 8, 14, 23, 26, 43, 44]\n",
      "27: [3, 25, 27, 31, 32, 36, 43]\n",
      "28: [2, 21, 26, 28, 33, 37, 43]\n",
      "29: [2, 4, 10, 28, 29, 30, 36]\n",
      "30: [16, 19, 26, 27, 30, 41, 45]\n",
      "31: [8, 10, 16, 26, 31, 36, 37]\n",
      "32: [10, 11, 13, 24, 29, 32, 44]\n",
      "33: [31, 32, 33, 36, 41, 42, 43]\n",
      "34: [1, 10, 25, 31, 34, 41, 43]\n",
      "35: [10, 14, 16, 18, 35, 43, 44]\n",
      "36: [2, 4, 25, 26, 27, 36, 37]\n",
      "37: [12, 14, 18, 26, 37, 40, 44]\n",
      "38: [8, 11, 15, 21, 31, 33, 38]\n",
      "39: [1, 3, 24, 27, 35, 39, 42]\n",
      "40: [10, 11, 16, 33, 40, 43, 44]\n",
      "41: [4, 7, 12, 22, 24, 33, 41]\n",
      "42: [3, 11, 13, 34, 42, 43, 44]\n",
      "43: [3, 10, 29, 33, 34, 43, 44]\n",
      "44: [1, 10, 16, 18, 27, 31, 44]\n",
      "45: [1, 12, 13, 14, 30, 44, 45]\n"
     ]
    }
   ],
   "source": [
    "for i in range(1, 46):\n",
    "    print(f\"{i:2}:\", seq_generate(model, i))"
   ]
  },
  {
   "cell_type": "code",
   "execution_count": null,
   "id": "325b871b",
   "metadata": {},
   "outputs": [],
   "source": []
  }
 ],
 "metadata": {
  "kernelspec": {
   "display_name": "Python 3",
   "language": "python",
   "name": "python3"
  },
  "language_info": {
   "codemirror_mode": {
    "name": "ipython",
    "version": 3
   },
   "file_extension": ".py",
   "mimetype": "text/x-python",
   "name": "python",
   "nbconvert_exporter": "python",
   "pygments_lexer": "ipython3",
   "version": "3.6.3"
  }
 },
 "nbformat": 4,
 "nbformat_minor": 5
}
